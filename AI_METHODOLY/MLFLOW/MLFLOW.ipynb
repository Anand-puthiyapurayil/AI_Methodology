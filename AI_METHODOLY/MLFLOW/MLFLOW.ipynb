{
 "cells": [
  {
   "cell_type": "code",
   "execution_count": 1,
   "id": "6c1fbee5",
   "metadata": {},
   "outputs": [],
   "source": [
    "from pathlib import Path\n",
    "\n",
    "import pandas as pd\n",
    "import sys\n",
    "sys.path.append('..')\n",
    "import warnings\n",
    "warnings.filterwarnings('ignore')"
   ]
  },
  {
   "cell_type": "code",
   "execution_count": 2,
   "id": "ebcbea92",
   "metadata": {},
   "outputs": [],
   "source": [
    "from datetime import datetime\n",
    "\n",
    "import mlflow\n",
    "import pandas as pd\n",
    "from sklearn.model_selection import train_test_split\n",
    "\n",
    "from sklearn.metrics import mean_squared_error\n",
    "\n",
    "pd.set_option(\"display.max_columns\", None)"
   ]
  },
  {
   "cell_type": "code",
   "execution_count": 3,
   "id": "589caa05",
   "metadata": {},
   "outputs": [],
   "source": [
    "\n",
    "from joblib import dump,load\n",
    "from sklearn.ensemble import RandomForestClassifier\n",
    "from src.app.preprocess import preprocess\n",
    "from sklearn.metrics import classification_report\n",
    "from sklearn.metrics import accuracy_score\n",
    "from pathlib import Path\n",
    "DATA_DIR = Path(r'../../../AI_Methodology/AI_METHODOLY/data/external/')\n",
    "PREDICTION_DIR = Path(r'../../../AI_Methodology/AI_METHODOLY/data/Predictions/')\n",
    "MODEL_DIR=Path(r'../../../AI_Methodology/AI_METHODOLY/models/')\n",
    "df_master= pd.read_excel(DATA_DIR/\"Employee_Perfomance.xls\",index_col='EmpNumber')\n",
    "\n"
   ]
  },
  {
   "cell_type": "code",
   "execution_count": 4,
   "id": "3db771f0",
   "metadata": {},
   "outputs": [],
   "source": [
    "def build_model(data: pd.DataFrame):\n",
    "    target = data['PerformanceRating']\n",
    "    train = data.drop(['PerformanceRating'], axis=1)\n",
    "    processedtrain= preprocess(train, MODEL_DIR)\n",
    "    x_train , x_test , y_train , y_test = train_test_split(processedtrain,target,test_size=0.2)\n",
    "    rfc = RandomForestClassifier(n_estimators=10000, random_state=0, n_jobs=-1)\n",
    "    rfc.fit(x_train, y_train)\n",
    "    dump(rfc,MODEL_DIR/'RFC.joblib')\n",
    "    predict = rfc.predict(x_test)\n",
    "    print(f\"The accuracy score is : {accuracy_score(y_test, predict) * 100}%\")\n",
    "    print (classification_report(y_test,predict))\n",
    "    return   "
   ]
  },
  {
   "cell_type": "code",
   "execution_count": 5,
   "id": "534ac624",
   "metadata": {},
   "outputs": [
    {
     "name": "stdout",
     "output_type": "stream",
     "text": [
      "The accuracy score is : 91.25%\n",
      "              precision    recall  f1-score   support\n",
      "\n",
      "           2       0.91      0.79      0.85        52\n",
      "           3       0.91      0.98      0.94       173\n",
      "           4       1.00      0.60      0.75        15\n",
      "\n",
      "    accuracy                           0.91       240\n",
      "   macro avg       0.94      0.79      0.85       240\n",
      "weighted avg       0.91      0.91      0.91       240\n",
      "\n"
     ]
    }
   ],
   "source": [
    "build_model(df_master)"
   ]
  },
  {
   "cell_type": "code",
   "execution_count": 6,
   "id": "9e678d31",
   "metadata": {},
   "outputs": [],
   "source": [
    "def inference(data: pd.DataFrame,max_depth):\n",
    "    target = data['PerformanceRating']\n",
    "    train = data.drop(['PerformanceRating'], axis=1)\n",
    "    processedtrain= preprocess(train, MODEL_DIR)\n",
    "    x_train , x_test , y_train , y_test = train_test_split(processedtrain,target,test_size=0.2)\n",
    "    \n",
    "    rfc = RandomForestClassifier(n_estimators=10000, random_state=0, n_jobs=-1,max_depth=max_depth)\n",
    "    rfc.fit(x_train, y_train)\n",
    "    y_pred = rfc.predict(x_test)\n",
    "    mse = mean_squared_error(y_test, y_pred)\n",
    "    rmse = mean_squared_error(y_test, y_pred, squared=False)\n",
    "    print(f\"Test mse = {mse}, Test RMSE = {rmse}, Random forest max depth = {max_depth}\")\n",
    "    return rfc, mse, rmse"
   ]
  },
  {
   "cell_type": "code",
   "execution_count": 7,
   "id": "b271a5bc",
   "metadata": {},
   "outputs": [
    {
     "name": "stdout",
     "output_type": "stream",
     "text": [
      "Test mse = 0.30416666666666664, Test RMSE = 0.5515130702591432, Random forest max depth = 2\n"
     ]
    }
   ],
   "source": [
    "_=inference(df_master,2)"
   ]
  },
  {
   "cell_type": "code",
   "execution_count": 8,
   "id": "9b565fb2",
   "metadata": {},
   "outputs": [
    {
     "name": "stdout",
     "output_type": "stream",
     "text": [
      "Test mse = 0.2375, Test RMSE = 0.48733971724044817, Random forest max depth = 2\n",
      "Test mse = 0.275, Test RMSE = 0.5244044240850758, Random forest max depth = 4\n",
      "Test mse = 0.2, Test RMSE = 0.4472135954999579, Random forest max depth = 6\n"
     ]
    }
   ],
   "source": [
    "for max_depth in range(2, 7, 2):\n",
    "    _ = inference(df_master, max_depth=max_depth)"
   ]
  },
  {
   "cell_type": "markdown",
   "id": "953ea0ad",
   "metadata": {},
   "source": [
    "## MLFLOW"
   ]
  },
  {
   "cell_type": "code",
   "execution_count": 9,
   "id": "cb270dd0",
   "metadata": {},
   "outputs": [
    {
     "name": "stderr",
     "output_type": "stream",
     "text": [
      "2022/07/30 17:19:11 INFO mlflow.tracking.fluent: Experiment with name 'prediction_with_random_forest' does not exist. Creating a new experiment.\n"
     ]
    },
    {
     "data": {
      "text/plain": [
       "<Experiment: artifact_location='file:///C:/Users/Anand/AI_Methodology/AI_METHODOLY/MLFLOW/mlruns/1', experiment_id='1', lifecycle_stage='active', name='prediction_with_random_forest', tags={}>"
      ]
     },
     "execution_count": 9,
     "metadata": {},
     "output_type": "execute_result"
    }
   ],
   "source": [
    "randomforest_exp = \"prediction_with_random_forest\"\n",
    "mlflow.set_experiment(randomforest_exp)"
   ]
  },
  {
   "cell_type": "code",
   "execution_count": 10,
   "id": "31b1a539",
   "metadata": {},
   "outputs": [
    {
     "name": "stdout",
     "output_type": "stream",
     "text": [
      " Volume in drive C is Windows\n",
      " Volume Serial Number is 549E-A9F0\n",
      "\n",
      " Directory of C:\\Users\\Anand\\AI_Methodology\\AI_METHODOLY\\MLFLOW\n",
      "\n",
      "30-07-2022  17:19    <DIR>          .\n",
      "30-07-2022  17:19    <DIR>          ..\n",
      "30-07-2022  17:11    <DIR>          .ipynb_checkpoints\n",
      "30-07-2022  17:18            39,539 MLFLOW.ipynb\n",
      "30-07-2022  17:19    <DIR>          mlruns\n",
      "               1 File(s)         39,539 bytes\n",
      "               4 Dir(s)  15,345,770,496 bytes free\n"
     ]
    }
   ],
   "source": [
    "ls\n"
   ]
  },
  {
   "cell_type": "code",
   "execution_count": 11,
   "id": "093566ee",
   "metadata": {},
   "outputs": [],
   "source": [
    "def train_model(data: pd.DataFrame,max_depth):\n",
    "    with mlflow.start_run():\n",
    "        \n",
    "        \n",
    "        target = data['PerformanceRating']\n",
    "        train = data.drop(['PerformanceRating'], axis=1)\n",
    "        processedtrain= preprocess(train, MODEL_DIR)\n",
    "        x_train , x_test , y_train , y_test = train_test_split(processedtrain,target,test_size=0.2)\n",
    "    \n",
    "        rfc = RandomForestClassifier(n_estimators=10000, random_state=0, n_jobs=-1,max_depth=max_depth)\n",
    "        rfc.fit(x_train, y_train)\n",
    "        mlflow.log_param(\"max_depth\", max_depth)\n",
    "        mlflow.sklearn.log_model(rfc, \"model\")\n",
    "        y_pred = rfc.predict(x_test)\n",
    "        mse = mean_squared_error(y_test, y_pred)\n",
    "        rmse = mean_squared_error(y_test, y_pred, squared=False)\n",
    "        mlflow.log_metrics({\"testing_mse\": mse, \"testing_rmse\": rmse})\n",
    "        print(f\"Test mse = {mse}, Test RMSE = {rmse}, Random forest max depth = {max_depth}\")"
   ]
  },
  {
   "cell_type": "code",
   "execution_count": 12,
   "id": "1fc170e9",
   "metadata": {},
   "outputs": [
    {
     "name": "stdout",
     "output_type": "stream",
     "text": [
      "Test mse = 0.2375, Test RMSE = 0.48733971724044817, Random forest max depth = 2\n",
      "Test mse = 0.2875, Test RMSE = 0.5361902647381804, Random forest max depth = 4\n",
      "Test mse = 0.225, Test RMSE = 0.4743416490252569, Random forest max depth = 6\n"
     ]
    }
   ],
   "source": [
    "for max_depth in range(2, 7, 2):\n",
    "    _ = train_model(df_master, max_depth=max_depth)"
   ]
  },
  {
   "cell_type": "code",
   "execution_count": 13,
   "id": "0dbf1f52",
   "metadata": {},
   "outputs": [
    {
     "data": {
      "text/plain": [
       "<Experiment: artifact_location='file:///C:/Users/Anand/AI_Methodology/AI_METHODOLY/MLFLOW/mlruns/1', experiment_id='1', lifecycle_stage='active', name='prediction_with_random_forest', tags={}>"
      ]
     },
     "execution_count": 13,
     "metadata": {},
     "output_type": "execute_result"
    }
   ],
   "source": [
    "mlflow.get_experiment_by_name(randomforest_exp)"
   ]
  },
  {
   "cell_type": "code",
   "execution_count": 14,
   "id": "75c0f54d",
   "metadata": {},
   "outputs": [
    {
     "data": {
      "text/plain": [
       "'1'"
      ]
     },
     "execution_count": 14,
     "metadata": {},
     "output_type": "execute_result"
    }
   ],
   "source": [
    "experiment_id = mlflow.get_experiment_by_name(randomforest_exp).experiment_id\n",
    "experiment_id"
   ]
  },
  {
   "cell_type": "code",
   "execution_count": 15,
   "id": "c6f5434f",
   "metadata": {},
   "outputs": [
    {
     "data": {
      "text/html": [
       "<div>\n",
       "<style scoped>\n",
       "    .dataframe tbody tr th:only-of-type {\n",
       "        vertical-align: middle;\n",
       "    }\n",
       "\n",
       "    .dataframe tbody tr th {\n",
       "        vertical-align: top;\n",
       "    }\n",
       "\n",
       "    .dataframe thead th {\n",
       "        text-align: right;\n",
       "    }\n",
       "</style>\n",
       "<table border=\"1\" class=\"dataframe\">\n",
       "  <thead>\n",
       "    <tr style=\"text-align: right;\">\n",
       "      <th></th>\n",
       "      <th>run_id</th>\n",
       "      <th>experiment_id</th>\n",
       "      <th>status</th>\n",
       "      <th>artifact_uri</th>\n",
       "      <th>start_time</th>\n",
       "      <th>end_time</th>\n",
       "      <th>metrics.testing_rmse</th>\n",
       "      <th>metrics.testing_mse</th>\n",
       "      <th>params.max_depth</th>\n",
       "      <th>tags.mlflow.source.type</th>\n",
       "      <th>tags.mlflow.user</th>\n",
       "      <th>tags.mlflow.source.name</th>\n",
       "      <th>tags.mlflow.log-model.history</th>\n",
       "    </tr>\n",
       "  </thead>\n",
       "  <tbody>\n",
       "    <tr>\n",
       "      <th>0</th>\n",
       "      <td>caaaf489d0464fd09131ad2a04ba0ff3</td>\n",
       "      <td>1</td>\n",
       "      <td>FINISHED</td>\n",
       "      <td>file:///C:/Users/Anand/AI_Methodology/AI_METHO...</td>\n",
       "      <td>2022-07-30 15:20:32.801000+00:00</td>\n",
       "      <td>2022-07-30 15:20:57.492000+00:00</td>\n",
       "      <td>0.474342</td>\n",
       "      <td>0.2250</td>\n",
       "      <td>6</td>\n",
       "      <td>LOCAL</td>\n",
       "      <td>Anand</td>\n",
       "      <td>C:\\Users\\Anand\\.conda\\envs\\aimethodology\\lib\\s...</td>\n",
       "      <td>[{\"run_id\": \"caaaf489d0464fd09131ad2a04ba0ff3\"...</td>\n",
       "    </tr>\n",
       "    <tr>\n",
       "      <th>1</th>\n",
       "      <td>df171021563446309749bb2bd6fc9857</td>\n",
       "      <td>1</td>\n",
       "      <td>FINISHED</td>\n",
       "      <td>file:///C:/Users/Anand/AI_Methodology/AI_METHO...</td>\n",
       "      <td>2022-07-30 15:20:07.996000+00:00</td>\n",
       "      <td>2022-07-30 15:20:32.769000+00:00</td>\n",
       "      <td>0.536190</td>\n",
       "      <td>0.2875</td>\n",
       "      <td>4</td>\n",
       "      <td>LOCAL</td>\n",
       "      <td>Anand</td>\n",
       "      <td>C:\\Users\\Anand\\.conda\\envs\\aimethodology\\lib\\s...</td>\n",
       "      <td>[{\"run_id\": \"df171021563446309749bb2bd6fc9857\"...</td>\n",
       "    </tr>\n",
       "    <tr>\n",
       "      <th>2</th>\n",
       "      <td>e432be3cf0064e539753b6ee31a69c28</td>\n",
       "      <td>1</td>\n",
       "      <td>FINISHED</td>\n",
       "      <td>file:///C:/Users/Anand/AI_Methodology/AI_METHO...</td>\n",
       "      <td>2022-07-30 15:19:42.156000+00:00</td>\n",
       "      <td>2022-07-30 15:20:07.969000+00:00</td>\n",
       "      <td>0.487340</td>\n",
       "      <td>0.2375</td>\n",
       "      <td>2</td>\n",
       "      <td>LOCAL</td>\n",
       "      <td>Anand</td>\n",
       "      <td>C:\\Users\\Anand\\.conda\\envs\\aimethodology\\lib\\s...</td>\n",
       "      <td>[{\"run_id\": \"e432be3cf0064e539753b6ee31a69c28\"...</td>\n",
       "    </tr>\n",
       "  </tbody>\n",
       "</table>\n",
       "</div>"
      ],
      "text/plain": [
       "                             run_id experiment_id    status  \\\n",
       "0  caaaf489d0464fd09131ad2a04ba0ff3             1  FINISHED   \n",
       "1  df171021563446309749bb2bd6fc9857             1  FINISHED   \n",
       "2  e432be3cf0064e539753b6ee31a69c28             1  FINISHED   \n",
       "\n",
       "                                        artifact_uri  \\\n",
       "0  file:///C:/Users/Anand/AI_Methodology/AI_METHO...   \n",
       "1  file:///C:/Users/Anand/AI_Methodology/AI_METHO...   \n",
       "2  file:///C:/Users/Anand/AI_Methodology/AI_METHO...   \n",
       "\n",
       "                        start_time                         end_time  \\\n",
       "0 2022-07-30 15:20:32.801000+00:00 2022-07-30 15:20:57.492000+00:00   \n",
       "1 2022-07-30 15:20:07.996000+00:00 2022-07-30 15:20:32.769000+00:00   \n",
       "2 2022-07-30 15:19:42.156000+00:00 2022-07-30 15:20:07.969000+00:00   \n",
       "\n",
       "   metrics.testing_rmse  metrics.testing_mse params.max_depth  \\\n",
       "0              0.474342               0.2250                6   \n",
       "1              0.536190               0.2875                4   \n",
       "2              0.487340               0.2375                2   \n",
       "\n",
       "  tags.mlflow.source.type tags.mlflow.user  \\\n",
       "0                   LOCAL            Anand   \n",
       "1                   LOCAL            Anand   \n",
       "2                   LOCAL            Anand   \n",
       "\n",
       "                             tags.mlflow.source.name  \\\n",
       "0  C:\\Users\\Anand\\.conda\\envs\\aimethodology\\lib\\s...   \n",
       "1  C:\\Users\\Anand\\.conda\\envs\\aimethodology\\lib\\s...   \n",
       "2  C:\\Users\\Anand\\.conda\\envs\\aimethodology\\lib\\s...   \n",
       "\n",
       "                       tags.mlflow.log-model.history  \n",
       "0  [{\"run_id\": \"caaaf489d0464fd09131ad2a04ba0ff3\"...  \n",
       "1  [{\"run_id\": \"df171021563446309749bb2bd6fc9857\"...  \n",
       "2  [{\"run_id\": \"e432be3cf0064e539753b6ee31a69c28\"...  "
      ]
     },
     "execution_count": 15,
     "metadata": {},
     "output_type": "execute_result"
    }
   ],
   "source": [
    "mlflow.search_runs(experiment_id)"
   ]
  },
  {
   "cell_type": "code",
   "execution_count": 16,
   "id": "c79bdfd7",
   "metadata": {},
   "outputs": [
    {
     "data": {
      "text/html": [
       "<div>\n",
       "<style scoped>\n",
       "    .dataframe tbody tr th:only-of-type {\n",
       "        vertical-align: middle;\n",
       "    }\n",
       "\n",
       "    .dataframe tbody tr th {\n",
       "        vertical-align: top;\n",
       "    }\n",
       "\n",
       "    .dataframe thead th {\n",
       "        text-align: right;\n",
       "    }\n",
       "</style>\n",
       "<table border=\"1\" class=\"dataframe\">\n",
       "  <thead>\n",
       "    <tr style=\"text-align: right;\">\n",
       "      <th></th>\n",
       "      <th>run_id</th>\n",
       "      <th>experiment_id</th>\n",
       "      <th>status</th>\n",
       "      <th>artifact_uri</th>\n",
       "      <th>start_time</th>\n",
       "      <th>end_time</th>\n",
       "      <th>metrics.testing_rmse</th>\n",
       "      <th>metrics.testing_mse</th>\n",
       "      <th>params.max_depth</th>\n",
       "      <th>tags.mlflow.source.type</th>\n",
       "      <th>tags.mlflow.user</th>\n",
       "      <th>tags.mlflow.source.name</th>\n",
       "      <th>tags.mlflow.log-model.history</th>\n",
       "    </tr>\n",
       "  </thead>\n",
       "  <tbody>\n",
       "    <tr>\n",
       "      <th>0</th>\n",
       "      <td>df171021563446309749bb2bd6fc9857</td>\n",
       "      <td>1</td>\n",
       "      <td>FINISHED</td>\n",
       "      <td>file:///C:/Users/Anand/AI_Methodology/AI_METHO...</td>\n",
       "      <td>2022-07-30 15:20:07.996000+00:00</td>\n",
       "      <td>2022-07-30 15:20:32.769000+00:00</td>\n",
       "      <td>0.53619</td>\n",
       "      <td>0.2875</td>\n",
       "      <td>4</td>\n",
       "      <td>LOCAL</td>\n",
       "      <td>Anand</td>\n",
       "      <td>C:\\Users\\Anand\\.conda\\envs\\aimethodology\\lib\\s...</td>\n",
       "      <td>[{\"run_id\": \"df171021563446309749bb2bd6fc9857\"...</td>\n",
       "    </tr>\n",
       "  </tbody>\n",
       "</table>\n",
       "</div>"
      ],
      "text/plain": [
       "                             run_id experiment_id    status  \\\n",
       "0  df171021563446309749bb2bd6fc9857             1  FINISHED   \n",
       "\n",
       "                                        artifact_uri  \\\n",
       "0  file:///C:/Users/Anand/AI_Methodology/AI_METHO...   \n",
       "\n",
       "                        start_time                         end_time  \\\n",
       "0 2022-07-30 15:20:07.996000+00:00 2022-07-30 15:20:32.769000+00:00   \n",
       "\n",
       "   metrics.testing_rmse  metrics.testing_mse params.max_depth  \\\n",
       "0               0.53619               0.2875                4   \n",
       "\n",
       "  tags.mlflow.source.type tags.mlflow.user  \\\n",
       "0                   LOCAL            Anand   \n",
       "\n",
       "                             tags.mlflow.source.name  \\\n",
       "0  C:\\Users\\Anand\\.conda\\envs\\aimethodology\\lib\\s...   \n",
       "\n",
       "                       tags.mlflow.log-model.history  \n",
       "0  [{\"run_id\": \"df171021563446309749bb2bd6fc9857\"...  "
      ]
     },
     "execution_count": 16,
     "metadata": {},
     "output_type": "execute_result"
    }
   ],
   "source": [
    "max_depth = 4\n",
    "mlflow.search_runs(\n",
    "    experiment_id,\n",
    "    filter_string=f\"params.max_depth = '{max_depth}' AND metrics.testing_mse <= 40\",\n",
    "    order_by=['metrics.testing_mse asc']\n",
    ")"
   ]
  },
  {
   "cell_type": "code",
   "execution_count": 17,
   "id": "834ffd01",
   "metadata": {},
   "outputs": [
    {
     "data": {
      "text/plain": [
       "run_id                                            df171021563446309749bb2bd6fc9857\n",
       "experiment_id                                                                    1\n",
       "status                                                                    FINISHED\n",
       "artifact_uri                     file:///C:/Users/Anand/AI_Methodology/AI_METHO...\n",
       "start_time                                        2022-07-30 15:20:07.996000+00:00\n",
       "end_time                                          2022-07-30 15:20:32.769000+00:00\n",
       "metrics.testing_rmse                                                       0.53619\n",
       "metrics.testing_mse                                                         0.2875\n",
       "params.max_depth                                                                 4\n",
       "tags.mlflow.source.type                                                      LOCAL\n",
       "tags.mlflow.user                                                             Anand\n",
       "tags.mlflow.source.name          C:\\Users\\Anand\\.conda\\envs\\aimethodology\\lib\\s...\n",
       "tags.mlflow.log-model.history    [{\"run_id\": \"df171021563446309749bb2bd6fc9857\"...\n",
       "Name: 0, dtype: object"
      ]
     },
     "execution_count": 17,
     "metadata": {},
     "output_type": "execute_result"
    }
   ],
   "source": [
    "run = mlflow.search_runs(\n",
    "    experiment_id,\n",
    "    filter_string=f\"params.max_depth = '{max_depth}' AND metrics.testing_mse <= 30\",\n",
    "    order_by=[\"metrics.testing_mse asc\"]\n",
    ").iloc[0]\n",
    "run"
   ]
  },
  {
   "cell_type": "code",
   "execution_count": 18,
   "id": "c4798cbb",
   "metadata": {},
   "outputs": [
    {
     "data": {
      "text/plain": [
       "'file:///C:/Users/Anand/AI_Methodology/AI_METHODOLY/MLFLOW/mlruns/1/df171021563446309749bb2bd6fc9857/artifacts'"
      ]
     },
     "execution_count": 18,
     "metadata": {},
     "output_type": "execute_result"
    }
   ],
   "source": [
    "run.artifact_uri"
   ]
  },
  {
   "cell_type": "code",
   "execution_count": 19,
   "id": "2f631cc9",
   "metadata": {},
   "outputs": [
    {
     "data": {
      "text/html": [
       "<style>#sk-container-id-1 {color: black;background-color: white;}#sk-container-id-1 pre{padding: 0;}#sk-container-id-1 div.sk-toggleable {background-color: white;}#sk-container-id-1 label.sk-toggleable__label {cursor: pointer;display: block;width: 100%;margin-bottom: 0;padding: 0.3em;box-sizing: border-box;text-align: center;}#sk-container-id-1 label.sk-toggleable__label-arrow:before {content: \"▸\";float: left;margin-right: 0.25em;color: #696969;}#sk-container-id-1 label.sk-toggleable__label-arrow:hover:before {color: black;}#sk-container-id-1 div.sk-estimator:hover label.sk-toggleable__label-arrow:before {color: black;}#sk-container-id-1 div.sk-toggleable__content {max-height: 0;max-width: 0;overflow: hidden;text-align: left;background-color: #f0f8ff;}#sk-container-id-1 div.sk-toggleable__content pre {margin: 0.2em;color: black;border-radius: 0.25em;background-color: #f0f8ff;}#sk-container-id-1 input.sk-toggleable__control:checked~div.sk-toggleable__content {max-height: 200px;max-width: 100%;overflow: auto;}#sk-container-id-1 input.sk-toggleable__control:checked~label.sk-toggleable__label-arrow:before {content: \"▾\";}#sk-container-id-1 div.sk-estimator input.sk-toggleable__control:checked~label.sk-toggleable__label {background-color: #d4ebff;}#sk-container-id-1 div.sk-label input.sk-toggleable__control:checked~label.sk-toggleable__label {background-color: #d4ebff;}#sk-container-id-1 input.sk-hidden--visually {border: 0;clip: rect(1px 1px 1px 1px);clip: rect(1px, 1px, 1px, 1px);height: 1px;margin: -1px;overflow: hidden;padding: 0;position: absolute;width: 1px;}#sk-container-id-1 div.sk-estimator {font-family: monospace;background-color: #f0f8ff;border: 1px dotted black;border-radius: 0.25em;box-sizing: border-box;margin-bottom: 0.5em;}#sk-container-id-1 div.sk-estimator:hover {background-color: #d4ebff;}#sk-container-id-1 div.sk-parallel-item::after {content: \"\";width: 100%;border-bottom: 1px solid gray;flex-grow: 1;}#sk-container-id-1 div.sk-label:hover label.sk-toggleable__label {background-color: #d4ebff;}#sk-container-id-1 div.sk-serial::before {content: \"\";position: absolute;border-left: 1px solid gray;box-sizing: border-box;top: 0;bottom: 0;left: 50%;z-index: 0;}#sk-container-id-1 div.sk-serial {display: flex;flex-direction: column;align-items: center;background-color: white;padding-right: 0.2em;padding-left: 0.2em;position: relative;}#sk-container-id-1 div.sk-item {position: relative;z-index: 1;}#sk-container-id-1 div.sk-parallel {display: flex;align-items: stretch;justify-content: center;background-color: white;position: relative;}#sk-container-id-1 div.sk-item::before, #sk-container-id-1 div.sk-parallel-item::before {content: \"\";position: absolute;border-left: 1px solid gray;box-sizing: border-box;top: 0;bottom: 0;left: 50%;z-index: -1;}#sk-container-id-1 div.sk-parallel-item {display: flex;flex-direction: column;z-index: 1;position: relative;background-color: white;}#sk-container-id-1 div.sk-parallel-item:first-child::after {align-self: flex-end;width: 50%;}#sk-container-id-1 div.sk-parallel-item:last-child::after {align-self: flex-start;width: 50%;}#sk-container-id-1 div.sk-parallel-item:only-child::after {width: 0;}#sk-container-id-1 div.sk-dashed-wrapped {border: 1px dashed gray;margin: 0 0.4em 0.5em 0.4em;box-sizing: border-box;padding-bottom: 0.4em;background-color: white;}#sk-container-id-1 div.sk-label label {font-family: monospace;font-weight: bold;display: inline-block;line-height: 1.2em;}#sk-container-id-1 div.sk-label-container {text-align: center;}#sk-container-id-1 div.sk-container {/* jupyter's `normalize.less` sets `[hidden] { display: none; }` but bootstrap.min.css set `[hidden] { display: none !important; }` so we also need the `!important` here to be able to override the default hidden behavior on the sphinx rendered scikit-learn.org. See: https://github.com/scikit-learn/scikit-learn/issues/21755 */display: inline-block !important;position: relative;}#sk-container-id-1 div.sk-text-repr-fallback {display: none;}</style><div id=\"sk-container-id-1\" class=\"sk-top-container\"><div class=\"sk-text-repr-fallback\"><pre>RandomForestClassifier(max_depth=4, n_estimators=10000, n_jobs=-1,\n",
       "                       random_state=0)</pre><b>In a Jupyter environment, please rerun this cell to show the HTML representation or trust the notebook. <br />On GitHub, the HTML representation is unable to render, please try loading this page with nbviewer.org.</b></div><div class=\"sk-container\" hidden><div class=\"sk-item\"><div class=\"sk-estimator sk-toggleable\"><input class=\"sk-toggleable__control sk-hidden--visually\" id=\"sk-estimator-id-1\" type=\"checkbox\" checked><label for=\"sk-estimator-id-1\" class=\"sk-toggleable__label sk-toggleable__label-arrow\">RandomForestClassifier</label><div class=\"sk-toggleable__content\"><pre>RandomForestClassifier(max_depth=4, n_estimators=10000, n_jobs=-1,\n",
       "                       random_state=0)</pre></div></div></div></div></div>"
      ],
      "text/plain": [
       "RandomForestClassifier(max_depth=4, n_estimators=10000, n_jobs=-1,\n",
       "                       random_state=0)"
      ]
     },
     "execution_count": 19,
     "metadata": {},
     "output_type": "execute_result"
    }
   ],
   "source": [
    "model = mlflow.sklearn.load_model(model_uri=f\"{run.artifact_uri}/model\")\n",
    "model"
   ]
  },
  {
   "cell_type": "code",
   "execution_count": 20,
   "id": "2258597a",
   "metadata": {},
   "outputs": [],
   "source": [
    "target = df_master['PerformanceRating']\n",
    "train = df_master.drop(['PerformanceRating'], axis=1)\n",
    "processedtrain= preprocess(train, MODEL_DIR)"
   ]
  },
  {
   "cell_type": "code",
   "execution_count": 21,
   "id": "59ba9ca5",
   "metadata": {},
   "outputs": [
    {
     "data": {
      "text/plain": [
       "array([3, 3, 3, ..., 3, 3, 3], dtype=int64)"
      ]
     },
     "execution_count": 21,
     "metadata": {},
     "output_type": "execute_result"
    }
   ],
   "source": [
    "model.predict(processedtrain)"
   ]
  },
  {
   "cell_type": "code",
   "execution_count": null,
   "id": "00e72f2b",
   "metadata": {},
   "outputs": [],
   "source": []
  },
  {
   "cell_type": "code",
   "execution_count": null,
   "id": "50cd87d3",
   "metadata": {},
   "outputs": [],
   "source": []
  }
 ],
 "metadata": {
  "kernelspec": {
   "display_name": "Python 3 (ipykernel)",
   "language": "python",
   "name": "python3"
  },
  "language_info": {
   "codemirror_mode": {
    "name": "ipython",
    "version": 3
   },
   "file_extension": ".py",
   "mimetype": "text/x-python",
   "name": "python",
   "nbconvert_exporter": "python",
   "pygments_lexer": "ipython3",
   "version": "3.10.4"
  }
 },
 "nbformat": 4,
 "nbformat_minor": 5
}
