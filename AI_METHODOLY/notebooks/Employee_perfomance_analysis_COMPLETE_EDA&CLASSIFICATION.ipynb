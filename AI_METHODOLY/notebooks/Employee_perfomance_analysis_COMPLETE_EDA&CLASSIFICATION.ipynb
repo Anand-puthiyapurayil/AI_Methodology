{
 "cells": [
  {
   "cell_type": "code",
   "execution_count": 1,
   "metadata": {
    "id": "YJ2Zk4P7lM2O"
   },
   "outputs": [],
   "source": [
    "import os\n",
    "from pathlib import Path\n"
   ]
  },
  {
   "cell_type": "code",
   "execution_count": null,
   "metadata": {
    "colab": {
     "base_uri": "https://localhost:8080/",
     "height": 35
    },
    "id": "GWjqCrVLh3oJ",
    "outputId": "5e713cea-821e-44af-cb6c-2710471d4c6c"
   },
   "outputs": [],
   "source": []
  },
  {
   "cell_type": "code",
   "execution_count": null,
   "metadata": {
    "id": "TKe4ccpFlknd"
   },
   "outputs": [],
   "source": []
  },
  {
   "cell_type": "markdown",
   "metadata": {
    "id": "H9cQ6M-EoK4I"
   },
   "source": [
    "<H1>Importing the required library's</h1>"
   ]
  },
  {
   "cell_type": "code",
   "execution_count": 2,
   "metadata": {
    "colab": {
     "base_uri": "https://localhost:8080/",
     "height": 35
    },
    "id": "UZgS-9rIllVi",
    "outputId": "e89c92c4-56f7-47e5-b457-0aa2d919b5b8"
   },
   "outputs": [
    {
     "name": "stdout",
     "output_type": "stream",
     "text": [
      " Volume in drive C is Windows\n",
      " Volume Serial Number is 549E-A9F0\n",
      "\n",
      " Directory of C:\\Users\\Anand\\AI_Methodology\\AI_METHODOLY\\notebooks\n",
      "\n",
      "30-07-2022  14:59    <DIR>          .\n",
      "30-07-2022  14:59    <DIR>          ..\n",
      "29-07-2022  22:50                 0 .gitkeep\n",
      "30-07-2022  08:33    <DIR>          .ipynb_checkpoints\n",
      "30-07-2022  07:37           116,027 Creating_data_pipeline_for_preprocessing.ipynb\n",
      "30-07-2022  08:48           813,251 Employee_perfomance_analysis_COMPLETE_EDA&CLASSIFICATION.ipynb\n",
      "30-07-2022  14:59            11,229 Final Notebook.ipynb\n",
      "               4 File(s)        940,507 bytes\n",
      "               3 Dir(s)  15,460,220,928 bytes free\n"
     ]
    }
   ],
   "source": [
    "ls"
   ]
  },
  {
   "cell_type": "code",
   "execution_count": null,
   "metadata": {},
   "outputs": [],
   "source": []
  },
  {
   "cell_type": "code",
   "execution_count": 3,
   "metadata": {
    "id": "ns6-yDlpllya"
   },
   "outputs": [],
   "source": [
    "import numpy as np # linear algebra\n",
    "import pandas as pd # data processing, CSV file I/O(e.g. pd.read_csv)\n",
    "import seaborn as sns\n",
    "import matplotlib.pyplot as plt\n",
    "import sys"
   ]
  },
  {
   "cell_type": "code",
   "execution_count": 8,
   "metadata": {},
   "outputs": [],
   "source": [
    "\n",
    "DATA_DIR = Path(r'../../../AI_Methodology/AI_METHODOLY/data/external/')\n"
   ]
  },
  {
   "cell_type": "code",
   "execution_count": 9,
   "metadata": {
    "id": "2wQpM2CblqqC"
   },
   "outputs": [],
   "source": [
    "df = pd.read_excel(DATA_DIR/\"Employee_Perfomance.xls\")"
   ]
  },
  {
   "cell_type": "markdown",
   "metadata": {
    "id": "oLHjcxPhoRHH"
   },
   "source": [
    "<h1>Understanding the data</h1>"
   ]
  },
  {
   "cell_type": "code",
   "execution_count": 10,
   "metadata": {
    "colab": {
     "base_uri": "https://localhost:8080/",
     "height": 309
    },
    "id": "IkdUgv70l9h8",
    "outputId": "c63f867f-90d1-483d-f215-a9893442324b"
   },
   "outputs": [
    {
     "data": {
      "text/html": [
       "<div>\n",
       "<style scoped>\n",
       "    .dataframe tbody tr th:only-of-type {\n",
       "        vertical-align: middle;\n",
       "    }\n",
       "\n",
       "    .dataframe tbody tr th {\n",
       "        vertical-align: top;\n",
       "    }\n",
       "\n",
       "    .dataframe thead th {\n",
       "        text-align: right;\n",
       "    }\n",
       "</style>\n",
       "<table border=\"1\" class=\"dataframe\">\n",
       "  <thead>\n",
       "    <tr style=\"text-align: right;\">\n",
       "      <th></th>\n",
       "      <th>EmpNumber</th>\n",
       "      <th>Age</th>\n",
       "      <th>Gender</th>\n",
       "      <th>EducationBackground</th>\n",
       "      <th>MaritalStatus</th>\n",
       "      <th>EmpDepartment</th>\n",
       "      <th>EmpJobRole</th>\n",
       "      <th>BusinessTravelFrequency</th>\n",
       "      <th>DistanceFromHome</th>\n",
       "      <th>EmpEducationLevel</th>\n",
       "      <th>...</th>\n",
       "      <th>EmpRelationshipSatisfaction</th>\n",
       "      <th>TotalWorkExperienceInYears</th>\n",
       "      <th>TrainingTimesLastYear</th>\n",
       "      <th>EmpWorkLifeBalance</th>\n",
       "      <th>ExperienceYearsAtThisCompany</th>\n",
       "      <th>ExperienceYearsInCurrentRole</th>\n",
       "      <th>YearsSinceLastPromotion</th>\n",
       "      <th>YearsWithCurrManager</th>\n",
       "      <th>Attrition</th>\n",
       "      <th>PerformanceRating</th>\n",
       "    </tr>\n",
       "  </thead>\n",
       "  <tbody>\n",
       "    <tr>\n",
       "      <th>0</th>\n",
       "      <td>E1001000</td>\n",
       "      <td>32</td>\n",
       "      <td>Male</td>\n",
       "      <td>Marketing</td>\n",
       "      <td>Single</td>\n",
       "      <td>Sales</td>\n",
       "      <td>Sales Executive</td>\n",
       "      <td>Travel_Rarely</td>\n",
       "      <td>10</td>\n",
       "      <td>3</td>\n",
       "      <td>...</td>\n",
       "      <td>4</td>\n",
       "      <td>10</td>\n",
       "      <td>2</td>\n",
       "      <td>2</td>\n",
       "      <td>10</td>\n",
       "      <td>7</td>\n",
       "      <td>0</td>\n",
       "      <td>8</td>\n",
       "      <td>No</td>\n",
       "      <td>3</td>\n",
       "    </tr>\n",
       "    <tr>\n",
       "      <th>1</th>\n",
       "      <td>E1001006</td>\n",
       "      <td>47</td>\n",
       "      <td>Male</td>\n",
       "      <td>Marketing</td>\n",
       "      <td>Single</td>\n",
       "      <td>Sales</td>\n",
       "      <td>Sales Executive</td>\n",
       "      <td>Travel_Rarely</td>\n",
       "      <td>14</td>\n",
       "      <td>4</td>\n",
       "      <td>...</td>\n",
       "      <td>4</td>\n",
       "      <td>20</td>\n",
       "      <td>2</td>\n",
       "      <td>3</td>\n",
       "      <td>7</td>\n",
       "      <td>7</td>\n",
       "      <td>1</td>\n",
       "      <td>7</td>\n",
       "      <td>No</td>\n",
       "      <td>3</td>\n",
       "    </tr>\n",
       "    <tr>\n",
       "      <th>2</th>\n",
       "      <td>E1001007</td>\n",
       "      <td>40</td>\n",
       "      <td>Male</td>\n",
       "      <td>Life Sciences</td>\n",
       "      <td>Married</td>\n",
       "      <td>Sales</td>\n",
       "      <td>Sales Executive</td>\n",
       "      <td>Travel_Frequently</td>\n",
       "      <td>5</td>\n",
       "      <td>4</td>\n",
       "      <td>...</td>\n",
       "      <td>3</td>\n",
       "      <td>20</td>\n",
       "      <td>2</td>\n",
       "      <td>3</td>\n",
       "      <td>18</td>\n",
       "      <td>13</td>\n",
       "      <td>1</td>\n",
       "      <td>12</td>\n",
       "      <td>No</td>\n",
       "      <td>4</td>\n",
       "    </tr>\n",
       "    <tr>\n",
       "      <th>3</th>\n",
       "      <td>E1001009</td>\n",
       "      <td>41</td>\n",
       "      <td>Male</td>\n",
       "      <td>Human Resources</td>\n",
       "      <td>Divorced</td>\n",
       "      <td>Human Resources</td>\n",
       "      <td>Manager</td>\n",
       "      <td>Travel_Rarely</td>\n",
       "      <td>10</td>\n",
       "      <td>4</td>\n",
       "      <td>...</td>\n",
       "      <td>2</td>\n",
       "      <td>23</td>\n",
       "      <td>2</td>\n",
       "      <td>2</td>\n",
       "      <td>21</td>\n",
       "      <td>6</td>\n",
       "      <td>12</td>\n",
       "      <td>6</td>\n",
       "      <td>No</td>\n",
       "      <td>3</td>\n",
       "    </tr>\n",
       "    <tr>\n",
       "      <th>4</th>\n",
       "      <td>E1001010</td>\n",
       "      <td>60</td>\n",
       "      <td>Male</td>\n",
       "      <td>Marketing</td>\n",
       "      <td>Single</td>\n",
       "      <td>Sales</td>\n",
       "      <td>Sales Executive</td>\n",
       "      <td>Travel_Rarely</td>\n",
       "      <td>16</td>\n",
       "      <td>4</td>\n",
       "      <td>...</td>\n",
       "      <td>4</td>\n",
       "      <td>10</td>\n",
       "      <td>1</td>\n",
       "      <td>3</td>\n",
       "      <td>2</td>\n",
       "      <td>2</td>\n",
       "      <td>2</td>\n",
       "      <td>2</td>\n",
       "      <td>No</td>\n",
       "      <td>3</td>\n",
       "    </tr>\n",
       "  </tbody>\n",
       "</table>\n",
       "<p>5 rows × 28 columns</p>\n",
       "</div>"
      ],
      "text/plain": [
       "  EmpNumber  Age Gender EducationBackground MaritalStatus    EmpDepartment  \\\n",
       "0  E1001000   32   Male           Marketing        Single            Sales   \n",
       "1  E1001006   47   Male           Marketing        Single            Sales   \n",
       "2  E1001007   40   Male       Life Sciences       Married            Sales   \n",
       "3  E1001009   41   Male     Human Resources      Divorced  Human Resources   \n",
       "4  E1001010   60   Male           Marketing        Single            Sales   \n",
       "\n",
       "        EmpJobRole BusinessTravelFrequency  DistanceFromHome  \\\n",
       "0  Sales Executive           Travel_Rarely                10   \n",
       "1  Sales Executive           Travel_Rarely                14   \n",
       "2  Sales Executive       Travel_Frequently                 5   \n",
       "3          Manager           Travel_Rarely                10   \n",
       "4  Sales Executive           Travel_Rarely                16   \n",
       "\n",
       "   EmpEducationLevel  ...  EmpRelationshipSatisfaction  \\\n",
       "0                  3  ...                            4   \n",
       "1                  4  ...                            4   \n",
       "2                  4  ...                            3   \n",
       "3                  4  ...                            2   \n",
       "4                  4  ...                            4   \n",
       "\n",
       "   TotalWorkExperienceInYears  TrainingTimesLastYear  EmpWorkLifeBalance  \\\n",
       "0                          10                      2                   2   \n",
       "1                          20                      2                   3   \n",
       "2                          20                      2                   3   \n",
       "3                          23                      2                   2   \n",
       "4                          10                      1                   3   \n",
       "\n",
       "   ExperienceYearsAtThisCompany  ExperienceYearsInCurrentRole  \\\n",
       "0                            10                             7   \n",
       "1                             7                             7   \n",
       "2                            18                            13   \n",
       "3                            21                             6   \n",
       "4                             2                             2   \n",
       "\n",
       "  YearsSinceLastPromotion  YearsWithCurrManager  Attrition  PerformanceRating  \n",
       "0                       0                     8         No                  3  \n",
       "1                       1                     7         No                  3  \n",
       "2                       1                    12         No                  4  \n",
       "3                      12                     6         No                  3  \n",
       "4                       2                     2         No                  3  \n",
       "\n",
       "[5 rows x 28 columns]"
      ]
     },
     "execution_count": 10,
     "metadata": {},
     "output_type": "execute_result"
    }
   ],
   "source": [
    "df.head()"
   ]
  },
  {
   "cell_type": "markdown",
   "metadata": {
    "id": "2FpXvE5gizQf"
   },
   "source": [
    "There are no null values present in the dataset , so now we can proceed with visualization and understanding of the dataset"
   ]
  },
  {
   "cell_type": "code",
   "execution_count": 11,
   "metadata": {
    "colab": {
     "base_uri": "https://localhost:8080/",
     "height": 520
    },
    "id": "H5sOkQtbl-_U",
    "outputId": "c35902ae-0b00-4df0-d772-09ae67742b0e"
   },
   "outputs": [
    {
     "data": {
      "text/plain": [
       "EmpNumber                       0\n",
       "Age                             0\n",
       "Gender                          0\n",
       "EducationBackground             0\n",
       "MaritalStatus                   0\n",
       "EmpDepartment                   0\n",
       "EmpJobRole                      0\n",
       "BusinessTravelFrequency         0\n",
       "DistanceFromHome                0\n",
       "EmpEducationLevel               0\n",
       "EmpEnvironmentSatisfaction      0\n",
       "EmpHourlyRate                   0\n",
       "EmpJobInvolvement               0\n",
       "EmpJobLevel                     0\n",
       "EmpJobSatisfaction              0\n",
       "NumCompaniesWorked              0\n",
       "OverTime                        0\n",
       "EmpLastSalaryHikePercent        0\n",
       "EmpRelationshipSatisfaction     0\n",
       "TotalWorkExperienceInYears      0\n",
       "TrainingTimesLastYear           0\n",
       "EmpWorkLifeBalance              0\n",
       "ExperienceYearsAtThisCompany    0\n",
       "ExperienceYearsInCurrentRole    0\n",
       "YearsSinceLastPromotion         0\n",
       "YearsWithCurrManager            0\n",
       "Attrition                       0\n",
       "PerformanceRating               0\n",
       "dtype: int64"
      ]
     },
     "execution_count": 11,
     "metadata": {},
     "output_type": "execute_result"
    }
   ],
   "source": [
    "df.isnull().sum()"
   ]
  },
  {
   "cell_type": "code",
   "execution_count": 12,
   "metadata": {
    "colab": {
     "base_uri": "https://localhost:8080/",
     "height": 314
    },
    "id": "YbWAhfB0mA_U",
    "outputId": "49e0e752-97c6-4f58-9ac9-8da1153d02a8"
   },
   "outputs": [
    {
     "data": {
      "text/html": [
       "<div>\n",
       "<style scoped>\n",
       "    .dataframe tbody tr th:only-of-type {\n",
       "        vertical-align: middle;\n",
       "    }\n",
       "\n",
       "    .dataframe tbody tr th {\n",
       "        vertical-align: top;\n",
       "    }\n",
       "\n",
       "    .dataframe thead th {\n",
       "        text-align: right;\n",
       "    }\n",
       "</style>\n",
       "<table border=\"1\" class=\"dataframe\">\n",
       "  <thead>\n",
       "    <tr style=\"text-align: right;\">\n",
       "      <th></th>\n",
       "      <th>Age</th>\n",
       "      <th>DistanceFromHome</th>\n",
       "      <th>EmpEducationLevel</th>\n",
       "      <th>EmpEnvironmentSatisfaction</th>\n",
       "      <th>EmpHourlyRate</th>\n",
       "      <th>EmpJobInvolvement</th>\n",
       "      <th>EmpJobLevel</th>\n",
       "      <th>EmpJobSatisfaction</th>\n",
       "      <th>NumCompaniesWorked</th>\n",
       "      <th>EmpLastSalaryHikePercent</th>\n",
       "      <th>EmpRelationshipSatisfaction</th>\n",
       "      <th>TotalWorkExperienceInYears</th>\n",
       "      <th>TrainingTimesLastYear</th>\n",
       "      <th>EmpWorkLifeBalance</th>\n",
       "      <th>ExperienceYearsAtThisCompany</th>\n",
       "      <th>ExperienceYearsInCurrentRole</th>\n",
       "      <th>YearsSinceLastPromotion</th>\n",
       "      <th>YearsWithCurrManager</th>\n",
       "      <th>PerformanceRating</th>\n",
       "    </tr>\n",
       "  </thead>\n",
       "  <tbody>\n",
       "    <tr>\n",
       "      <th>count</th>\n",
       "      <td>1200.000000</td>\n",
       "      <td>1200.000000</td>\n",
       "      <td>1200.00000</td>\n",
       "      <td>1200.000000</td>\n",
       "      <td>1200.000000</td>\n",
       "      <td>1200.000000</td>\n",
       "      <td>1200.000000</td>\n",
       "      <td>1200.000000</td>\n",
       "      <td>1200.000000</td>\n",
       "      <td>1200.000000</td>\n",
       "      <td>1200.000000</td>\n",
       "      <td>1200.000000</td>\n",
       "      <td>1200.000000</td>\n",
       "      <td>1200.000000</td>\n",
       "      <td>1200.000000</td>\n",
       "      <td>1200.000000</td>\n",
       "      <td>1200.000000</td>\n",
       "      <td>1200.000000</td>\n",
       "      <td>1200.000000</td>\n",
       "    </tr>\n",
       "    <tr>\n",
       "      <th>mean</th>\n",
       "      <td>36.918333</td>\n",
       "      <td>9.165833</td>\n",
       "      <td>2.89250</td>\n",
       "      <td>2.715833</td>\n",
       "      <td>65.981667</td>\n",
       "      <td>2.731667</td>\n",
       "      <td>2.067500</td>\n",
       "      <td>2.732500</td>\n",
       "      <td>2.665000</td>\n",
       "      <td>15.222500</td>\n",
       "      <td>2.725000</td>\n",
       "      <td>11.330000</td>\n",
       "      <td>2.785833</td>\n",
       "      <td>2.744167</td>\n",
       "      <td>7.077500</td>\n",
       "      <td>4.291667</td>\n",
       "      <td>2.194167</td>\n",
       "      <td>4.105000</td>\n",
       "      <td>2.948333</td>\n",
       "    </tr>\n",
       "    <tr>\n",
       "      <th>std</th>\n",
       "      <td>9.087289</td>\n",
       "      <td>8.176636</td>\n",
       "      <td>1.04412</td>\n",
       "      <td>1.090599</td>\n",
       "      <td>20.211302</td>\n",
       "      <td>0.707164</td>\n",
       "      <td>1.107836</td>\n",
       "      <td>1.100888</td>\n",
       "      <td>2.469384</td>\n",
       "      <td>3.625918</td>\n",
       "      <td>1.075642</td>\n",
       "      <td>7.797228</td>\n",
       "      <td>1.263446</td>\n",
       "      <td>0.699374</td>\n",
       "      <td>6.236899</td>\n",
       "      <td>3.613744</td>\n",
       "      <td>3.221560</td>\n",
       "      <td>3.541576</td>\n",
       "      <td>0.518866</td>\n",
       "    </tr>\n",
       "    <tr>\n",
       "      <th>min</th>\n",
       "      <td>18.000000</td>\n",
       "      <td>1.000000</td>\n",
       "      <td>1.00000</td>\n",
       "      <td>1.000000</td>\n",
       "      <td>30.000000</td>\n",
       "      <td>1.000000</td>\n",
       "      <td>1.000000</td>\n",
       "      <td>1.000000</td>\n",
       "      <td>0.000000</td>\n",
       "      <td>11.000000</td>\n",
       "      <td>1.000000</td>\n",
       "      <td>0.000000</td>\n",
       "      <td>0.000000</td>\n",
       "      <td>1.000000</td>\n",
       "      <td>0.000000</td>\n",
       "      <td>0.000000</td>\n",
       "      <td>0.000000</td>\n",
       "      <td>0.000000</td>\n",
       "      <td>2.000000</td>\n",
       "    </tr>\n",
       "    <tr>\n",
       "      <th>25%</th>\n",
       "      <td>30.000000</td>\n",
       "      <td>2.000000</td>\n",
       "      <td>2.00000</td>\n",
       "      <td>2.000000</td>\n",
       "      <td>48.000000</td>\n",
       "      <td>2.000000</td>\n",
       "      <td>1.000000</td>\n",
       "      <td>2.000000</td>\n",
       "      <td>1.000000</td>\n",
       "      <td>12.000000</td>\n",
       "      <td>2.000000</td>\n",
       "      <td>6.000000</td>\n",
       "      <td>2.000000</td>\n",
       "      <td>2.000000</td>\n",
       "      <td>3.000000</td>\n",
       "      <td>2.000000</td>\n",
       "      <td>0.000000</td>\n",
       "      <td>2.000000</td>\n",
       "      <td>3.000000</td>\n",
       "    </tr>\n",
       "    <tr>\n",
       "      <th>50%</th>\n",
       "      <td>36.000000</td>\n",
       "      <td>7.000000</td>\n",
       "      <td>3.00000</td>\n",
       "      <td>3.000000</td>\n",
       "      <td>66.000000</td>\n",
       "      <td>3.000000</td>\n",
       "      <td>2.000000</td>\n",
       "      <td>3.000000</td>\n",
       "      <td>2.000000</td>\n",
       "      <td>14.000000</td>\n",
       "      <td>3.000000</td>\n",
       "      <td>10.000000</td>\n",
       "      <td>3.000000</td>\n",
       "      <td>3.000000</td>\n",
       "      <td>5.000000</td>\n",
       "      <td>3.000000</td>\n",
       "      <td>1.000000</td>\n",
       "      <td>3.000000</td>\n",
       "      <td>3.000000</td>\n",
       "    </tr>\n",
       "    <tr>\n",
       "      <th>75%</th>\n",
       "      <td>43.000000</td>\n",
       "      <td>14.000000</td>\n",
       "      <td>4.00000</td>\n",
       "      <td>4.000000</td>\n",
       "      <td>83.000000</td>\n",
       "      <td>3.000000</td>\n",
       "      <td>3.000000</td>\n",
       "      <td>4.000000</td>\n",
       "      <td>4.000000</td>\n",
       "      <td>18.000000</td>\n",
       "      <td>4.000000</td>\n",
       "      <td>15.000000</td>\n",
       "      <td>3.000000</td>\n",
       "      <td>3.000000</td>\n",
       "      <td>10.000000</td>\n",
       "      <td>7.000000</td>\n",
       "      <td>3.000000</td>\n",
       "      <td>7.000000</td>\n",
       "      <td>3.000000</td>\n",
       "    </tr>\n",
       "    <tr>\n",
       "      <th>max</th>\n",
       "      <td>60.000000</td>\n",
       "      <td>29.000000</td>\n",
       "      <td>5.00000</td>\n",
       "      <td>4.000000</td>\n",
       "      <td>100.000000</td>\n",
       "      <td>4.000000</td>\n",
       "      <td>5.000000</td>\n",
       "      <td>4.000000</td>\n",
       "      <td>9.000000</td>\n",
       "      <td>25.000000</td>\n",
       "      <td>4.000000</td>\n",
       "      <td>40.000000</td>\n",
       "      <td>6.000000</td>\n",
       "      <td>4.000000</td>\n",
       "      <td>40.000000</td>\n",
       "      <td>18.000000</td>\n",
       "      <td>15.000000</td>\n",
       "      <td>17.000000</td>\n",
       "      <td>4.000000</td>\n",
       "    </tr>\n",
       "  </tbody>\n",
       "</table>\n",
       "</div>"
      ],
      "text/plain": [
       "               Age  DistanceFromHome  EmpEducationLevel  \\\n",
       "count  1200.000000       1200.000000         1200.00000   \n",
       "mean     36.918333          9.165833            2.89250   \n",
       "std       9.087289          8.176636            1.04412   \n",
       "min      18.000000          1.000000            1.00000   \n",
       "25%      30.000000          2.000000            2.00000   \n",
       "50%      36.000000          7.000000            3.00000   \n",
       "75%      43.000000         14.000000            4.00000   \n",
       "max      60.000000         29.000000            5.00000   \n",
       "\n",
       "       EmpEnvironmentSatisfaction  EmpHourlyRate  EmpJobInvolvement  \\\n",
       "count                 1200.000000    1200.000000        1200.000000   \n",
       "mean                     2.715833      65.981667           2.731667   \n",
       "std                      1.090599      20.211302           0.707164   \n",
       "min                      1.000000      30.000000           1.000000   \n",
       "25%                      2.000000      48.000000           2.000000   \n",
       "50%                      3.000000      66.000000           3.000000   \n",
       "75%                      4.000000      83.000000           3.000000   \n",
       "max                      4.000000     100.000000           4.000000   \n",
       "\n",
       "       EmpJobLevel  EmpJobSatisfaction  NumCompaniesWorked  \\\n",
       "count  1200.000000         1200.000000         1200.000000   \n",
       "mean      2.067500            2.732500            2.665000   \n",
       "std       1.107836            1.100888            2.469384   \n",
       "min       1.000000            1.000000            0.000000   \n",
       "25%       1.000000            2.000000            1.000000   \n",
       "50%       2.000000            3.000000            2.000000   \n",
       "75%       3.000000            4.000000            4.000000   \n",
       "max       5.000000            4.000000            9.000000   \n",
       "\n",
       "       EmpLastSalaryHikePercent  EmpRelationshipSatisfaction  \\\n",
       "count               1200.000000                  1200.000000   \n",
       "mean                  15.222500                     2.725000   \n",
       "std                    3.625918                     1.075642   \n",
       "min                   11.000000                     1.000000   \n",
       "25%                   12.000000                     2.000000   \n",
       "50%                   14.000000                     3.000000   \n",
       "75%                   18.000000                     4.000000   \n",
       "max                   25.000000                     4.000000   \n",
       "\n",
       "       TotalWorkExperienceInYears  TrainingTimesLastYear  EmpWorkLifeBalance  \\\n",
       "count                 1200.000000            1200.000000         1200.000000   \n",
       "mean                    11.330000               2.785833            2.744167   \n",
       "std                      7.797228               1.263446            0.699374   \n",
       "min                      0.000000               0.000000            1.000000   \n",
       "25%                      6.000000               2.000000            2.000000   \n",
       "50%                     10.000000               3.000000            3.000000   \n",
       "75%                     15.000000               3.000000            3.000000   \n",
       "max                     40.000000               6.000000            4.000000   \n",
       "\n",
       "       ExperienceYearsAtThisCompany  ExperienceYearsInCurrentRole  \\\n",
       "count                   1200.000000                   1200.000000   \n",
       "mean                       7.077500                      4.291667   \n",
       "std                        6.236899                      3.613744   \n",
       "min                        0.000000                      0.000000   \n",
       "25%                        3.000000                      2.000000   \n",
       "50%                        5.000000                      3.000000   \n",
       "75%                       10.000000                      7.000000   \n",
       "max                       40.000000                     18.000000   \n",
       "\n",
       "       YearsSinceLastPromotion  YearsWithCurrManager  PerformanceRating  \n",
       "count              1200.000000           1200.000000        1200.000000  \n",
       "mean                  2.194167              4.105000           2.948333  \n",
       "std                   3.221560              3.541576           0.518866  \n",
       "min                   0.000000              0.000000           2.000000  \n",
       "25%                   0.000000              2.000000           3.000000  \n",
       "50%                   1.000000              3.000000           3.000000  \n",
       "75%                   3.000000              7.000000           3.000000  \n",
       "max                  15.000000             17.000000           4.000000  "
      ]
     },
     "execution_count": 12,
     "metadata": {},
     "output_type": "execute_result"
    }
   ],
   "source": [
    "df.describe()"
   ]
  },
  {
   "cell_type": "code",
   "execution_count": 13,
   "metadata": {
    "colab": {
     "base_uri": "https://localhost:8080/",
     "height": 520
    },
    "id": "oveMNnCjmCn0",
    "outputId": "a3fa65e3-cb51-40a9-ef4b-cb9ff3f1fb87"
   },
   "outputs": [
    {
     "data": {
      "text/plain": [
       "EmpNumber                       object\n",
       "Age                              int64\n",
       "Gender                          object\n",
       "EducationBackground             object\n",
       "MaritalStatus                   object\n",
       "EmpDepartment                   object\n",
       "EmpJobRole                      object\n",
       "BusinessTravelFrequency         object\n",
       "DistanceFromHome                 int64\n",
       "EmpEducationLevel                int64\n",
       "EmpEnvironmentSatisfaction       int64\n",
       "EmpHourlyRate                    int64\n",
       "EmpJobInvolvement                int64\n",
       "EmpJobLevel                      int64\n",
       "EmpJobSatisfaction               int64\n",
       "NumCompaniesWorked               int64\n",
       "OverTime                        object\n",
       "EmpLastSalaryHikePercent         int64\n",
       "EmpRelationshipSatisfaction      int64\n",
       "TotalWorkExperienceInYears       int64\n",
       "TrainingTimesLastYear            int64\n",
       "EmpWorkLifeBalance               int64\n",
       "ExperienceYearsAtThisCompany     int64\n",
       "ExperienceYearsInCurrentRole     int64\n",
       "YearsSinceLastPromotion          int64\n",
       "YearsWithCurrManager             int64\n",
       "Attrition                       object\n",
       "PerformanceRating                int64\n",
       "dtype: object"
      ]
     },
     "execution_count": 13,
     "metadata": {},
     "output_type": "execute_result"
    }
   ],
   "source": [
    "df.dtypes"
   ]
  },
  {
   "cell_type": "code",
   "execution_count": 14,
   "metadata": {
    "colab": {
     "base_uri": "https://localhost:8080/",
     "height": 624
    },
    "id": "7r59ex6omIQU",
    "outputId": "3d17c25e-bf8f-40fa-f8e3-8c7ed9ea68bb"
   },
   "outputs": [
    {
     "name": "stdout",
     "output_type": "stream",
     "text": [
      "<class 'pandas.core.frame.DataFrame'>\n",
      "RangeIndex: 1200 entries, 0 to 1199\n",
      "Data columns (total 28 columns):\n",
      " #   Column                        Non-Null Count  Dtype \n",
      "---  ------                        --------------  ----- \n",
      " 0   EmpNumber                     1200 non-null   object\n",
      " 1   Age                           1200 non-null   int64 \n",
      " 2   Gender                        1200 non-null   object\n",
      " 3   EducationBackground           1200 non-null   object\n",
      " 4   MaritalStatus                 1200 non-null   object\n",
      " 5   EmpDepartment                 1200 non-null   object\n",
      " 6   EmpJobRole                    1200 non-null   object\n",
      " 7   BusinessTravelFrequency       1200 non-null   object\n",
      " 8   DistanceFromHome              1200 non-null   int64 \n",
      " 9   EmpEducationLevel             1200 non-null   int64 \n",
      " 10  EmpEnvironmentSatisfaction    1200 non-null   int64 \n",
      " 11  EmpHourlyRate                 1200 non-null   int64 \n",
      " 12  EmpJobInvolvement             1200 non-null   int64 \n",
      " 13  EmpJobLevel                   1200 non-null   int64 \n",
      " 14  EmpJobSatisfaction            1200 non-null   int64 \n",
      " 15  NumCompaniesWorked            1200 non-null   int64 \n",
      " 16  OverTime                      1200 non-null   object\n",
      " 17  EmpLastSalaryHikePercent      1200 non-null   int64 \n",
      " 18  EmpRelationshipSatisfaction   1200 non-null   int64 \n",
      " 19  TotalWorkExperienceInYears    1200 non-null   int64 \n",
      " 20  TrainingTimesLastYear         1200 non-null   int64 \n",
      " 21  EmpWorkLifeBalance            1200 non-null   int64 \n",
      " 22  ExperienceYearsAtThisCompany  1200 non-null   int64 \n",
      " 23  ExperienceYearsInCurrentRole  1200 non-null   int64 \n",
      " 24  YearsSinceLastPromotion       1200 non-null   int64 \n",
      " 25  YearsWithCurrManager          1200 non-null   int64 \n",
      " 26  Attrition                     1200 non-null   object\n",
      " 27  PerformanceRating             1200 non-null   int64 \n",
      "dtypes: int64(19), object(9)\n",
      "memory usage: 262.6+ KB\n"
     ]
    }
   ],
   "source": [
    "df.info()"
   ]
  },
  {
   "cell_type": "code",
   "execution_count": 15,
   "metadata": {
    "colab": {
     "base_uri": "https://localhost:8080/",
     "height": 52
    },
    "id": "SeKImQtJmL1V",
    "outputId": "5d9b2e0c-b0c1-46f0-c600-9628156a7fa9"
   },
   "outputs": [
    {
     "name": "stdout",
     "output_type": "stream",
     "text": [
      "Total number of rows : 1200\n",
      "Total number of columns : 28\n"
     ]
    }
   ],
   "source": [
    "print (f\"Total number of rows : {df.shape[0]}\\nTotal number of columns : {df.shape[1]}\")"
   ]
  },
  {
   "cell_type": "code",
   "execution_count": 16,
   "metadata": {
    "colab": {
     "base_uri": "https://localhost:8080/",
     "height": 297
    },
    "id": "NpK_CrkXmn4o",
    "outputId": "8a40d560-bbbd-4f40-a05a-94a5d2134b79"
   },
   "outputs": [
    {
     "data": {
      "text/plain": [
       "<AxesSubplot:xlabel='count', ylabel='EmpJobRole'>"
      ]
     },
     "execution_count": 16,
     "metadata": {},
     "output_type": "execute_result"
    },
    {
     "data": {
      "image/png": "[encoded data removed]",
      "text/plain": [
       "<Figure size 432x288 with 1 Axes>"
      ]
     },
     "metadata": {
      "needs_background": "light"
     },
     "output_type": "display_data"
    }
   ],
   "source": [
    "sns.countplot(y=df['EmpJobRole'])"
   ]
  },
  {
   "cell_type": "markdown",
   "metadata": {
    "id": "bjAEnEfni7wH"
   },
   "source": [
    "We can see majority of the employee's are from the \n",
    "*   Sales Executive department\n",
    "*   Developer\n",
    "\n"
   ]
  },
  {
   "cell_type": "code",
   "execution_count": 17,
   "metadata": {
    "colab": {
     "base_uri": "https://localhost:8080/",
     "height": 297
    },
    "id": "GiS0-9tVm5HZ",
    "outputId": "90891ad4-61c1-4d1c-e4a2-52a44b3b9e4a"
   },
   "outputs": [
    {
     "data": {
      "text/plain": [
       "<AxesSubplot:xlabel='count', ylabel='EmpDepartment'>"
      ]
     },
     "execution_count": 17,
     "metadata": {},
     "output_type": "execute_result"
    },
    {
     "data": {
      "image/png": "[encoded data removed]",
      "text/plain": [
       "<Figure size 432x288 with 1 Axes>"
      ]
     },
     "metadata": {
      "needs_background": "light"
     },
     "output_type": "display_data"
    }
   ],
   "source": [
    "sns.countplot(y=df['EmpDepartment'])"
   ]
  },
  {
   "cell_type": "markdown",
   "metadata": {
    "id": "MNHmh75moEuu"
   },
   "source": [
    "<h1>Department Wise Performance<h1>"
   ]
  },
  {
   "cell_type": "code",
   "execution_count": 18,
   "metadata": {
    "colab": {
     "base_uri": "https://localhost:8080/",
     "height": 422
    },
    "id": "5XOcYEJ8nQaw",
    "outputId": "b7acf2ec-176e-4246-e282-bf0a5b657546"
   },
   "outputs": [
    {
     "name": "stderr",
     "output_type": "stream",
     "text": [
      "C:\\Users\\Anand\\.conda\\envs\\aimethodology\\lib\\site-packages\\seaborn\\_decorators.py:36: FutureWarning: Pass the following variable as a keyword arg: x. From version 0.12, the only valid positional argument will be `data`, and passing other arguments without an explicit keyword will result in an error or misinterpretation.\n",
      "  warnings.warn(\n"
     ]
    },
    {
     "data": {
      "text/plain": [
       "Text(0.5, 1.0, 'Most number of Rating')"
      ]
     },
     "execution_count": 18,
     "metadata": {},
     "output_type": "execute_result"
    },
    {
     "data": {
      "image/png": "[encoded data removed]",
      "text/plain": [
       "<Figure size 576x360 with 1 Axes>"
      ]
     },
     "metadata": {
      "needs_background": "light"
     },
     "output_type": "display_data"
    }
   ],
   "source": [
    "plt.figure(figsize=(8,5))\n",
    "sns.countplot(df['PerformanceRating'])\n",
    "plt.title(\"Most number of Rating\")"
   ]
  },
  {
   "cell_type": "code",
   "execution_count": 19,
   "metadata": {
    "colab": {
     "base_uri": "https://localhost:8080/",
     "height": 367
    },
    "id": "pTTg4dc2o9lC",
    "outputId": "1aa6f8bd-ab04-492d-f5ba-de7cef04df91"
   },
   "outputs": [
    {
     "data": {
      "text/plain": [
       "Text(0.5, 1.0, 'Performance Rating based on Department')"
      ]
     },
     "execution_count": 19,
     "metadata": {},
     "output_type": "execute_result"
    },
    {
     "data": {
      "image/png": "[encoded data removed]",
      "text/plain": [
       "<Figure size 576x360 with 1 Axes>"
      ]
     },
     "metadata": {
      "needs_background": "light"
     },
     "output_type": "display_data"
    }
   ],
   "source": [
    "plt.figure(figsize=(8,5))\n",
    "sns.barplot(y=df['EmpDepartment'],x=df['PerformanceRating'])\n",
    "plt.title(\"Performance Rating based on Department\")"
   ]
  },
  {
   "cell_type": "markdown",
   "metadata": {
    "id": "ssRN3YKxjRjx"
   },
   "source": [
    "The development team has the **highest** performance rating among other job roles"
   ]
  },
  {
   "cell_type": "markdown",
   "metadata": {
    "id": "8Dw1bfI4LN3O"
   },
   "source": [
    "<h2>Performance based on gender</h2>"
   ]
  },
  {
   "cell_type": "markdown",
   "metadata": {
    "id": "QHxuag0rLZTa"
   },
   "source": [
    "Let us understand the overall strength of both the genders"
   ]
  },
  {
   "cell_type": "code",
   "execution_count": 20,
   "metadata": {
    "colab": {
     "base_uri": "https://localhost:8080/",
     "height": 422
    },
    "id": "ADHFIKSxqpWH",
    "outputId": "8fd3cf76-57d5-4ef1-ff1e-6287b4bada3d"
   },
   "outputs": [
    {
     "name": "stderr",
     "output_type": "stream",
     "text": [
      "C:\\Users\\Anand\\.conda\\envs\\aimethodology\\lib\\site-packages\\seaborn\\_decorators.py:36: FutureWarning: Pass the following variable as a keyword arg: x. From version 0.12, the only valid positional argument will be `data`, and passing other arguments without an explicit keyword will result in an error or misinterpretation.\n",
      "  warnings.warn(\n"
     ]
    },
    {
     "data": {
      "text/plain": [
       "Text(0.5, 1.0, 'Overall strength')"
      ]
     },
     "execution_count": 20,
     "metadata": {},
     "output_type": "execute_result"
    },
    {
     "data": {
      "image/png": "[encoded data removed]",
      "text/plain": [
       "<Figure size 576x360 with 1 Axes>"
      ]
     },
     "metadata": {
      "needs_background": "light"
     },
     "output_type": "display_data"
    }
   ],
   "source": [
    "plt.figure(figsize=(8,5))\n",
    "sns.countplot(df['Gender'])\n",
    "plt.title(\"Overall strength\")"
   ]
  },
  {
   "cell_type": "code",
   "execution_count": 21,
   "metadata": {
    "colab": {
     "base_uri": "https://localhost:8080/",
     "height": 367
    },
    "id": "LOEn1KWnQahq",
    "outputId": "f6746315-fe7f-4ff4-a606-0c2cf88c610e"
   },
   "outputs": [
    {
     "data": {
      "text/plain": [
       "Text(0.5, 1.0, 'Performance Rating based on Gender')"
      ]
     },
     "execution_count": 21,
     "metadata": {},
     "output_type": "execute_result"
    },
    {
     "data": {
      "image/png": "[encoded data removed]",
      "text/plain": [
       "<Figure size 576x360 with 1 Axes>"
      ]
     },
     "metadata": {
      "needs_background": "light"
     },
     "output_type": "display_data"
    }
   ],
   "source": [
    "plt.figure(figsize=(8,5))\n",
    "sns.barplot(x=\"PerformanceRating\", y=\"EmpDepartment\", hue=\"Gender\", data=df)\n",
    "plt.title(\"Performance Rating based on Gender\")"
   ]
  },
  {
   "cell_type": "markdown",
   "metadata": {
    "id": "_wuhLgOajtU_"
   },
   "source": [
    "We can see that , \n",
    "*   **Male have higher** performance rating in the sales department\n",
    "*   **Females have higher** performance rating in the HR department\n",
    "*   **Male & Female** have almost the same performance rating in the development team\n",
    "*   **Male have higher** performance rating in the data science department\n",
    "*   **Male & Female** have almost equal performance in the R&D team\n",
    "*   **Male has outperformed female** in the finance department\n",
    "\n",
    "\n",
    "\n",
    "\n",
    "\n",
    "\n",
    "\n"
   ]
  },
  {
   "cell_type": "markdown",
   "metadata": {
    "id": "PqZ2xCFebbkW"
   },
   "source": [
    "<h1>Department wise Performance</h2>"
   ]
  },
  {
   "cell_type": "markdown",
   "metadata": {
    "id": "CakJ_66xkgPA"
   },
   "source": [
    "<h3>Sales</h3>"
   ]
  },
  {
   "cell_type": "code",
   "execution_count": 22,
   "metadata": {
    "id": "XAH3M5tsWyXU"
   },
   "outputs": [],
   "source": [
    "sales = df.loc[df['EmpDepartment']==\"Sales\"]"
   ]
  },
  {
   "cell_type": "code",
   "execution_count": 23,
   "metadata": {
    "colab": {
     "base_uri": "https://localhost:8080/",
     "height": 422
    },
    "id": "0XtweFyBWyag",
    "outputId": "d5d670d0-9879-4bd6-e433-e1ab865a1f4a"
   },
   "outputs": [
    {
     "name": "stderr",
     "output_type": "stream",
     "text": [
      "C:\\Users\\Anand\\.conda\\envs\\aimethodology\\lib\\site-packages\\seaborn\\_decorators.py:36: FutureWarning: Pass the following variable as a keyword arg: x. From version 0.12, the only valid positional argument will be `data`, and passing other arguments without an explicit keyword will result in an error or misinterpretation.\n",
      "  warnings.warn(\n"
     ]
    },
    {
     "data": {
      "text/plain": [
       "Text(0.5, 1.0, 'Overall strength in Sales')"
      ]
     },
     "execution_count": 23,
     "metadata": {},
     "output_type": "execute_result"
    },
    {
     "data": {
      "image/png": "[encoded data removed]",
      "text/plain": [
       "<Figure size 576x360 with 1 Axes>"
      ]
     },
     "metadata": {
      "needs_background": "light"
     },
     "output_type": "display_data"
    }
   ],
   "source": [
    "plt.figure(figsize=(8,5))\n",
    "sns.countplot(sales['Gender'])\n",
    "plt.title(\"Overall strength in Sales\")"
   ]
  },
  {
   "cell_type": "code",
   "execution_count": 24,
   "metadata": {
    "colab": {
     "base_uri": "https://localhost:8080/",
     "height": 479
    },
    "id": "tOvcuRCBWycr",
    "outputId": "f2c73df5-a38a-43f1-dd48-564f7d9bfa3f"
   },
   "outputs": [
    {
     "data": {
      "text/html": [
       "<div>\n",
       "<style scoped>\n",
       "    .dataframe tbody tr th:only-of-type {\n",
       "        vertical-align: middle;\n",
       "    }\n",
       "\n",
       "    .dataframe tbody tr th {\n",
       "        vertical-align: top;\n",
       "    }\n",
       "\n",
       "    .dataframe thead th {\n",
       "        text-align: right;\n",
       "    }\n",
       "</style>\n",
       "<table border=\"1\" class=\"dataframe\">\n",
       "  <thead>\n",
       "    <tr style=\"text-align: right;\">\n",
       "      <th></th>\n",
       "      <th></th>\n",
       "      <th>Age</th>\n",
       "      <th>DistanceFromHome</th>\n",
       "      <th>EmpEducationLevel</th>\n",
       "      <th>EmpEnvironmentSatisfaction</th>\n",
       "      <th>EmpHourlyRate</th>\n",
       "      <th>EmpJobInvolvement</th>\n",
       "      <th>EmpJobLevel</th>\n",
       "      <th>EmpJobSatisfaction</th>\n",
       "      <th>NumCompaniesWorked</th>\n",
       "      <th>EmpLastSalaryHikePercent</th>\n",
       "      <th>EmpRelationshipSatisfaction</th>\n",
       "      <th>TotalWorkExperienceInYears</th>\n",
       "      <th>TrainingTimesLastYear</th>\n",
       "      <th>EmpWorkLifeBalance</th>\n",
       "      <th>ExperienceYearsAtThisCompany</th>\n",
       "      <th>ExperienceYearsInCurrentRole</th>\n",
       "      <th>YearsSinceLastPromotion</th>\n",
       "      <th>YearsWithCurrManager</th>\n",
       "    </tr>\n",
       "    <tr>\n",
       "      <th>PerformanceRating</th>\n",
       "      <th>EmpJobRole</th>\n",
       "      <th></th>\n",
       "      <th></th>\n",
       "      <th></th>\n",
       "      <th></th>\n",
       "      <th></th>\n",
       "      <th></th>\n",
       "      <th></th>\n",
       "      <th></th>\n",
       "      <th></th>\n",
       "      <th></th>\n",
       "      <th></th>\n",
       "      <th></th>\n",
       "      <th></th>\n",
       "      <th></th>\n",
       "      <th></th>\n",
       "      <th></th>\n",
       "      <th></th>\n",
       "      <th></th>\n",
       "    </tr>\n",
       "  </thead>\n",
       "  <tbody>\n",
       "    <tr>\n",
       "      <th rowspan=\"3\" valign=\"top\">2</th>\n",
       "      <th>Manager</th>\n",
       "      <td>48.363636</td>\n",
       "      <td>4.272727</td>\n",
       "      <td>3.363636</td>\n",
       "      <td>1.454545</td>\n",
       "      <td>76.818182</td>\n",
       "      <td>2.454545</td>\n",
       "      <td>4.545455</td>\n",
       "      <td>2.363636</td>\n",
       "      <td>3.090909</td>\n",
       "      <td>15.909091</td>\n",
       "      <td>3.181818</td>\n",
       "      <td>28.272727</td>\n",
       "      <td>2.454545</td>\n",
       "      <td>2.818182</td>\n",
       "      <td>19.545455</td>\n",
       "      <td>9.181818</td>\n",
       "      <td>7.090909</td>\n",
       "      <td>8.727273</td>\n",
       "    </tr>\n",
       "    <tr>\n",
       "      <th>Sales Executive</th>\n",
       "      <td>36.953125</td>\n",
       "      <td>10.859375</td>\n",
       "      <td>2.984375</td>\n",
       "      <td>1.625000</td>\n",
       "      <td>65.843750</td>\n",
       "      <td>2.625000</td>\n",
       "      <td>2.421875</td>\n",
       "      <td>2.640625</td>\n",
       "      <td>2.781250</td>\n",
       "      <td>15.328125</td>\n",
       "      <td>2.703125</td>\n",
       "      <td>11.703125</td>\n",
       "      <td>2.875000</td>\n",
       "      <td>2.640625</td>\n",
       "      <td>9.000000</td>\n",
       "      <td>6.156250</td>\n",
       "      <td>4.203125</td>\n",
       "      <td>5.500000</td>\n",
       "    </tr>\n",
       "    <tr>\n",
       "      <th>Sales Representative</th>\n",
       "      <td>31.000000</td>\n",
       "      <td>8.416667</td>\n",
       "      <td>2.416667</td>\n",
       "      <td>1.500000</td>\n",
       "      <td>64.083333</td>\n",
       "      <td>2.333333</td>\n",
       "      <td>1.166667</td>\n",
       "      <td>2.833333</td>\n",
       "      <td>1.333333</td>\n",
       "      <td>17.333333</td>\n",
       "      <td>2.916667</td>\n",
       "      <td>5.750000</td>\n",
       "      <td>2.833333</td>\n",
       "      <td>2.750000</td>\n",
       "      <td>4.166667</td>\n",
       "      <td>3.500000</td>\n",
       "      <td>2.583333</td>\n",
       "      <td>3.250000</td>\n",
       "    </tr>\n",
       "    <tr>\n",
       "      <th rowspan=\"3\" valign=\"top\">3</th>\n",
       "      <th>Manager</th>\n",
       "      <td>47.437500</td>\n",
       "      <td>10.125000</td>\n",
       "      <td>2.937500</td>\n",
       "      <td>3.125000</td>\n",
       "      <td>65.812500</td>\n",
       "      <td>2.750000</td>\n",
       "      <td>4.125000</td>\n",
       "      <td>3.187500</td>\n",
       "      <td>2.937500</td>\n",
       "      <td>13.625000</td>\n",
       "      <td>3.062500</td>\n",
       "      <td>23.875000</td>\n",
       "      <td>2.375000</td>\n",
       "      <td>2.812500</td>\n",
       "      <td>10.687500</td>\n",
       "      <td>5.875000</td>\n",
       "      <td>2.687500</td>\n",
       "      <td>4.625000</td>\n",
       "    </tr>\n",
       "    <tr>\n",
       "      <th>Sales Executive</th>\n",
       "      <td>36.679558</td>\n",
       "      <td>9.182320</td>\n",
       "      <td>3.000000</td>\n",
       "      <td>2.977901</td>\n",
       "      <td>65.116022</td>\n",
       "      <td>2.729282</td>\n",
       "      <td>2.314917</td>\n",
       "      <td>2.767956</td>\n",
       "      <td>2.580110</td>\n",
       "      <td>14.254144</td>\n",
       "      <td>2.762431</td>\n",
       "      <td>11.060773</td>\n",
       "      <td>2.773481</td>\n",
       "      <td>2.790055</td>\n",
       "      <td>7.204420</td>\n",
       "      <td>4.524862</td>\n",
       "      <td>1.961326</td>\n",
       "      <td>4.397790</td>\n",
       "    </tr>\n",
       "    <tr>\n",
       "      <th>Sales Representative</th>\n",
       "      <td>30.481481</td>\n",
       "      <td>8.351852</td>\n",
       "      <td>2.481481</td>\n",
       "      <td>2.888889</td>\n",
       "      <td>64.500000</td>\n",
       "      <td>2.703704</td>\n",
       "      <td>1.074074</td>\n",
       "      <td>2.722222</td>\n",
       "      <td>1.648148</td>\n",
       "      <td>14.703704</td>\n",
       "      <td>2.518519</td>\n",
       "      <td>4.481481</td>\n",
       "      <td>2.944444</td>\n",
       "      <td>2.833333</td>\n",
       "      <td>2.759259</td>\n",
       "      <td>1.796296</td>\n",
       "      <td>0.796296</td>\n",
       "      <td>1.407407</td>\n",
       "    </tr>\n",
       "    <tr>\n",
       "      <th rowspan=\"3\" valign=\"top\">4</th>\n",
       "      <th>Manager</th>\n",
       "      <td>45.714286</td>\n",
       "      <td>9.714286</td>\n",
       "      <td>3.285714</td>\n",
       "      <td>3.428571</td>\n",
       "      <td>65.285714</td>\n",
       "      <td>2.571429</td>\n",
       "      <td>4.285714</td>\n",
       "      <td>2.714286</td>\n",
       "      <td>4.857143</td>\n",
       "      <td>19.285714</td>\n",
       "      <td>2.000000</td>\n",
       "      <td>26.000000</td>\n",
       "      <td>3.142857</td>\n",
       "      <td>3.000000</td>\n",
       "      <td>21.142857</td>\n",
       "      <td>7.714286</td>\n",
       "      <td>4.285714</td>\n",
       "      <td>8.285714</td>\n",
       "    </tr>\n",
       "    <tr>\n",
       "      <th>Sales Executive</th>\n",
       "      <td>35.280000</td>\n",
       "      <td>8.720000</td>\n",
       "      <td>3.120000</td>\n",
       "      <td>2.880000</td>\n",
       "      <td>60.520000</td>\n",
       "      <td>2.760000</td>\n",
       "      <td>2.120000</td>\n",
       "      <td>3.120000</td>\n",
       "      <td>2.560000</td>\n",
       "      <td>19.880000</td>\n",
       "      <td>2.520000</td>\n",
       "      <td>9.280000</td>\n",
       "      <td>3.080000</td>\n",
       "      <td>3.080000</td>\n",
       "      <td>7.200000</td>\n",
       "      <td>5.200000</td>\n",
       "      <td>2.040000</td>\n",
       "      <td>4.760000</td>\n",
       "    </tr>\n",
       "    <tr>\n",
       "      <th>Sales Representative</th>\n",
       "      <td>27.666667</td>\n",
       "      <td>4.333333</td>\n",
       "      <td>2.000000</td>\n",
       "      <td>3.333333</td>\n",
       "      <td>81.333333</td>\n",
       "      <td>2.333333</td>\n",
       "      <td>1.000000</td>\n",
       "      <td>2.333333</td>\n",
       "      <td>1.333333</td>\n",
       "      <td>21.333333</td>\n",
       "      <td>2.333333</td>\n",
       "      <td>3.000000</td>\n",
       "      <td>4.333333</td>\n",
       "      <td>3.000000</td>\n",
       "      <td>1.333333</td>\n",
       "      <td>0.666667</td>\n",
       "      <td>0.333333</td>\n",
       "      <td>0.666667</td>\n",
       "    </tr>\n",
       "  </tbody>\n",
       "</table>\n",
       "</div>"
      ],
      "text/plain": [
       "                                              Age  DistanceFromHome  \\\n",
       "PerformanceRating EmpJobRole                                          \n",
       "2                 Manager               48.363636          4.272727   \n",
       "                  Sales Executive       36.953125         10.859375   \n",
       "                  Sales Representative  31.000000          8.416667   \n",
       "3                 Manager               47.437500         10.125000   \n",
       "                  Sales Executive       36.679558          9.182320   \n",
       "                  Sales Representative  30.481481          8.351852   \n",
       "4                 Manager               45.714286          9.714286   \n",
       "                  Sales Executive       35.280000          8.720000   \n",
       "                  Sales Representative  27.666667          4.333333   \n",
       "\n",
       "                                        EmpEducationLevel  \\\n",
       "PerformanceRating EmpJobRole                                \n",
       "2                 Manager                        3.363636   \n",
       "                  Sales Executive                2.984375   \n",
       "                  Sales Representative           2.416667   \n",
       "3                 Manager                        2.937500   \n",
       "                  Sales Executive                3.000000   \n",
       "                  Sales Representative           2.481481   \n",
       "4                 Manager                        3.285714   \n",
       "                  Sales Executive                3.120000   \n",
       "                  Sales Representative           2.000000   \n",
       "\n",
       "                                        EmpEnvironmentSatisfaction  \\\n",
       "PerformanceRating EmpJobRole                                         \n",
       "2                 Manager                                 1.454545   \n",
       "                  Sales Executive                         1.625000   \n",
       "                  Sales Representative                    1.500000   \n",
       "3                 Manager                                 3.125000   \n",
       "                  Sales Executive                         2.977901   \n",
       "                  Sales Representative                    2.888889   \n",
       "4                 Manager                                 3.428571   \n",
       "                  Sales Executive                         2.880000   \n",
       "                  Sales Representative                    3.333333   \n",
       "\n",
       "                                        EmpHourlyRate  EmpJobInvolvement  \\\n",
       "PerformanceRating EmpJobRole                                               \n",
       "2                 Manager                   76.818182           2.454545   \n",
       "                  Sales Executive           65.843750           2.625000   \n",
       "                  Sales Representative      64.083333           2.333333   \n",
       "3                 Manager                   65.812500           2.750000   \n",
       "                  Sales Executive           65.116022           2.729282   \n",
       "                  Sales Representative      64.500000           2.703704   \n",
       "4                 Manager                   65.285714           2.571429   \n",
       "                  Sales Executive           60.520000           2.760000   \n",
       "                  Sales Representative      81.333333           2.333333   \n",
       "\n",
       "                                        EmpJobLevel  EmpJobSatisfaction  \\\n",
       "PerformanceRating EmpJobRole                                              \n",
       "2                 Manager                  4.545455            2.363636   \n",
       "                  Sales Executive          2.421875            2.640625   \n",
       "                  Sales Representative     1.166667            2.833333   \n",
       "3                 Manager                  4.125000            3.187500   \n",
       "                  Sales Executive          2.314917            2.767956   \n",
       "                  Sales Representative     1.074074            2.722222   \n",
       "4                 Manager                  4.285714            2.714286   \n",
       "                  Sales Executive          2.120000            3.120000   \n",
       "                  Sales Representative     1.000000            2.333333   \n",
       "\n",
       "                                        NumCompaniesWorked  \\\n",
       "PerformanceRating EmpJobRole                                 \n",
       "2                 Manager                         3.090909   \n",
       "                  Sales Executive                 2.781250   \n",
       "                  Sales Representative            1.333333   \n",
       "3                 Manager                         2.937500   \n",
       "                  Sales Executive                 2.580110   \n",
       "                  Sales Representative            1.648148   \n",
       "4                 Manager                         4.857143   \n",
       "                  Sales Executive                 2.560000   \n",
       "                  Sales Representative            1.333333   \n",
       "\n",
       "                                        EmpLastSalaryHikePercent  \\\n",
       "PerformanceRating EmpJobRole                                       \n",
       "2                 Manager                              15.909091   \n",
       "                  Sales Executive                      15.328125   \n",
       "                  Sales Representative                 17.333333   \n",
       "3                 Manager                              13.625000   \n",
       "                  Sales Executive                      14.254144   \n",
       "                  Sales Representative                 14.703704   \n",
       "4                 Manager                              19.285714   \n",
       "                  Sales Executive                      19.880000   \n",
       "                  Sales Representative                 21.333333   \n",
       "\n",
       "                                        EmpRelationshipSatisfaction  \\\n",
       "PerformanceRating EmpJobRole                                          \n",
       "2                 Manager                                  3.181818   \n",
       "                  Sales Executive                          2.703125   \n",
       "                  Sales Representative                     2.916667   \n",
       "3                 Manager                                  3.062500   \n",
       "                  Sales Executive                          2.762431   \n",
       "                  Sales Representative                     2.518519   \n",
       "4                 Manager                                  2.000000   \n",
       "                  Sales Executive                          2.520000   \n",
       "                  Sales Representative                     2.333333   \n",
       "\n",
       "                                        TotalWorkExperienceInYears  \\\n",
       "PerformanceRating EmpJobRole                                         \n",
       "2                 Manager                                28.272727   \n",
       "                  Sales Executive                        11.703125   \n",
       "                  Sales Representative                    5.750000   \n",
       "3                 Manager                                23.875000   \n",
       "                  Sales Executive                        11.060773   \n",
       "                  Sales Representative                    4.481481   \n",
       "4                 Manager                                26.000000   \n",
       "                  Sales Executive                         9.280000   \n",
       "                  Sales Representative                    3.000000   \n",
       "\n",
       "                                        TrainingTimesLastYear  \\\n",
       "PerformanceRating EmpJobRole                                    \n",
       "2                 Manager                            2.454545   \n",
       "                  Sales Executive                    2.875000   \n",
       "                  Sales Representative               2.833333   \n",
       "3                 Manager                            2.375000   \n",
       "                  Sales Executive                    2.773481   \n",
       "                  Sales Representative               2.944444   \n",
       "4                 Manager                            3.142857   \n",
       "                  Sales Executive                    3.080000   \n",
       "                  Sales Representative               4.333333   \n",
       "\n",
       "                                        EmpWorkLifeBalance  \\\n",
       "PerformanceRating EmpJobRole                                 \n",
       "2                 Manager                         2.818182   \n",
       "                  Sales Executive                 2.640625   \n",
       "                  Sales Representative            2.750000   \n",
       "3                 Manager                         2.812500   \n",
       "                  Sales Executive                 2.790055   \n",
       "                  Sales Representative            2.833333   \n",
       "4                 Manager                         3.000000   \n",
       "                  Sales Executive                 3.080000   \n",
       "                  Sales Representative            3.000000   \n",
       "\n",
       "                                        ExperienceYearsAtThisCompany  \\\n",
       "PerformanceRating EmpJobRole                                           \n",
       "2                 Manager                                  19.545455   \n",
       "                  Sales Executive                           9.000000   \n",
       "                  Sales Representative                      4.166667   \n",
       "3                 Manager                                  10.687500   \n",
       "                  Sales Executive                           7.204420   \n",
       "                  Sales Representative                      2.759259   \n",
       "4                 Manager                                  21.142857   \n",
       "                  Sales Executive                           7.200000   \n",
       "                  Sales Representative                      1.333333   \n",
       "\n",
       "                                        ExperienceYearsInCurrentRole  \\\n",
       "PerformanceRating EmpJobRole                                           \n",
       "2                 Manager                                   9.181818   \n",
       "                  Sales Executive                           6.156250   \n",
       "                  Sales Representative                      3.500000   \n",
       "3                 Manager                                   5.875000   \n",
       "                  Sales Executive                           4.524862   \n",
       "                  Sales Representative                      1.796296   \n",
       "4                 Manager                                   7.714286   \n",
       "                  Sales Executive                           5.200000   \n",
       "                  Sales Representative                      0.666667   \n",
       "\n",
       "                                        YearsSinceLastPromotion  \\\n",
       "PerformanceRating EmpJobRole                                      \n",
       "2                 Manager                              7.090909   \n",
       "                  Sales Executive                      4.203125   \n",
       "                  Sales Representative                 2.583333   \n",
       "3                 Manager                              2.687500   \n",
       "                  Sales Executive                      1.961326   \n",
       "                  Sales Representative                 0.796296   \n",
       "4                 Manager                              4.285714   \n",
       "                  Sales Executive                      2.040000   \n",
       "                  Sales Representative                 0.333333   \n",
       "\n",
       "                                        YearsWithCurrManager  \n",
       "PerformanceRating EmpJobRole                                  \n",
       "2                 Manager                           8.727273  \n",
       "                  Sales Executive                   5.500000  \n",
       "                  Sales Representative              3.250000  \n",
       "3                 Manager                           4.625000  \n",
       "                  Sales Executive                   4.397790  \n",
       "                  Sales Representative              1.407407  \n",
       "4                 Manager                           8.285714  \n",
       "                  Sales Executive                   4.760000  \n",
       "                  Sales Representative              0.666667  "
      ]
     },
     "execution_count": 24,
     "metadata": {},
     "output_type": "execute_result"
    }
   ],
   "source": [
    "sales.groupby(by=['PerformanceRating','EmpJobRole']).mean()"
   ]
  },
  {
   "cell_type": "code",
   "execution_count": 25,
   "metadata": {
    "colab": {
     "base_uri": "https://localhost:8080/",
     "height": 367
    },
    "id": "dtbo4MMKV_Q5",
    "outputId": "cb20be49-10bf-431d-88c3-4d0cc41ff327"
   },
   "outputs": [
    {
     "data": {
      "text/plain": [
       "Text(0.5, 1.0, 'Performance Rating in the Sales Department')"
      ]
     },
     "execution_count": 25,
     "metadata": {},
     "output_type": "execute_result"
    },
    {
     "data": {
      "image/png": "[encoded data removed]",
      "text/plain": [
       "<Figure size 576x360 with 1 Axes>"
      ]
     },
     "metadata": {
      "needs_background": "light"
     },
     "output_type": "display_data"
    }
   ],
   "source": [
    "plt.figure(figsize=(8,5))\n",
    "sns.barplot(y=\"EmpJobRole\",x=\"PerformanceRating\",hue=\"Gender\", data=sales)\n",
    "plt.title(\"Performance Rating in the Sales Department\")"
   ]
  },
  {
   "cell_type": "markdown",
   "metadata": {
    "id": "O80oIOxKnXcn"
   },
   "source": [
    "In terms of manager , male has a higher performance rating than female , other than that , the rest of the roles share the same performance rating"
   ]
  },
  {
   "cell_type": "code",
   "execution_count": 26,
   "metadata": {
    "colab": {
     "base_uri": "https://localhost:8080/",
     "height": 139
    },
    "id": "v7mJntkxdD6s",
    "outputId": "9502b190-2b21-4614-afdc-eab5174051d0"
   },
   "outputs": [
    {
     "data": {
      "text/plain": [
       "Sales                     373\n",
       "Development               361\n",
       "Research & Development    343\n",
       "Human Resources            54\n",
       "Finance                    49\n",
       "Data Science               20\n",
       "Name: EmpDepartment, dtype: int64"
      ]
     },
     "execution_count": 26,
     "metadata": {},
     "output_type": "execute_result"
    }
   ],
   "source": [
    "df['EmpDepartment'].value_counts()"
   ]
  },
  {
   "cell_type": "markdown",
   "metadata": {
    "id": "Cq8UeJFqk6Nr"
   },
   "source": [
    "<h3>Developer</h3>"
   ]
  },
  {
   "cell_type": "code",
   "execution_count": 27,
   "metadata": {
    "id": "J7ZDhbBfdEla"
   },
   "outputs": [],
   "source": [
    "developer = df.loc[df['EmpDepartment']==\"Development\"]"
   ]
  },
  {
   "cell_type": "code",
   "execution_count": 28,
   "metadata": {
    "colab": {
     "base_uri": "https://localhost:8080/",
     "height": 422
    },
    "id": "SXXfXPBishXh",
    "outputId": "d6faaa29-6077-4231-e95a-670190ea32a9"
   },
   "outputs": [
    {
     "name": "stderr",
     "output_type": "stream",
     "text": [
      "C:\\Users\\Anand\\.conda\\envs\\aimethodology\\lib\\site-packages\\seaborn\\_decorators.py:36: FutureWarning: Pass the following variable as a keyword arg: x. From version 0.12, the only valid positional argument will be `data`, and passing other arguments without an explicit keyword will result in an error or misinterpretation.\n",
      "  warnings.warn(\n"
     ]
    },
    {
     "data": {
      "text/plain": [
       "Text(0.5, 1.0, 'Overall strength in Development')"
      ]
     },
     "execution_count": 28,
     "metadata": {},
     "output_type": "execute_result"
    },
    {
     "data": {
      "image/png": "[encoded data removed]",
      "text/plain": [
       "<Figure size 576x360 with 1 Axes>"
      ]
     },
     "metadata": {
      "needs_background": "light"
     },
     "output_type": "display_data"
    }
   ],
   "source": [
    "plt.figure(figsize=(8,5))\n",
    "sns.countplot(developer['Gender'])\n",
    "plt.title('Overall strength in Development')"
   ]
  },
  {
   "cell_type": "code",
   "execution_count": 29,
   "metadata": {
    "colab": {
     "base_uri": "https://localhost:8080/",
     "height": 533
    },
    "id": "fe9T7a8seJBC",
    "outputId": "1ed843f0-ba57-4d36-f3a2-9fc0274ca389"
   },
   "outputs": [
    {
     "name": "stderr",
     "output_type": "stream",
     "text": [
      "C:\\Users\\Anand\\AppData\\Local\\Temp\\ipykernel_16164\\133320624.py:1: FutureWarning: Indexing with multiple keys (implicitly converted to a tuple of keys) will be deprecated, use a list instead.\n",
      "  developer.groupby(by=['PerformanceRating','EmpJobRole'])['Age','EmpJobInvolvement','TotalWorkExperienceInYears','EmpJobSatisfaction',\n"
     ]
    },
    {
     "data": {
      "text/html": [
       "<div>\n",
       "<style scoped>\n",
       "    .dataframe tbody tr th:only-of-type {\n",
       "        vertical-align: middle;\n",
       "    }\n",
       "\n",
       "    .dataframe tbody tr th {\n",
       "        vertical-align: top;\n",
       "    }\n",
       "\n",
       "    .dataframe thead th {\n",
       "        text-align: right;\n",
       "    }\n",
       "</style>\n",
       "<table border=\"1\" class=\"dataframe\">\n",
       "  <thead>\n",
       "    <tr style=\"text-align: right;\">\n",
       "      <th></th>\n",
       "      <th></th>\n",
       "      <th>Age</th>\n",
       "      <th>EmpJobInvolvement</th>\n",
       "      <th>TotalWorkExperienceInYears</th>\n",
       "      <th>EmpJobSatisfaction</th>\n",
       "      <th>EmpEnvironmentSatisfaction</th>\n",
       "    </tr>\n",
       "    <tr>\n",
       "      <th>PerformanceRating</th>\n",
       "      <th>EmpJobRole</th>\n",
       "      <th></th>\n",
       "      <th></th>\n",
       "      <th></th>\n",
       "      <th></th>\n",
       "      <th></th>\n",
       "    </tr>\n",
       "  </thead>\n",
       "  <tbody>\n",
       "    <tr>\n",
       "      <th rowspan=\"3\" valign=\"top\">2</th>\n",
       "      <th>Developer</th>\n",
       "      <td>36.833333</td>\n",
       "      <td>2.833333</td>\n",
       "      <td>13.833333</td>\n",
       "      <td>2.833333</td>\n",
       "      <td>1.166667</td>\n",
       "    </tr>\n",
       "    <tr>\n",
       "      <th>Senior Developer</th>\n",
       "      <td>34.166667</td>\n",
       "      <td>3.166667</td>\n",
       "      <td>13.833333</td>\n",
       "      <td>2.833333</td>\n",
       "      <td>1.666667</td>\n",
       "    </tr>\n",
       "    <tr>\n",
       "      <th>Technical Lead</th>\n",
       "      <td>31.000000</td>\n",
       "      <td>3.000000</td>\n",
       "      <td>9.000000</td>\n",
       "      <td>3.000000</td>\n",
       "      <td>2.000000</td>\n",
       "    </tr>\n",
       "    <tr>\n",
       "      <th rowspan=\"6\" valign=\"top\">3</th>\n",
       "      <th>Business Analyst</th>\n",
       "      <td>35.153846</td>\n",
       "      <td>2.538462</td>\n",
       "      <td>11.076923</td>\n",
       "      <td>2.384615</td>\n",
       "      <td>2.384615</td>\n",
       "    </tr>\n",
       "    <tr>\n",
       "      <th>Delivery Manager</th>\n",
       "      <td>38.333333</td>\n",
       "      <td>3.083333</td>\n",
       "      <td>14.833333</td>\n",
       "      <td>2.750000</td>\n",
       "      <td>3.333333</td>\n",
       "    </tr>\n",
       "    <tr>\n",
       "      <th>Developer</th>\n",
       "      <td>36.869347</td>\n",
       "      <td>2.773869</td>\n",
       "      <td>10.753769</td>\n",
       "      <td>2.733668</td>\n",
       "      <td>2.557789</td>\n",
       "    </tr>\n",
       "    <tr>\n",
       "      <th>Senior Developer</th>\n",
       "      <td>36.425000</td>\n",
       "      <td>2.750000</td>\n",
       "      <td>12.725000</td>\n",
       "      <td>2.825000</td>\n",
       "      <td>3.125000</td>\n",
       "    </tr>\n",
       "    <tr>\n",
       "      <th>Technical Architect</th>\n",
       "      <td>34.000000</td>\n",
       "      <td>2.857143</td>\n",
       "      <td>4.285714</td>\n",
       "      <td>2.714286</td>\n",
       "      <td>3.285714</td>\n",
       "    </tr>\n",
       "    <tr>\n",
       "      <th>Technical Lead</th>\n",
       "      <td>38.696970</td>\n",
       "      <td>2.939394</td>\n",
       "      <td>11.575758</td>\n",
       "      <td>2.787879</td>\n",
       "      <td>3.060606</td>\n",
       "    </tr>\n",
       "    <tr>\n",
       "      <th rowspan=\"4\" valign=\"top\">4</th>\n",
       "      <th>Business Analyst</th>\n",
       "      <td>38.666667</td>\n",
       "      <td>2.000000</td>\n",
       "      <td>10.000000</td>\n",
       "      <td>2.666667</td>\n",
       "      <td>2.000000</td>\n",
       "    </tr>\n",
       "    <tr>\n",
       "      <th>Developer</th>\n",
       "      <td>32.967742</td>\n",
       "      <td>2.645161</td>\n",
       "      <td>9.322581</td>\n",
       "      <td>2.774194</td>\n",
       "      <td>2.967742</td>\n",
       "    </tr>\n",
       "    <tr>\n",
       "      <th>Senior Developer</th>\n",
       "      <td>42.000000</td>\n",
       "      <td>3.166667</td>\n",
       "      <td>11.500000</td>\n",
       "      <td>2.666667</td>\n",
       "      <td>3.500000</td>\n",
       "    </tr>\n",
       "    <tr>\n",
       "      <th>Technical Lead</th>\n",
       "      <td>39.750000</td>\n",
       "      <td>3.000000</td>\n",
       "      <td>7.000000</td>\n",
       "      <td>3.250000</td>\n",
       "      <td>2.750000</td>\n",
       "    </tr>\n",
       "  </tbody>\n",
       "</table>\n",
       "</div>"
      ],
      "text/plain": [
       "                                             Age  EmpJobInvolvement  \\\n",
       "PerformanceRating EmpJobRole                                          \n",
       "2                 Developer            36.833333           2.833333   \n",
       "                  Senior Developer     34.166667           3.166667   \n",
       "                  Technical Lead       31.000000           3.000000   \n",
       "3                 Business Analyst     35.153846           2.538462   \n",
       "                  Delivery Manager     38.333333           3.083333   \n",
       "                  Developer            36.869347           2.773869   \n",
       "                  Senior Developer     36.425000           2.750000   \n",
       "                  Technical Architect  34.000000           2.857143   \n",
       "                  Technical Lead       38.696970           2.939394   \n",
       "4                 Business Analyst     38.666667           2.000000   \n",
       "                  Developer            32.967742           2.645161   \n",
       "                  Senior Developer     42.000000           3.166667   \n",
       "                  Technical Lead       39.750000           3.000000   \n",
       "\n",
       "                                       TotalWorkExperienceInYears  \\\n",
       "PerformanceRating EmpJobRole                                        \n",
       "2                 Developer                             13.833333   \n",
       "                  Senior Developer                      13.833333   \n",
       "                  Technical Lead                         9.000000   \n",
       "3                 Business Analyst                      11.076923   \n",
       "                  Delivery Manager                      14.833333   \n",
       "                  Developer                             10.753769   \n",
       "                  Senior Developer                      12.725000   \n",
       "                  Technical Architect                    4.285714   \n",
       "                  Technical Lead                        11.575758   \n",
       "4                 Business Analyst                      10.000000   \n",
       "                  Developer                              9.322581   \n",
       "                  Senior Developer                      11.500000   \n",
       "                  Technical Lead                         7.000000   \n",
       "\n",
       "                                       EmpJobSatisfaction  \\\n",
       "PerformanceRating EmpJobRole                                \n",
       "2                 Developer                      2.833333   \n",
       "                  Senior Developer               2.833333   \n",
       "                  Technical Lead                 3.000000   \n",
       "3                 Business Analyst               2.384615   \n",
       "                  Delivery Manager               2.750000   \n",
       "                  Developer                      2.733668   \n",
       "                  Senior Developer               2.825000   \n",
       "                  Technical Architect            2.714286   \n",
       "                  Technical Lead                 2.787879   \n",
       "4                 Business Analyst               2.666667   \n",
       "                  Developer                      2.774194   \n",
       "                  Senior Developer               2.666667   \n",
       "                  Technical Lead                 3.250000   \n",
       "\n",
       "                                       EmpEnvironmentSatisfaction  \n",
       "PerformanceRating EmpJobRole                                       \n",
       "2                 Developer                              1.166667  \n",
       "                  Senior Developer                       1.666667  \n",
       "                  Technical Lead                         2.000000  \n",
       "3                 Business Analyst                       2.384615  \n",
       "                  Delivery Manager                       3.333333  \n",
       "                  Developer                              2.557789  \n",
       "                  Senior Developer                       3.125000  \n",
       "                  Technical Architect                    3.285714  \n",
       "                  Technical Lead                         3.060606  \n",
       "4                 Business Analyst                       2.000000  \n",
       "                  Developer                              2.967742  \n",
       "                  Senior Developer                       3.500000  \n",
       "                  Technical Lead                         2.750000  "
      ]
     },
     "execution_count": 29,
     "metadata": {},
     "output_type": "execute_result"
    }
   ],
   "source": [
    "developer.groupby(by=['PerformanceRating','EmpJobRole'])['Age','EmpJobInvolvement','TotalWorkExperienceInYears','EmpJobSatisfaction',\n",
    "                                                         'EmpEnvironmentSatisfaction'].mean()"
   ]
  },
  {
   "cell_type": "code",
   "execution_count": 30,
   "metadata": {
    "colab": {
     "base_uri": "https://localhost:8080/",
     "height": 367
    },
    "id": "6khiRRF6poZ-",
    "outputId": "1ce86bec-0f39-4edf-ca0e-e46c276f8104"
   },
   "outputs": [
    {
     "data": {
      "text/plain": [
       "Text(0.5, 1.0, 'Performance Rating in the Development Department')"
      ]
     },
     "execution_count": 30,
     "metadata": {},
     "output_type": "execute_result"
    },
    {
     "data": {
      "image/png": "[encoded data removed]",
      "text/plain": [
       "<Figure size 576x360 with 1 Axes>"
      ]
     },
     "metadata": {
      "needs_background": "light"
     },
     "output_type": "display_data"
    }
   ],
   "source": [
    "plt.figure(figsize=(8,5))\n",
    "sns.barplot(y=\"EmpJobRole\",x=\"PerformanceRating\",hue='Gender',data=developer)\n",
    "plt.title(\"Performance Rating in the Development Department\")"
   ]
  },
  {
   "cell_type": "markdown",
   "metadata": {
    "id": "HtkIPUaanlZJ"
   },
   "source": [
    "Performance rating the development team is almost the same with an average performance rating of 3 , meaning that all of them are satisfied with the job"
   ]
  },
  {
   "cell_type": "markdown",
   "metadata": {
    "id": "8Kn21AXQk8zC"
   },
   "source": [
    "<h3>Research & Development</h3>"
   ]
  },
  {
   "cell_type": "code",
   "execution_count": 31,
   "metadata": {
    "id": "alqYzRsLp5bG"
   },
   "outputs": [],
   "source": [
    "rnd = df.loc[df['EmpDepartment']==\"Research & Development\"]"
   ]
  },
  {
   "cell_type": "code",
   "execution_count": 32,
   "metadata": {
    "colab": {
     "base_uri": "https://localhost:8080/",
     "height": 422
    },
    "id": "Mh_UIYR0s7Ev",
    "outputId": "8d6e1718-c3ca-4bea-d0e2-82ba979aad5b"
   },
   "outputs": [
    {
     "name": "stderr",
     "output_type": "stream",
     "text": [
      "C:\\Users\\Anand\\.conda\\envs\\aimethodology\\lib\\site-packages\\seaborn\\_decorators.py:36: FutureWarning: Pass the following variable as a keyword arg: x. From version 0.12, the only valid positional argument will be `data`, and passing other arguments without an explicit keyword will result in an error or misinterpretation.\n",
      "  warnings.warn(\n"
     ]
    },
    {
     "data": {
      "text/plain": [
       "Text(0.5, 1.0, 'Overall strength in R&D')"
      ]
     },
     "execution_count": 32,
     "metadata": {},
     "output_type": "execute_result"
    },
    {
     "data": {
      "image/png": "[encoded data removed]",
      "text/plain": [
       "<Figure size 576x360 with 1 Axes>"
      ]
     },
     "metadata": {
      "needs_background": "light"
     },
     "output_type": "display_data"
    }
   ],
   "source": [
    "plt.figure(figsize=(8,5))\n",
    "sns.countplot(rnd['Gender'])\n",
    "plt.title('Overall strength in R&D')"
   ]
  },
  {
   "cell_type": "code",
   "execution_count": 33,
   "metadata": {
    "colab": {
     "base_uri": "https://localhost:8080/",
     "height": 891
    },
    "id": "Ql5Qm-7gqNnL",
    "outputId": "006b799d-0053-45c1-89da-6eebcdcf9dd2"
   },
   "outputs": [
    {
     "name": "stderr",
     "output_type": "stream",
     "text": [
      "C:\\Users\\Anand\\AppData\\Local\\Temp\\ipykernel_16164\\3894952035.py:1: FutureWarning: Indexing with multiple keys (implicitly converted to a tuple of keys) will be deprecated, use a list instead.\n",
      "  rnd.groupby(by=['PerformanceRating','EmpJobRole'])['Age','EmpJobInvolvement','TotalWorkExperienceInYears','EmpJobSatisfaction',\n"
     ]
    },
    {
     "data": {
      "text/html": [
       "<div>\n",
       "<style scoped>\n",
       "    .dataframe tbody tr th:only-of-type {\n",
       "        vertical-align: middle;\n",
       "    }\n",
       "\n",
       "    .dataframe tbody tr th {\n",
       "        vertical-align: top;\n",
       "    }\n",
       "\n",
       "    .dataframe thead th {\n",
       "        text-align: right;\n",
       "    }\n",
       "</style>\n",
       "<table border=\"1\" class=\"dataframe\">\n",
       "  <thead>\n",
       "    <tr style=\"text-align: right;\">\n",
       "      <th></th>\n",
       "      <th></th>\n",
       "      <th>Age</th>\n",
       "      <th>EmpJobInvolvement</th>\n",
       "      <th>TotalWorkExperienceInYears</th>\n",
       "      <th>EmpJobSatisfaction</th>\n",
       "      <th>EmpEnvironmentSatisfaction</th>\n",
       "    </tr>\n",
       "    <tr>\n",
       "      <th>PerformanceRating</th>\n",
       "      <th>EmpJobRole</th>\n",
       "      <th></th>\n",
       "      <th></th>\n",
       "      <th></th>\n",
       "      <th></th>\n",
       "      <th></th>\n",
       "    </tr>\n",
       "  </thead>\n",
       "  <tbody>\n",
       "    <tr>\n",
       "      <th rowspan=\"7\" valign=\"top\">2</th>\n",
       "      <th>Healthcare Representative</th>\n",
       "      <td>40.250000</td>\n",
       "      <td>2.875000</td>\n",
       "      <td>13.500000</td>\n",
       "      <td>2.625000</td>\n",
       "      <td>1.625000</td>\n",
       "    </tr>\n",
       "    <tr>\n",
       "      <th>Laboratory Technician</th>\n",
       "      <td>32.785714</td>\n",
       "      <td>2.714286</td>\n",
       "      <td>7.714286</td>\n",
       "      <td>2.785714</td>\n",
       "      <td>1.714286</td>\n",
       "    </tr>\n",
       "    <tr>\n",
       "      <th>Manager R&amp;D</th>\n",
       "      <td>42.058824</td>\n",
       "      <td>3.117647</td>\n",
       "      <td>16.529412</td>\n",
       "      <td>3.058824</td>\n",
       "      <td>1.529412</td>\n",
       "    </tr>\n",
       "    <tr>\n",
       "      <th>Manufacturing Director</th>\n",
       "      <td>35.000000</td>\n",
       "      <td>2.333333</td>\n",
       "      <td>10.000000</td>\n",
       "      <td>3.000000</td>\n",
       "      <td>2.000000</td>\n",
       "    </tr>\n",
       "    <tr>\n",
       "      <th>Research Director</th>\n",
       "      <td>36.600000</td>\n",
       "      <td>2.400000</td>\n",
       "      <td>17.200000</td>\n",
       "      <td>2.200000</td>\n",
       "      <td>2.000000</td>\n",
       "    </tr>\n",
       "    <tr>\n",
       "      <th>Research Scientist</th>\n",
       "      <td>39.941176</td>\n",
       "      <td>2.764706</td>\n",
       "      <td>10.294118</td>\n",
       "      <td>3.117647</td>\n",
       "      <td>1.470588</td>\n",
       "    </tr>\n",
       "    <tr>\n",
       "      <th>Senior Manager R&amp;D</th>\n",
       "      <td>30.500000</td>\n",
       "      <td>2.250000</td>\n",
       "      <td>7.750000</td>\n",
       "      <td>3.000000</td>\n",
       "      <td>1.250000</td>\n",
       "    </tr>\n",
       "    <tr>\n",
       "      <th rowspan=\"8\" valign=\"top\">3</th>\n",
       "      <th>Healthcare Representative</th>\n",
       "      <td>38.454545</td>\n",
       "      <td>2.681818</td>\n",
       "      <td>13.409091</td>\n",
       "      <td>2.863636</td>\n",
       "      <td>3.045455</td>\n",
       "    </tr>\n",
       "    <tr>\n",
       "      <th>Laboratory Technician</th>\n",
       "      <td>33.911111</td>\n",
       "      <td>2.622222</td>\n",
       "      <td>7.177778</td>\n",
       "      <td>2.666667</td>\n",
       "      <td>3.044444</td>\n",
       "    </tr>\n",
       "    <tr>\n",
       "      <th>Manager</th>\n",
       "      <td>45.333333</td>\n",
       "      <td>2.500000</td>\n",
       "      <td>21.500000</td>\n",
       "      <td>2.500000</td>\n",
       "      <td>3.666667</td>\n",
       "    </tr>\n",
       "    <tr>\n",
       "      <th>Manager R&amp;D</th>\n",
       "      <td>37.590909</td>\n",
       "      <td>2.712121</td>\n",
       "      <td>11.833333</td>\n",
       "      <td>2.636364</td>\n",
       "      <td>2.984848</td>\n",
       "    </tr>\n",
       "    <tr>\n",
       "      <th>Manufacturing Director</th>\n",
       "      <td>41.071429</td>\n",
       "      <td>2.678571</td>\n",
       "      <td>16.214286</td>\n",
       "      <td>2.642857</td>\n",
       "      <td>3.178571</td>\n",
       "    </tr>\n",
       "    <tr>\n",
       "      <th>Research Director</th>\n",
       "      <td>43.545455</td>\n",
       "      <td>2.363636</td>\n",
       "      <td>21.727273</td>\n",
       "      <td>3.000000</td>\n",
       "      <td>3.090909</td>\n",
       "    </tr>\n",
       "    <tr>\n",
       "      <th>Research Scientist</th>\n",
       "      <td>34.282609</td>\n",
       "      <td>2.695652</td>\n",
       "      <td>8.065217</td>\n",
       "      <td>2.739130</td>\n",
       "      <td>2.956522</td>\n",
       "    </tr>\n",
       "    <tr>\n",
       "      <th>Senior Manager R&amp;D</th>\n",
       "      <td>39.300000</td>\n",
       "      <td>2.900000</td>\n",
       "      <td>13.300000</td>\n",
       "      <td>2.700000</td>\n",
       "      <td>2.900000</td>\n",
       "    </tr>\n",
       "    <tr>\n",
       "      <th rowspan=\"8\" valign=\"top\">4</th>\n",
       "      <th>Healthcare Representative</th>\n",
       "      <td>50.000000</td>\n",
       "      <td>2.000000</td>\n",
       "      <td>15.333333</td>\n",
       "      <td>2.666667</td>\n",
       "      <td>3.333333</td>\n",
       "    </tr>\n",
       "    <tr>\n",
       "      <th>Laboratory Technician</th>\n",
       "      <td>37.000000</td>\n",
       "      <td>2.400000</td>\n",
       "      <td>6.800000</td>\n",
       "      <td>1.400000</td>\n",
       "      <td>2.800000</td>\n",
       "    </tr>\n",
       "    <tr>\n",
       "      <th>Manager</th>\n",
       "      <td>50.000000</td>\n",
       "      <td>2.500000</td>\n",
       "      <td>26.500000</td>\n",
       "      <td>1.500000</td>\n",
       "      <td>2.500000</td>\n",
       "    </tr>\n",
       "    <tr>\n",
       "      <th>Manager R&amp;D</th>\n",
       "      <td>38.545455</td>\n",
       "      <td>2.818182</td>\n",
       "      <td>13.272727</td>\n",
       "      <td>2.818182</td>\n",
       "      <td>3.000000</td>\n",
       "    </tr>\n",
       "    <tr>\n",
       "      <th>Manufacturing Director</th>\n",
       "      <td>33.500000</td>\n",
       "      <td>2.000000</td>\n",
       "      <td>13.000000</td>\n",
       "      <td>2.500000</td>\n",
       "      <td>3.500000</td>\n",
       "    </tr>\n",
       "    <tr>\n",
       "      <th>Research Director</th>\n",
       "      <td>38.666667</td>\n",
       "      <td>3.000000</td>\n",
       "      <td>18.000000</td>\n",
       "      <td>3.666667</td>\n",
       "      <td>3.333333</td>\n",
       "    </tr>\n",
       "    <tr>\n",
       "      <th>Research Scientist</th>\n",
       "      <td>32.642857</td>\n",
       "      <td>2.714286</td>\n",
       "      <td>7.642857</td>\n",
       "      <td>2.714286</td>\n",
       "      <td>3.500000</td>\n",
       "    </tr>\n",
       "    <tr>\n",
       "      <th>Senior Manager R&amp;D</th>\n",
       "      <td>46.000000</td>\n",
       "      <td>2.000000</td>\n",
       "      <td>19.000000</td>\n",
       "      <td>1.000000</td>\n",
       "      <td>4.000000</td>\n",
       "    </tr>\n",
       "  </tbody>\n",
       "</table>\n",
       "</div>"
      ],
      "text/plain": [
       "                                                   Age  EmpJobInvolvement  \\\n",
       "PerformanceRating EmpJobRole                                                \n",
       "2                 Healthcare Representative  40.250000           2.875000   \n",
       "                  Laboratory Technician      32.785714           2.714286   \n",
       "                  Manager R&D                42.058824           3.117647   \n",
       "                  Manufacturing Director     35.000000           2.333333   \n",
       "                  Research Director          36.600000           2.400000   \n",
       "                  Research Scientist         39.941176           2.764706   \n",
       "                  Senior Manager R&D         30.500000           2.250000   \n",
       "3                 Healthcare Representative  38.454545           2.681818   \n",
       "                  Laboratory Technician      33.911111           2.622222   \n",
       "                  Manager                    45.333333           2.500000   \n",
       "                  Manager R&D                37.590909           2.712121   \n",
       "                  Manufacturing Director     41.071429           2.678571   \n",
       "                  Research Director          43.545455           2.363636   \n",
       "                  Research Scientist         34.282609           2.695652   \n",
       "                  Senior Manager R&D         39.300000           2.900000   \n",
       "4                 Healthcare Representative  50.000000           2.000000   \n",
       "                  Laboratory Technician      37.000000           2.400000   \n",
       "                  Manager                    50.000000           2.500000   \n",
       "                  Manager R&D                38.545455           2.818182   \n",
       "                  Manufacturing Director     33.500000           2.000000   \n",
       "                  Research Director          38.666667           3.000000   \n",
       "                  Research Scientist         32.642857           2.714286   \n",
       "                  Senior Manager R&D         46.000000           2.000000   \n",
       "\n",
       "                                             TotalWorkExperienceInYears  \\\n",
       "PerformanceRating EmpJobRole                                              \n",
       "2                 Healthcare Representative                   13.500000   \n",
       "                  Laboratory Technician                        7.714286   \n",
       "                  Manager R&D                                 16.529412   \n",
       "                  Manufacturing Director                      10.000000   \n",
       "                  Research Director                           17.200000   \n",
       "                  Research Scientist                          10.294118   \n",
       "                  Senior Manager R&D                           7.750000   \n",
       "3                 Healthcare Representative                   13.409091   \n",
       "                  Laboratory Technician                        7.177778   \n",
       "                  Manager                                     21.500000   \n",
       "                  Manager R&D                                 11.833333   \n",
       "                  Manufacturing Director                      16.214286   \n",
       "                  Research Director                           21.727273   \n",
       "                  Research Scientist                           8.065217   \n",
       "                  Senior Manager R&D                          13.300000   \n",
       "4                 Healthcare Representative                   15.333333   \n",
       "                  Laboratory Technician                        6.800000   \n",
       "                  Manager                                     26.500000   \n",
       "                  Manager R&D                                 13.272727   \n",
       "                  Manufacturing Director                      13.000000   \n",
       "                  Research Director                           18.000000   \n",
       "                  Research Scientist                           7.642857   \n",
       "                  Senior Manager R&D                          19.000000   \n",
       "\n",
       "                                             EmpJobSatisfaction  \\\n",
       "PerformanceRating EmpJobRole                                      \n",
       "2                 Healthcare Representative            2.625000   \n",
       "                  Laboratory Technician                2.785714   \n",
       "                  Manager R&D                          3.058824   \n",
       "                  Manufacturing Director               3.000000   \n",
       "                  Research Director                    2.200000   \n",
       "                  Research Scientist                   3.117647   \n",
       "                  Senior Manager R&D                   3.000000   \n",
       "3                 Healthcare Representative            2.863636   \n",
       "                  Laboratory Technician                2.666667   \n",
       "                  Manager                              2.500000   \n",
       "                  Manager R&D                          2.636364   \n",
       "                  Manufacturing Director               2.642857   \n",
       "                  Research Director                    3.000000   \n",
       "                  Research Scientist                   2.739130   \n",
       "                  Senior Manager R&D                   2.700000   \n",
       "4                 Healthcare Representative            2.666667   \n",
       "                  Laboratory Technician                1.400000   \n",
       "                  Manager                              1.500000   \n",
       "                  Manager R&D                          2.818182   \n",
       "                  Manufacturing Director               2.500000   \n",
       "                  Research Director                    3.666667   \n",
       "                  Research Scientist                   2.714286   \n",
       "                  Senior Manager R&D                   1.000000   \n",
       "\n",
       "                                             EmpEnvironmentSatisfaction  \n",
       "PerformanceRating EmpJobRole                                             \n",
       "2                 Healthcare Representative                    1.625000  \n",
       "                  Laboratory Technician                        1.714286  \n",
       "                  Manager R&D                                  1.529412  \n",
       "                  Manufacturing Director                       2.000000  \n",
       "                  Research Director                            2.000000  \n",
       "                  Research Scientist                           1.470588  \n",
       "                  Senior Manager R&D                           1.250000  \n",
       "3                 Healthcare Representative                    3.045455  \n",
       "                  Laboratory Technician                        3.044444  \n",
       "                  Manager                                      3.666667  \n",
       "                  Manager R&D                                  2.984848  \n",
       "                  Manufacturing Director                       3.178571  \n",
       "                  Research Director                            3.090909  \n",
       "                  Research Scientist                           2.956522  \n",
       "                  Senior Manager R&D                           2.900000  \n",
       "4                 Healthcare Representative                    3.333333  \n",
       "                  Laboratory Technician                        2.800000  \n",
       "                  Manager                                      2.500000  \n",
       "                  Manager R&D                                  3.000000  \n",
       "                  Manufacturing Director                       3.500000  \n",
       "                  Research Director                            3.333333  \n",
       "                  Research Scientist                           3.500000  \n",
       "                  Senior Manager R&D                           4.000000  "
      ]
     },
     "execution_count": 33,
     "metadata": {},
     "output_type": "execute_result"
    }
   ],
   "source": [
    "rnd.groupby(by=['PerformanceRating','EmpJobRole'])['Age','EmpJobInvolvement','TotalWorkExperienceInYears','EmpJobSatisfaction',\n",
    "                                                         'EmpEnvironmentSatisfaction'].mean()"
   ]
  },
  {
   "cell_type": "code",
   "execution_count": 34,
   "metadata": {
    "colab": {
     "base_uri": "https://localhost:8080/",
     "height": 367
    },
    "id": "Da9VWplDqLIx",
    "outputId": "0a98527e-1c32-4b32-e8e5-13a3ecd5efe3"
   },
   "outputs": [
    {
     "data": {
      "text/plain": [
       "Text(0.5, 1.0, 'Performance Rating in the Research & Development Department')"
      ]
     },
     "execution_count": 34,
     "metadata": {},
     "output_type": "execute_result"
    },
    {
     "data": {
      "image/png": "[encoded data removed]",
      "text/plain": [
       "<Figure size 576x360 with 1 Axes>"
      ]
     },
     "metadata": {
      "needs_background": "light"
     },
     "output_type": "display_data"
    }
   ],
   "source": [
    "plt.figure(figsize=(8,5))\n",
    "sns.barplot(y=\"EmpJobRole\",x=\"PerformanceRating\",hue='Gender',data=rnd)\n",
    "plt.title(\"Performance Rating in the Research & Development Department\")"
   ]
  },
  {
   "cell_type": "markdown",
   "metadata": {
    "id": "myl6y_7koGSL"
   },
   "source": [
    "Manager has a higher performance rating , compared to the rest of the roles in the R&D team and the rest of the roles share a similar performance rating which is about 2.5 - 3"
   ]
  },
  {
   "cell_type": "markdown",
   "metadata": {
    "id": "fh4hyboTlBqA"
   },
   "source": [
    "<h3>Human Resource</h3>"
   ]
  },
  {
   "cell_type": "code",
   "execution_count": 35,
   "metadata": {
    "id": "VmK7nvfpqSVs"
   },
   "outputs": [],
   "source": [
    "human_resource = df.loc[df['EmpDepartment']==\"Human Resources\"]"
   ]
  },
  {
   "cell_type": "code",
   "execution_count": 36,
   "metadata": {
    "colab": {
     "base_uri": "https://localhost:8080/",
     "height": 422
    },
    "id": "A-YWtHMWtZx7",
    "outputId": "1c6078a0-6724-4b6e-b436-2a7ba02c0a92"
   },
   "outputs": [
    {
     "name": "stderr",
     "output_type": "stream",
     "text": [
      "C:\\Users\\Anand\\.conda\\envs\\aimethodology\\lib\\site-packages\\seaborn\\_decorators.py:36: FutureWarning: Pass the following variable as a keyword arg: x. From version 0.12, the only valid positional argument will be `data`, and passing other arguments without an explicit keyword will result in an error or misinterpretation.\n",
      "  warnings.warn(\n"
     ]
    },
    {
     "data": {
      "text/plain": [
       "Text(0.5, 1.0, 'Overall strength in Human Resource')"
      ]
     },
     "execution_count": 36,
     "metadata": {},
     "output_type": "execute_result"
    },
    {
     "data": {
      "image/png": "[encoded data removed]",
      "text/plain": [
       "<Figure size 576x360 with 1 Axes>"
      ]
     },
     "metadata": {
      "needs_background": "light"
     },
     "output_type": "display_data"
    }
   ],
   "source": [
    "plt.figure(figsize=(8,5))\n",
    "sns.countplot(human_resource['Gender'])\n",
    "plt.title('Overall strength in Human Resource')"
   ]
  },
  {
   "cell_type": "code",
   "execution_count": 37,
   "metadata": {
    "colab": {
     "base_uri": "https://localhost:8080/",
     "height": 318
    },
    "id": "cL6cZZKmqgvS",
    "outputId": "ead1106b-39af-461d-f3fa-be8d4371f2bf"
   },
   "outputs": [
    {
     "name": "stderr",
     "output_type": "stream",
     "text": [
      "C:\\Users\\Anand\\AppData\\Local\\Temp\\ipykernel_16164\\893297457.py:1: FutureWarning: Indexing with multiple keys (implicitly converted to a tuple of keys) will be deprecated, use a list instead.\n",
      "  human_resource.groupby(by=['PerformanceRating','EmpJobRole'])['Age','EmpJobInvolvement','TotalWorkExperienceInYears','EmpJobSatisfaction',\n"
     ]
    },
    {
     "data": {
      "text/html": [
       "<div>\n",
       "<style scoped>\n",
       "    .dataframe tbody tr th:only-of-type {\n",
       "        vertical-align: middle;\n",
       "    }\n",
       "\n",
       "    .dataframe tbody tr th {\n",
       "        vertical-align: top;\n",
       "    }\n",
       "\n",
       "    .dataframe thead th {\n",
       "        text-align: right;\n",
       "    }\n",
       "</style>\n",
       "<table border=\"1\" class=\"dataframe\">\n",
       "  <thead>\n",
       "    <tr style=\"text-align: right;\">\n",
       "      <th></th>\n",
       "      <th></th>\n",
       "      <th>Age</th>\n",
       "      <th>EmpJobInvolvement</th>\n",
       "      <th>TotalWorkExperienceInYears</th>\n",
       "      <th>EmpJobSatisfaction</th>\n",
       "      <th>EmpEnvironmentSatisfaction</th>\n",
       "    </tr>\n",
       "    <tr>\n",
       "      <th>PerformanceRating</th>\n",
       "      <th>EmpJobRole</th>\n",
       "      <th></th>\n",
       "      <th></th>\n",
       "      <th></th>\n",
       "      <th></th>\n",
       "      <th></th>\n",
       "    </tr>\n",
       "  </thead>\n",
       "  <tbody>\n",
       "    <tr>\n",
       "      <th rowspan=\"2\" valign=\"top\">2</th>\n",
       "      <th>Human Resources</th>\n",
       "      <td>37.888889</td>\n",
       "      <td>2.777778</td>\n",
       "      <td>8.777778</td>\n",
       "      <td>2.666667</td>\n",
       "      <td>1.666667</td>\n",
       "    </tr>\n",
       "    <tr>\n",
       "      <th>Manager</th>\n",
       "      <td>50.000000</td>\n",
       "      <td>3.000000</td>\n",
       "      <td>32.000000</td>\n",
       "      <td>2.000000</td>\n",
       "      <td>1.000000</td>\n",
       "    </tr>\n",
       "    <tr>\n",
       "      <th rowspan=\"2\" valign=\"top\">3</th>\n",
       "      <th>Human Resources</th>\n",
       "      <td>35.870968</td>\n",
       "      <td>2.709677</td>\n",
       "      <td>8.580645</td>\n",
       "      <td>2.516129</td>\n",
       "      <td>2.741935</td>\n",
       "    </tr>\n",
       "    <tr>\n",
       "      <th>Manager</th>\n",
       "      <td>49.428571</td>\n",
       "      <td>3.142857</td>\n",
       "      <td>28.285714</td>\n",
       "      <td>2.571429</td>\n",
       "      <td>3.285714</td>\n",
       "    </tr>\n",
       "    <tr>\n",
       "      <th rowspan=\"2\" valign=\"top\">4</th>\n",
       "      <th>Human Resources</th>\n",
       "      <td>37.200000</td>\n",
       "      <td>2.600000</td>\n",
       "      <td>8.800000</td>\n",
       "      <td>2.400000</td>\n",
       "      <td>3.000000</td>\n",
       "    </tr>\n",
       "    <tr>\n",
       "      <th>Manager</th>\n",
       "      <td>40.000000</td>\n",
       "      <td>3.000000</td>\n",
       "      <td>21.000000</td>\n",
       "      <td>4.000000</td>\n",
       "      <td>3.000000</td>\n",
       "    </tr>\n",
       "  </tbody>\n",
       "</table>\n",
       "</div>"
      ],
      "text/plain": [
       "                                         Age  EmpJobInvolvement  \\\n",
       "PerformanceRating EmpJobRole                                      \n",
       "2                 Human Resources  37.888889           2.777778   \n",
       "                  Manager          50.000000           3.000000   \n",
       "3                 Human Resources  35.870968           2.709677   \n",
       "                  Manager          49.428571           3.142857   \n",
       "4                 Human Resources  37.200000           2.600000   \n",
       "                  Manager          40.000000           3.000000   \n",
       "\n",
       "                                   TotalWorkExperienceInYears  \\\n",
       "PerformanceRating EmpJobRole                                    \n",
       "2                 Human Resources                    8.777778   \n",
       "                  Manager                           32.000000   \n",
       "3                 Human Resources                    8.580645   \n",
       "                  Manager                           28.285714   \n",
       "4                 Human Resources                    8.800000   \n",
       "                  Manager                           21.000000   \n",
       "\n",
       "                                   EmpJobSatisfaction  \\\n",
       "PerformanceRating EmpJobRole                            \n",
       "2                 Human Resources            2.666667   \n",
       "                  Manager                    2.000000   \n",
       "3                 Human Resources            2.516129   \n",
       "                  Manager                    2.571429   \n",
       "4                 Human Resources            2.400000   \n",
       "                  Manager                    4.000000   \n",
       "\n",
       "                                   EmpEnvironmentSatisfaction  \n",
       "PerformanceRating EmpJobRole                                   \n",
       "2                 Human Resources                    1.666667  \n",
       "                  Manager                            1.000000  \n",
       "3                 Human Resources                    2.741935  \n",
       "                  Manager                            3.285714  \n",
       "4                 Human Resources                    3.000000  \n",
       "                  Manager                            3.000000  "
      ]
     },
     "execution_count": 37,
     "metadata": {},
     "output_type": "execute_result"
    }
   ],
   "source": [
    "\n",
    "human_resource.groupby(by=['PerformanceRating','EmpJobRole'])['Age','EmpJobInvolvement','TotalWorkExperienceInYears','EmpJobSatisfaction',\n",
    "                                                         'EmpEnvironmentSatisfaction'].mean()"
   ]
  },
  {
   "cell_type": "code",
   "execution_count": 38,
   "metadata": {
    "colab": {
     "base_uri": "https://localhost:8080/",
     "height": 367
    },
    "id": "KaKdHc5nqlVd",
    "outputId": "330a256e-2e61-4fb1-84fd-138ab6441f22"
   },
   "outputs": [
    {
     "data": {
      "text/plain": [
       "Text(0.5, 1.0, 'Performance Rating in the Human Resource Department')"
      ]
     },
     "execution_count": 38,
     "metadata": {},
     "output_type": "execute_result"
    },
    {
     "data": {
      "image/png": "[encoded data removed]",
      "text/plain": [
       "<Figure size 576x360 with 1 Axes>"
      ]
     },
     "metadata": {
      "needs_background": "light"
     },
     "output_type": "display_data"
    }
   ],
   "source": [
    "plt.figure(figsize=(8,5))\n",
    "sns.barplot(y=\"EmpJobRole\",x=\"PerformanceRating\",hue='Gender',data=human_resource)\n",
    "plt.title(\"Performance Rating in the Human Resource Department\")"
   ]
  },
  {
   "cell_type": "markdown",
   "metadata": {
    "id": "Or8JdnX2oi-M"
   },
   "source": [
    "**Females** compartively have higher performance rating that male in terms of HR  as well as well as manager "
   ]
  },
  {
   "cell_type": "markdown",
   "metadata": {
    "id": "3amHgRsevGD5"
   },
   "source": [
    "<h1>Factors Affecting Performance Rating</h1>\n"
   ]
  },
  {
   "cell_type": "markdown",
   "metadata": {
    "id": "mqiFnJb0w3HC"
   },
   "source": [
    "We will plot the confusion matrix and see what are the factor's that affects the performance rating of the employee"
   ]
  },
  {
   "cell_type": "code",
   "execution_count": 39,
   "metadata": {
    "colab": {
     "base_uri": "https://localhost:8080/",
     "height": 1000
    },
    "id": "3z1s2JRzqtCO",
    "outputId": "23e2da59-6dda-423b-b160-b514fe587c71"
   },
   "outputs": [
    {
     "data": {
      "text/plain": [
       "<AxesSubplot:>"
      ]
     },
     "execution_count": 39,
     "metadata": {},
     "output_type": "execute_result"
    },
    {
     "data": {
      "image/png": "[encoded data removed]",
      "text/plain": [
       "<Figure size 1440x1440 with 2 Axes>"
      ]
     },
     "metadata": {
      "needs_background": "light"
     },
     "output_type": "display_data"
    }
   ],
   "source": [
    "plt.figure(figsize=(20,20))\n",
    "sns.heatmap(df.corr(),annot=True)"
   ]
  },
  {
   "cell_type": "markdown",
   "metadata": {
    "id": "RaWcmigFv8PK"
   },
   "source": [
    "We can see that these variables play an important role that affects the performance rating of the employee (They have a strong co-relation).\n",
    "\n",
    "*   Employment Environment Satisfaction\n",
    "*   Work life balance\n",
    "*   Last Salary Hike Percent & Work life balance\n",
    "\n",
    "Let us perform an analysis on these variables and understand more about the factors that affect's the employee's performance rating."
   ]
  },
  {
   "cell_type": "code",
   "execution_count": 40,
   "metadata": {
    "colab": {
     "base_uri": "https://localhost:8080/",
     "height": 309
    },
    "id": "bq7cUnJBvnsX",
    "outputId": "83563c49-0590-4ed5-ee99-c5c7b248bd0b"
   },
   "outputs": [
    {
     "data": {
      "text/html": [
       "<div>\n",
       "<style scoped>\n",
       "    .dataframe tbody tr th:only-of-type {\n",
       "        vertical-align: middle;\n",
       "    }\n",
       "\n",
       "    .dataframe tbody tr th {\n",
       "        vertical-align: top;\n",
       "    }\n",
       "\n",
       "    .dataframe thead th {\n",
       "        text-align: right;\n",
       "    }\n",
       "</style>\n",
       "<table border=\"1\" class=\"dataframe\">\n",
       "  <thead>\n",
       "    <tr style=\"text-align: right;\">\n",
       "      <th></th>\n",
       "      <th>EmpNumber</th>\n",
       "      <th>Age</th>\n",
       "      <th>Gender</th>\n",
       "      <th>EducationBackground</th>\n",
       "      <th>MaritalStatus</th>\n",
       "      <th>EmpDepartment</th>\n",
       "      <th>EmpJobRole</th>\n",
       "      <th>BusinessTravelFrequency</th>\n",
       "      <th>DistanceFromHome</th>\n",
       "      <th>EmpEducationLevel</th>\n",
       "      <th>...</th>\n",
       "      <th>EmpRelationshipSatisfaction</th>\n",
       "      <th>TotalWorkExperienceInYears</th>\n",
       "      <th>TrainingTimesLastYear</th>\n",
       "      <th>EmpWorkLifeBalance</th>\n",
       "      <th>ExperienceYearsAtThisCompany</th>\n",
       "      <th>ExperienceYearsInCurrentRole</th>\n",
       "      <th>YearsSinceLastPromotion</th>\n",
       "      <th>YearsWithCurrManager</th>\n",
       "      <th>Attrition</th>\n",
       "      <th>PerformanceRating</th>\n",
       "    </tr>\n",
       "  </thead>\n",
       "  <tbody>\n",
       "    <tr>\n",
       "      <th>0</th>\n",
       "      <td>E1001000</td>\n",
       "      <td>32</td>\n",
       "      <td>Male</td>\n",
       "      <td>Marketing</td>\n",
       "      <td>Single</td>\n",
       "      <td>Sales</td>\n",
       "      <td>Sales Executive</td>\n",
       "      <td>Travel_Rarely</td>\n",
       "      <td>10</td>\n",
       "      <td>3</td>\n",
       "      <td>...</td>\n",
       "      <td>4</td>\n",
       "      <td>10</td>\n",
       "      <td>2</td>\n",
       "      <td>2</td>\n",
       "      <td>10</td>\n",
       "      <td>7</td>\n",
       "      <td>0</td>\n",
       "      <td>8</td>\n",
       "      <td>No</td>\n",
       "      <td>3</td>\n",
       "    </tr>\n",
       "    <tr>\n",
       "      <th>1</th>\n",
       "      <td>E1001006</td>\n",
       "      <td>47</td>\n",
       "      <td>Male</td>\n",
       "      <td>Marketing</td>\n",
       "      <td>Single</td>\n",
       "      <td>Sales</td>\n",
       "      <td>Sales Executive</td>\n",
       "      <td>Travel_Rarely</td>\n",
       "      <td>14</td>\n",
       "      <td>4</td>\n",
       "      <td>...</td>\n",
       "      <td>4</td>\n",
       "      <td>20</td>\n",
       "      <td>2</td>\n",
       "      <td>3</td>\n",
       "      <td>7</td>\n",
       "      <td>7</td>\n",
       "      <td>1</td>\n",
       "      <td>7</td>\n",
       "      <td>No</td>\n",
       "      <td>3</td>\n",
       "    </tr>\n",
       "    <tr>\n",
       "      <th>2</th>\n",
       "      <td>E1001007</td>\n",
       "      <td>40</td>\n",
       "      <td>Male</td>\n",
       "      <td>Life Sciences</td>\n",
       "      <td>Married</td>\n",
       "      <td>Sales</td>\n",
       "      <td>Sales Executive</td>\n",
       "      <td>Travel_Frequently</td>\n",
       "      <td>5</td>\n",
       "      <td>4</td>\n",
       "      <td>...</td>\n",
       "      <td>3</td>\n",
       "      <td>20</td>\n",
       "      <td>2</td>\n",
       "      <td>3</td>\n",
       "      <td>18</td>\n",
       "      <td>13</td>\n",
       "      <td>1</td>\n",
       "      <td>12</td>\n",
       "      <td>No</td>\n",
       "      <td>4</td>\n",
       "    </tr>\n",
       "    <tr>\n",
       "      <th>3</th>\n",
       "      <td>E1001009</td>\n",
       "      <td>41</td>\n",
       "      <td>Male</td>\n",
       "      <td>Human Resources</td>\n",
       "      <td>Divorced</td>\n",
       "      <td>Human Resources</td>\n",
       "      <td>Manager</td>\n",
       "      <td>Travel_Rarely</td>\n",
       "      <td>10</td>\n",
       "      <td>4</td>\n",
       "      <td>...</td>\n",
       "      <td>2</td>\n",
       "      <td>23</td>\n",
       "      <td>2</td>\n",
       "      <td>2</td>\n",
       "      <td>21</td>\n",
       "      <td>6</td>\n",
       "      <td>12</td>\n",
       "      <td>6</td>\n",
       "      <td>No</td>\n",
       "      <td>3</td>\n",
       "    </tr>\n",
       "    <tr>\n",
       "      <th>4</th>\n",
       "      <td>E1001010</td>\n",
       "      <td>60</td>\n",
       "      <td>Male</td>\n",
       "      <td>Marketing</td>\n",
       "      <td>Single</td>\n",
       "      <td>Sales</td>\n",
       "      <td>Sales Executive</td>\n",
       "      <td>Travel_Rarely</td>\n",
       "      <td>16</td>\n",
       "      <td>4</td>\n",
       "      <td>...</td>\n",
       "      <td>4</td>\n",
       "      <td>10</td>\n",
       "      <td>1</td>\n",
       "      <td>3</td>\n",
       "      <td>2</td>\n",
       "      <td>2</td>\n",
       "      <td>2</td>\n",
       "      <td>2</td>\n",
       "      <td>No</td>\n",
       "      <td>3</td>\n",
       "    </tr>\n",
       "  </tbody>\n",
       "</table>\n",
       "<p>5 rows × 28 columns</p>\n",
       "</div>"
      ],
      "text/plain": [
       "  EmpNumber  Age Gender EducationBackground MaritalStatus    EmpDepartment  \\\n",
       "0  E1001000   32   Male           Marketing        Single            Sales   \n",
       "1  E1001006   47   Male           Marketing        Single            Sales   \n",
       "2  E1001007   40   Male       Life Sciences       Married            Sales   \n",
       "3  E1001009   41   Male     Human Resources      Divorced  Human Resources   \n",
       "4  E1001010   60   Male           Marketing        Single            Sales   \n",
       "\n",
       "        EmpJobRole BusinessTravelFrequency  DistanceFromHome  \\\n",
       "0  Sales Executive           Travel_Rarely                10   \n",
       "1  Sales Executive           Travel_Rarely                14   \n",
       "2  Sales Executive       Travel_Frequently                 5   \n",
       "3          Manager           Travel_Rarely                10   \n",
       "4  Sales Executive           Travel_Rarely                16   \n",
       "\n",
       "   EmpEducationLevel  ...  EmpRelationshipSatisfaction  \\\n",
       "0                  3  ...                            4   \n",
       "1                  4  ...                            4   \n",
       "2                  4  ...                            3   \n",
       "3                  4  ...                            2   \n",
       "4                  4  ...                            4   \n",
       "\n",
       "   TotalWorkExperienceInYears  TrainingTimesLastYear  EmpWorkLifeBalance  \\\n",
       "0                          10                      2                   2   \n",
       "1                          20                      2                   3   \n",
       "2                          20                      2                   3   \n",
       "3                          23                      2                   2   \n",
       "4                          10                      1                   3   \n",
       "\n",
       "   ExperienceYearsAtThisCompany  ExperienceYearsInCurrentRole  \\\n",
       "0                            10                             7   \n",
       "1                             7                             7   \n",
       "2                            18                            13   \n",
       "3                            21                             6   \n",
       "4                             2                             2   \n",
       "\n",
       "  YearsSinceLastPromotion  YearsWithCurrManager  Attrition  PerformanceRating  \n",
       "0                       0                     8         No                  3  \n",
       "1                       1                     7         No                  3  \n",
       "2                       1                    12         No                  4  \n",
       "3                      12                     6         No                  3  \n",
       "4                       2                     2         No                  3  \n",
       "\n",
       "[5 rows x 28 columns]"
      ]
     },
     "execution_count": 40,
     "metadata": {},
     "output_type": "execute_result"
    }
   ],
   "source": [
    "df.head()"
   ]
  },
  {
   "cell_type": "markdown",
   "metadata": {
    "id": "Y0_owyaaYudL"
   },
   "source": [
    "<h2>Performance Rating based on Environment satisfaction</h2>"
   ]
  },
  {
   "cell_type": "code",
   "execution_count": 41,
   "metadata": {
    "colab": {
     "base_uri": "https://localhost:8080/",
     "height": 121
    },
    "id": "ETbJfNZeZMS3",
    "outputId": "03dc2b8e-ec29-4472-a95b-2bff7f7b34f1"
   },
   "outputs": [
    {
     "data": {
      "text/plain": [
       "EmpEnvironmentSatisfaction\n",
       "1    2.665217\n",
       "2    2.652893\n",
       "3    3.138965\n",
       "4    3.132964\n",
       "Name: PerformanceRating, dtype: float64"
      ]
     },
     "execution_count": 41,
     "metadata": {},
     "output_type": "execute_result"
    }
   ],
   "source": [
    "df.groupby(by=['EmpEnvironmentSatisfaction'])['PerformanceRating'].mean()"
   ]
  },
  {
   "cell_type": "code",
   "execution_count": 42,
   "metadata": {
    "colab": {
     "base_uri": "https://localhost:8080/",
     "height": 367
    },
    "id": "z7lhHA0QxmmO",
    "outputId": "7317cec6-95a2-4900-b8a3-4f4319f2ddea"
   },
   "outputs": [
    {
     "data": {
      "text/plain": [
       "Text(0.5, 1.0, 'Performance rating with respect to environemnt satisfaction')"
      ]
     },
     "execution_count": 42,
     "metadata": {},
     "output_type": "execute_result"
    },
    {
     "data": {
      "image/png": "[encoded data removed]",
      "text/plain": [
       "<Figure size 576x360 with 1 Axes>"
      ]
     },
     "metadata": {
      "needs_background": "light"
     },
     "output_type": "display_data"
    }
   ],
   "source": [
    "plt.figure(figsize=(8,5))\n",
    "sns.barplot(x = df['EmpEnvironmentSatisfaction'] , y=df['PerformanceRating'])\n",
    "plt.title(\"Performance rating with respect to environemnt satisfaction\")"
   ]
  },
  {
   "cell_type": "markdown",
   "metadata": {
    "id": "5TU37ALGpBjX"
   },
   "source": [
    "We can see that people with higher environment satisfaction has better performance rating , which tells us that the work enviornment is one of the factor's that affect's the performance rating of the employee."
   ]
  },
  {
   "cell_type": "markdown",
   "metadata": {
    "id": "CKK78mcqZmEZ"
   },
   "source": [
    "<h2>Performance based on worklife balance</h2>"
   ]
  },
  {
   "cell_type": "code",
   "execution_count": 43,
   "metadata": {
    "colab": {
     "base_uri": "https://localhost:8080/",
     "height": 121
    },
    "id": "jc7r6iwOfsPB",
    "outputId": "ba1f2e9e-85bc-4c5b-9d69-94a200c37a6d"
   },
   "outputs": [
    {
     "data": {
      "text/plain": [
       "EmpWorkLifeBalance\n",
       "1    2.750000\n",
       "2    2.918367\n",
       "3    2.950481\n",
       "4    3.121739\n",
       "Name: PerformanceRating, dtype: float64"
      ]
     },
     "execution_count": 43,
     "metadata": {},
     "output_type": "execute_result"
    }
   ],
   "source": [
    "df.groupby(by=['EmpWorkLifeBalance'])['PerformanceRating'].mean()"
   ]
  },
  {
   "cell_type": "code",
   "execution_count": 44,
   "metadata": {
    "colab": {
     "base_uri": "https://localhost:8080/",
     "height": 367
    },
    "id": "WWhGS5lPfsKk",
    "outputId": "1ab3d144-1922-4690-b96a-2ee8badcd8a2"
   },
   "outputs": [
    {
     "data": {
      "text/plain": [
       "Text(0.5, 1.0, 'Performance rating with respect to Work life balance')"
      ]
     },
     "execution_count": 44,
     "metadata": {},
     "output_type": "execute_result"
    },
    {
     "data": {
      "image/png": "[encoded data removed]",
      "text/plain": [
       "<Figure size 576x360 with 1 Axes>"
      ]
     },
     "metadata": {
      "needs_background": "light"
     },
     "output_type": "display_data"
    }
   ],
   "source": [
    "plt.figure(figsize=(8,5))\n",
    "sns.barplot(x = df['EmpWorkLifeBalance'] , y=df['PerformanceRating'])\n",
    "plt.title(\"Performance rating with respect to Work life balance\")"
   ]
  },
  {
   "cell_type": "markdown",
   "metadata": {
    "id": "_4l0eN1dpN3L"
   },
   "source": [
    "So is the case with work life balance , employee's who have a higher work life balance have a higher performance rating"
   ]
  },
  {
   "cell_type": "markdown",
   "metadata": {
    "id": "9J6whapkaVPb"
   },
   "source": [
    "<h2>Performance based on Last salary hike percent</h2>"
   ]
  },
  {
   "cell_type": "code",
   "execution_count": 45,
   "metadata": {
    "colab": {
     "base_uri": "https://localhost:8080/",
     "height": 312
    },
    "id": "efwd23VHZ7zc",
    "outputId": "00837ae4-8b97-4b4d-bbfa-6eaf33bfce82"
   },
   "outputs": [
    {
     "data": {
      "text/plain": [
       "EmpLastSalaryHikePercent\n",
       "11    2.840237\n",
       "12    2.819355\n",
       "13    2.857143\n",
       "14    2.860465\n",
       "15    2.914634\n",
       "16    2.852941\n",
       "17    2.910448\n",
       "18    2.863014\n",
       "19    2.873016\n",
       "20    3.360000\n",
       "21    3.588235\n",
       "22    3.425532\n",
       "23    3.523810\n",
       "24    3.500000\n",
       "25    3.307692\n",
       "Name: PerformanceRating, dtype: float64"
      ]
     },
     "execution_count": 45,
     "metadata": {},
     "output_type": "execute_result"
    }
   ],
   "source": [
    "df.groupby(by='EmpLastSalaryHikePercent')['PerformanceRating'].mean()"
   ]
  },
  {
   "cell_type": "code",
   "execution_count": 46,
   "metadata": {
    "colab": {
     "base_uri": "https://localhost:8080/",
     "height": 422
    },
    "id": "yFohcvjnZ79h",
    "outputId": "9e343047-2c22-4b24-e0da-9ea22a5db591"
   },
   "outputs": [
    {
     "name": "stderr",
     "output_type": "stream",
     "text": [
      "C:\\Users\\Anand\\.conda\\envs\\aimethodology\\lib\\site-packages\\seaborn\\_decorators.py:36: FutureWarning: Pass the following variables as keyword args: x, y. From version 0.12, the only valid positional argument will be `data`, and passing other arguments without an explicit keyword will result in an error or misinterpretation.\n",
      "  warnings.warn(\n"
     ]
    },
    {
     "data": {
      "text/plain": [
       "Text(0.5, 1.0, 'Performance rating based on Employee last salary hike')"
      ]
     },
     "execution_count": 46,
     "metadata": {},
     "output_type": "execute_result"
    },
    {
     "data": {
      "image/png": "[encoded data removed]",
      "text/plain": [
       "<Figure size 576x360 with 1 Axes>"
      ]
     },
     "metadata": {
      "needs_background": "light"
     },
     "output_type": "display_data"
    }
   ],
   "source": [
    "plt.figure(figsize=(8,5))\n",
    "sns.barplot(df['EmpLastSalaryHikePercent'], df['PerformanceRating'],palette =\"plasma\",ci=None)\n",
    "plt.title(\"Performance rating based on Employee last salary hike\")"
   ]
  },
  {
   "cell_type": "markdown",
   "metadata": {
    "id": "T1kAkRJ9pk7X"
   },
   "source": [
    "A salary hike can also motivate the employee's to perform well , we can see that 20-25 have a decent performance rating"
   ]
  },
  {
   "cell_type": "markdown",
   "metadata": {
    "id": "m7mM5OWVqgE2"
   },
   "source": [
    "<h2>Other factors</h2>"
   ]
  },
  {
   "cell_type": "markdown",
   "metadata": {
    "id": "74oO6Z_Zs5J2"
   },
   "source": [
    "Now we will look at other factors that might affect the performance rating of the employee."
   ]
  },
  {
   "cell_type": "code",
   "execution_count": 47,
   "metadata": {
    "colab": {
     "base_uri": "https://localhost:8080/",
     "height": 309
    },
    "id": "X8f-CghtZ770",
    "outputId": "7774e002-d43c-4199-b995-89bb0f22e5fd"
   },
   "outputs": [
    {
     "data": {
      "text/html": [
       "<div>\n",
       "<style scoped>\n",
       "    .dataframe tbody tr th:only-of-type {\n",
       "        vertical-align: middle;\n",
       "    }\n",
       "\n",
       "    .dataframe tbody tr th {\n",
       "        vertical-align: top;\n",
       "    }\n",
       "\n",
       "    .dataframe thead th {\n",
       "        text-align: right;\n",
       "    }\n",
       "</style>\n",
       "<table border=\"1\" class=\"dataframe\">\n",
       "  <thead>\n",
       "    <tr style=\"text-align: right;\">\n",
       "      <th></th>\n",
       "      <th>EmpNumber</th>\n",
       "      <th>Age</th>\n",
       "      <th>Gender</th>\n",
       "      <th>EducationBackground</th>\n",
       "      <th>MaritalStatus</th>\n",
       "      <th>EmpDepartment</th>\n",
       "      <th>EmpJobRole</th>\n",
       "      <th>BusinessTravelFrequency</th>\n",
       "      <th>DistanceFromHome</th>\n",
       "      <th>EmpEducationLevel</th>\n",
       "      <th>...</th>\n",
       "      <th>EmpRelationshipSatisfaction</th>\n",
       "      <th>TotalWorkExperienceInYears</th>\n",
       "      <th>TrainingTimesLastYear</th>\n",
       "      <th>EmpWorkLifeBalance</th>\n",
       "      <th>ExperienceYearsAtThisCompany</th>\n",
       "      <th>ExperienceYearsInCurrentRole</th>\n",
       "      <th>YearsSinceLastPromotion</th>\n",
       "      <th>YearsWithCurrManager</th>\n",
       "      <th>Attrition</th>\n",
       "      <th>PerformanceRating</th>\n",
       "    </tr>\n",
       "  </thead>\n",
       "  <tbody>\n",
       "    <tr>\n",
       "      <th>0</th>\n",
       "      <td>E1001000</td>\n",
       "      <td>32</td>\n",
       "      <td>Male</td>\n",
       "      <td>Marketing</td>\n",
       "      <td>Single</td>\n",
       "      <td>Sales</td>\n",
       "      <td>Sales Executive</td>\n",
       "      <td>Travel_Rarely</td>\n",
       "      <td>10</td>\n",
       "      <td>3</td>\n",
       "      <td>...</td>\n",
       "      <td>4</td>\n",
       "      <td>10</td>\n",
       "      <td>2</td>\n",
       "      <td>2</td>\n",
       "      <td>10</td>\n",
       "      <td>7</td>\n",
       "      <td>0</td>\n",
       "      <td>8</td>\n",
       "      <td>No</td>\n",
       "      <td>3</td>\n",
       "    </tr>\n",
       "    <tr>\n",
       "      <th>1</th>\n",
       "      <td>E1001006</td>\n",
       "      <td>47</td>\n",
       "      <td>Male</td>\n",
       "      <td>Marketing</td>\n",
       "      <td>Single</td>\n",
       "      <td>Sales</td>\n",
       "      <td>Sales Executive</td>\n",
       "      <td>Travel_Rarely</td>\n",
       "      <td>14</td>\n",
       "      <td>4</td>\n",
       "      <td>...</td>\n",
       "      <td>4</td>\n",
       "      <td>20</td>\n",
       "      <td>2</td>\n",
       "      <td>3</td>\n",
       "      <td>7</td>\n",
       "      <td>7</td>\n",
       "      <td>1</td>\n",
       "      <td>7</td>\n",
       "      <td>No</td>\n",
       "      <td>3</td>\n",
       "    </tr>\n",
       "    <tr>\n",
       "      <th>2</th>\n",
       "      <td>E1001007</td>\n",
       "      <td>40</td>\n",
       "      <td>Male</td>\n",
       "      <td>Life Sciences</td>\n",
       "      <td>Married</td>\n",
       "      <td>Sales</td>\n",
       "      <td>Sales Executive</td>\n",
       "      <td>Travel_Frequently</td>\n",
       "      <td>5</td>\n",
       "      <td>4</td>\n",
       "      <td>...</td>\n",
       "      <td>3</td>\n",
       "      <td>20</td>\n",
       "      <td>2</td>\n",
       "      <td>3</td>\n",
       "      <td>18</td>\n",
       "      <td>13</td>\n",
       "      <td>1</td>\n",
       "      <td>12</td>\n",
       "      <td>No</td>\n",
       "      <td>4</td>\n",
       "    </tr>\n",
       "    <tr>\n",
       "      <th>3</th>\n",
       "      <td>E1001009</td>\n",
       "      <td>41</td>\n",
       "      <td>Male</td>\n",
       "      <td>Human Resources</td>\n",
       "      <td>Divorced</td>\n",
       "      <td>Human Resources</td>\n",
       "      <td>Manager</td>\n",
       "      <td>Travel_Rarely</td>\n",
       "      <td>10</td>\n",
       "      <td>4</td>\n",
       "      <td>...</td>\n",
       "      <td>2</td>\n",
       "      <td>23</td>\n",
       "      <td>2</td>\n",
       "      <td>2</td>\n",
       "      <td>21</td>\n",
       "      <td>6</td>\n",
       "      <td>12</td>\n",
       "      <td>6</td>\n",
       "      <td>No</td>\n",
       "      <td>3</td>\n",
       "    </tr>\n",
       "    <tr>\n",
       "      <th>4</th>\n",
       "      <td>E1001010</td>\n",
       "      <td>60</td>\n",
       "      <td>Male</td>\n",
       "      <td>Marketing</td>\n",
       "      <td>Single</td>\n",
       "      <td>Sales</td>\n",
       "      <td>Sales Executive</td>\n",
       "      <td>Travel_Rarely</td>\n",
       "      <td>16</td>\n",
       "      <td>4</td>\n",
       "      <td>...</td>\n",
       "      <td>4</td>\n",
       "      <td>10</td>\n",
       "      <td>1</td>\n",
       "      <td>3</td>\n",
       "      <td>2</td>\n",
       "      <td>2</td>\n",
       "      <td>2</td>\n",
       "      <td>2</td>\n",
       "      <td>No</td>\n",
       "      <td>3</td>\n",
       "    </tr>\n",
       "  </tbody>\n",
       "</table>\n",
       "<p>5 rows × 28 columns</p>\n",
       "</div>"
      ],
      "text/plain": [
       "  EmpNumber  Age Gender EducationBackground MaritalStatus    EmpDepartment  \\\n",
       "0  E1001000   32   Male           Marketing        Single            Sales   \n",
       "1  E1001006   47   Male           Marketing        Single            Sales   \n",
       "2  E1001007   40   Male       Life Sciences       Married            Sales   \n",
       "3  E1001009   41   Male     Human Resources      Divorced  Human Resources   \n",
       "4  E1001010   60   Male           Marketing        Single            Sales   \n",
       "\n",
       "        EmpJobRole BusinessTravelFrequency  DistanceFromHome  \\\n",
       "0  Sales Executive           Travel_Rarely                10   \n",
       "1  Sales Executive           Travel_Rarely                14   \n",
       "2  Sales Executive       Travel_Frequently                 5   \n",
       "3          Manager           Travel_Rarely                10   \n",
       "4  Sales Executive           Travel_Rarely                16   \n",
       "\n",
       "   EmpEducationLevel  ...  EmpRelationshipSatisfaction  \\\n",
       "0                  3  ...                            4   \n",
       "1                  4  ...                            4   \n",
       "2                  4  ...                            3   \n",
       "3                  4  ...                            2   \n",
       "4                  4  ...                            4   \n",
       "\n",
       "   TotalWorkExperienceInYears  TrainingTimesLastYear  EmpWorkLifeBalance  \\\n",
       "0                          10                      2                   2   \n",
       "1                          20                      2                   3   \n",
       "2                          20                      2                   3   \n",
       "3                          23                      2                   2   \n",
       "4                          10                      1                   3   \n",
       "\n",
       "   ExperienceYearsAtThisCompany  ExperienceYearsInCurrentRole  \\\n",
       "0                            10                             7   \n",
       "1                             7                             7   \n",
       "2                            18                            13   \n",
       "3                            21                             6   \n",
       "4                             2                             2   \n",
       "\n",
       "  YearsSinceLastPromotion  YearsWithCurrManager  Attrition  PerformanceRating  \n",
       "0                       0                     8         No                  3  \n",
       "1                       1                     7         No                  3  \n",
       "2                       1                    12         No                  4  \n",
       "3                      12                     6         No                  3  \n",
       "4                       2                     2         No                  3  \n",
       "\n",
       "[5 rows x 28 columns]"
      ]
     },
     "execution_count": 47,
     "metadata": {},
     "output_type": "execute_result"
    }
   ],
   "source": [
    "df.head()"
   ]
  },
  {
   "cell_type": "code",
   "execution_count": 48,
   "metadata": {
    "colab": {
     "base_uri": "https://localhost:8080/",
     "height": 369
    },
    "id": "2ptiDv_DZ75_",
    "outputId": "d8c062b8-0bc5-4c84-ac5d-c1e8847179df"
   },
   "outputs": [
    {
     "data": {
      "text/plain": [
       "Text(0.5, 1.0, 'Performance rating wrt Business travel frequency')"
      ]
     },
     "execution_count": 48,
     "metadata": {},
     "output_type": "execute_result"
    },
    {
     "data": {
      "image/png": "[encoded data removed]",
      "text/plain": [
       "<Figure size 576x360 with 1 Axes>"
      ]
     },
     "metadata": {
      "needs_background": "light"
     },
     "output_type": "display_data"
    }
   ],
   "source": [
    "plt.figure(figsize=(8,5))\n",
    "sns.barplot(x='BusinessTravelFrequency',y='PerformanceRating',data=df,hue='Gender')\n",
    "plt.title(\"Performance rating wrt Business travel frequency\")"
   ]
  },
  {
   "cell_type": "code",
   "execution_count": 49,
   "metadata": {
    "colab": {
     "base_uri": "https://localhost:8080/",
     "height": 367
    },
    "id": "2LH3F0oMqjXk",
    "outputId": "7d11634f-72b1-4b24-eee4-38164dce2d27"
   },
   "outputs": [
    {
     "data": {
      "text/plain": [
       "Text(0.5, 1.0, 'Performance rating wrt Hourly rate')"
      ]
     },
     "execution_count": 49,
     "metadata": {},
     "output_type": "execute_result"
    },
    {
     "data": {
      "image/png": "[encoded data removed]",
      "text/plain": [
       "<Figure size 576x360 with 1 Axes>"
      ]
     },
     "metadata": {
      "needs_background": "light"
     },
     "output_type": "display_data"
    }
   ],
   "source": [
    "plt.figure(figsize=(8,5))\n",
    "sns.barplot(y='EmpHourlyRate',x='PerformanceRating',data=df,hue='Gender')\n",
    "plt.title(\"Performance rating wrt Hourly rate\")"
   ]
  },
  {
   "cell_type": "code",
   "execution_count": 50,
   "metadata": {
    "colab": {
     "base_uri": "https://localhost:8080/",
     "height": 367
    },
    "id": "dmFHBgzOqjVt",
    "outputId": "dd16f9ae-6e02-4d36-aa5e-8bc48de0d068"
   },
   "outputs": [
    {
     "data": {
      "text/plain": [
       "Text(0.5, 1.0, 'Performance rating wrt OverTime')"
      ]
     },
     "execution_count": 50,
     "metadata": {},
     "output_type": "execute_result"
    },
    {
     "data": {
      "image/png": "[encoded data removed]",
      "text/plain": [
       "<Figure size 576x360 with 1 Axes>"
      ]
     },
     "metadata": {
      "needs_background": "light"
     },
     "output_type": "display_data"
    }
   ],
   "source": [
    "plt.figure(figsize=(8,5))\n",
    "sns.barplot(x='OverTime',y='PerformanceRating',data=df,hue='Gender')\n",
    "plt.title(\"Performance rating wrt OverTime\")"
   ]
  },
  {
   "cell_type": "code",
   "execution_count": 51,
   "metadata": {
    "colab": {
     "base_uri": "https://localhost:8080/",
     "height": 367
    },
    "id": "9Fay7gL9qjTn",
    "outputId": "580a7109-66cb-455d-eb16-8fa3844d1973"
   },
   "outputs": [
    {
     "data": {
      "text/plain": [
       "Text(0.5, 1.0, 'Performance rating wrt Total work experience')"
      ]
     },
     "execution_count": 51,
     "metadata": {},
     "output_type": "execute_result"
    },
    {
     "data": {
      "image/png": "[encoded data removed]",
      "text/plain": [
       "<Figure size 576x360 with 1 Axes>"
      ]
     },
     "metadata": {
      "needs_background": "light"
     },
     "output_type": "display_data"
    }
   ],
   "source": [
    "plt.figure(figsize=(8,5))\n",
    "sns.barplot(y='TotalWorkExperienceInYears',x='PerformanceRating',data=df,hue='Gender')\n",
    "plt.title(\"Performance rating wrt Total work experience\")"
   ]
  },
  {
   "cell_type": "markdown",
   "metadata": {
    "id": "if6nToQYtHOH"
   },
   "source": [
    "We can see that people with higher experience have low performance rating , and people with lower year's of experience have good performance rating"
   ]
  },
  {
   "cell_type": "code",
   "execution_count": 52,
   "metadata": {
    "colab": {
     "base_uri": "https://localhost:8080/",
     "height": 367
    },
    "id": "DFsiZbPyZ7vt",
    "outputId": "80846dba-9b2f-4af3-cdc5-8a822cfba900"
   },
   "outputs": [
    {
     "data": {
      "text/plain": [
       "Text(0.5, 1.0, 'Performance rating wrt years since last promotion')"
      ]
     },
     "execution_count": 52,
     "metadata": {},
     "output_type": "execute_result"
    },
    {
     "data": {
      "image/png": "[encoded data removed]",
      "text/plain": [
       "<Figure size 576x360 with 1 Axes>"
      ]
     },
     "metadata": {
      "needs_background": "light"
     },
     "output_type": "display_data"
    }
   ],
   "source": [
    "plt.figure(figsize=(8,5))\n",
    "sns.barplot(y='YearsSinceLastPromotion',x='PerformanceRating',data=df,hue='Gender')\n",
    "plt.title(\"Performance rating wrt years since last promotion\")"
   ]
  },
  {
   "cell_type": "code",
   "execution_count": 53,
   "metadata": {
    "colab": {
     "base_uri": "https://localhost:8080/",
     "height": 367
    },
    "id": "MfS1qhrprV1S",
    "outputId": "38a5dcb7-bd80-42be-d4b0-8ac13802010c"
   },
   "outputs": [
    {
     "data": {
      "text/plain": [
       "Text(0.5, 1.0, 'Performance rating wrt years experience with this company')"
      ]
     },
     "execution_count": 53,
     "metadata": {},
     "output_type": "execute_result"
    },
    {
     "data": {
      "image/png": "[encoded data removed]",
      "text/plain": [
       "<Figure size 576x360 with 1 Axes>"
      ]
     },
     "metadata": {
      "needs_background": "light"
     },
     "output_type": "display_data"
    }
   ],
   "source": [
    "plt.figure(figsize=(8,5))\n",
    "sns.barplot(y='ExperienceYearsAtThisCompany',x='PerformanceRating',data=df,hue='Gender')\n",
    "plt.title(\"Performance rating wrt years experience with this company\")"
   ]
  },
  {
   "cell_type": "markdown",
   "metadata": {
    "id": "HpcYsuGCtfep"
   },
   "source": [
    "Higher the experience lower the performance rating , probably because of the pressure that the higher experience of employee has & the work life balance"
   ]
  },
  {
   "cell_type": "code",
   "execution_count": 54,
   "metadata": {
    "colab": {
     "base_uri": "https://localhost:8080/",
     "height": 367
    },
    "id": "z8-Iu_4nrV5F",
    "outputId": "ab5642d1-fac5-496c-e5a8-2b3f8d929d96"
   },
   "outputs": [
    {
     "data": {
      "text/plain": [
       "Text(0.5, 1.0, 'Performance rating wrt Emp job level')"
      ]
     },
     "execution_count": 54,
     "metadata": {},
     "output_type": "execute_result"
    },
    {
     "data": {
      "image/png": "[encoded data removed]",
      "text/plain": [
       "<Figure size 576x360 with 1 Axes>"
      ]
     },
     "metadata": {
      "needs_background": "light"
     },
     "output_type": "display_data"
    }
   ],
   "source": [
    "plt.figure(figsize=(8,5))\n",
    "sns.barplot(y='EmpJobLevel',x='PerformanceRating',data=df,hue='Gender')\n",
    "plt.title(\"Performance rating wrt Emp job level\")"
   ]
  },
  {
   "cell_type": "code",
   "execution_count": 55,
   "metadata": {
    "colab": {
     "base_uri": "https://localhost:8080/",
     "height": 367
    },
    "id": "yC2nZ8QNr6iX",
    "outputId": "74aff0a4-1d32-470b-97d0-86b96f79e4b1"
   },
   "outputs": [
    {
     "data": {
      "text/plain": [
       "Text(0.5, 1.0, 'Performance rating wrt years with current manager')"
      ]
     },
     "execution_count": 55,
     "metadata": {},
     "output_type": "execute_result"
    },
    {
     "data": {
      "image/png": "[encoded data removed]",
      "text/plain": [
       "<Figure size 576x360 with 1 Axes>"
      ]
     },
     "metadata": {
      "needs_background": "light"
     },
     "output_type": "display_data"
    }
   ],
   "source": [
    "plt.figure(figsize=(8,5))\n",
    "sns.barplot(y='YearsWithCurrManager',x='PerformanceRating',data=df,hue='Gender')\n",
    "plt.title(\"Performance rating wrt years with current manager\")"
   ]
  },
  {
   "cell_type": "markdown",
   "metadata": {
    "id": "2wo2ti0YftCL"
   },
   "source": [
    "<h1>Model Building</h1>"
   ]
  },
  {
   "cell_type": "markdown",
   "metadata": {
    "id": "k_g7T7n0bb9m"
   },
   "source": [
    "For this problem i will be using the Random forest classifier and get the best hyperparameters using Randomized search CV"
   ]
  },
  {
   "cell_type": "markdown",
   "metadata": {
    "id": "kqP0K_33qAzP"
   },
   "source": [
    "<h3>Importing the required library's</h3>"
   ]
  },
  {
   "cell_type": "code",
   "execution_count": 56,
   "metadata": {
    "id": "M3VBmclvbRLm"
   },
   "outputs": [],
   "source": [
    "from sklearn.model_selection import RandomizedSearchCV\n",
    "from sklearn.model_selection import train_test_split\n",
    "from sklearn.metrics import classification_report\n",
    "from sklearn.ensemble import RandomForestClassifier\n",
    "from sklearn.preprocessing import LabelEncoder,scale, StandardScaler\n",
    "\n",
    "# Number of trees in random forest\n",
    "n_estimators = [int(x) for x in np.linspace(start = 200, stop = 2000, num = 10)]\n",
    "# Number of features to consider at every split\n",
    "max_features = ['auto', 'sqrt']\n",
    "# Maximum number of levels in tree\n",
    "max_depth = [int(x) for x in np.linspace(10, 110, num = 11)]\n",
    "max_depth.append(None)\n",
    "# Minimum number of samples required to split a node\n",
    "min_samples_split = [2, 5, 10]\n",
    "# Minimum number of samples required at each leaf node\n",
    "min_samples_leaf = [1, 2, 4]\n",
    "# Method of selecting samples for training each tree\n",
    "bootstrap = [True, False]\n",
    "# Create the random grid\n",
    "random_grid = {'n_estimators': n_estimators,\n",
    "               'max_features': max_features,\n",
    "               'max_depth': max_depth,\n",
    "               'min_samples_split': min_samples_split,\n",
    "               'min_samples_leaf': min_samples_leaf,\n",
    "               'bootstrap': bootstrap}"
   ]
  },
  {
   "cell_type": "markdown",
   "metadata": {
    "id": "lBESkRDRp2mG"
   },
   "source": [
    "<h3>Encoding the labels</h3>"
   ]
  },
  {
   "cell_type": "code",
   "execution_count": 57,
   "metadata": {
    "id": "O6rJg_zriHrm"
   },
   "outputs": [],
   "source": [
    "enc=LabelEncoder()\n",
    "newdf=df.apply(enc.fit_transform)"
   ]
  },
  {
   "cell_type": "code",
   "execution_count": 58,
   "metadata": {
    "colab": {
     "base_uri": "https://localhost:8080/",
     "height": 222
    },
    "id": "2xl47ltziHui",
    "outputId": "960b5f8c-e072-49d9-8fd7-14cca1112d19"
   },
   "outputs": [
    {
     "data": {
      "text/html": [
       "<div>\n",
       "<style scoped>\n",
       "    .dataframe tbody tr th:only-of-type {\n",
       "        vertical-align: middle;\n",
       "    }\n",
       "\n",
       "    .dataframe tbody tr th {\n",
       "        vertical-align: top;\n",
       "    }\n",
       "\n",
       "    .dataframe thead th {\n",
       "        text-align: right;\n",
       "    }\n",
       "</style>\n",
       "<table border=\"1\" class=\"dataframe\">\n",
       "  <thead>\n",
       "    <tr style=\"text-align: right;\">\n",
       "      <th></th>\n",
       "      <th>EmpNumber</th>\n",
       "      <th>Age</th>\n",
       "      <th>Gender</th>\n",
       "      <th>EducationBackground</th>\n",
       "      <th>MaritalStatus</th>\n",
       "      <th>EmpDepartment</th>\n",
       "      <th>EmpJobRole</th>\n",
       "      <th>BusinessTravelFrequency</th>\n",
       "      <th>DistanceFromHome</th>\n",
       "      <th>EmpEducationLevel</th>\n",
       "      <th>...</th>\n",
       "      <th>EmpRelationshipSatisfaction</th>\n",
       "      <th>TotalWorkExperienceInYears</th>\n",
       "      <th>TrainingTimesLastYear</th>\n",
       "      <th>EmpWorkLifeBalance</th>\n",
       "      <th>ExperienceYearsAtThisCompany</th>\n",
       "      <th>ExperienceYearsInCurrentRole</th>\n",
       "      <th>YearsSinceLastPromotion</th>\n",
       "      <th>YearsWithCurrManager</th>\n",
       "      <th>Attrition</th>\n",
       "      <th>PerformanceRating</th>\n",
       "    </tr>\n",
       "  </thead>\n",
       "  <tbody>\n",
       "    <tr>\n",
       "      <th>0</th>\n",
       "      <td>0</td>\n",
       "      <td>14</td>\n",
       "      <td>1</td>\n",
       "      <td>2</td>\n",
       "      <td>2</td>\n",
       "      <td>5</td>\n",
       "      <td>13</td>\n",
       "      <td>2</td>\n",
       "      <td>9</td>\n",
       "      <td>2</td>\n",
       "      <td>...</td>\n",
       "      <td>3</td>\n",
       "      <td>10</td>\n",
       "      <td>2</td>\n",
       "      <td>1</td>\n",
       "      <td>10</td>\n",
       "      <td>7</td>\n",
       "      <td>0</td>\n",
       "      <td>8</td>\n",
       "      <td>0</td>\n",
       "      <td>1</td>\n",
       "    </tr>\n",
       "    <tr>\n",
       "      <th>1</th>\n",
       "      <td>1</td>\n",
       "      <td>29</td>\n",
       "      <td>1</td>\n",
       "      <td>2</td>\n",
       "      <td>2</td>\n",
       "      <td>5</td>\n",
       "      <td>13</td>\n",
       "      <td>2</td>\n",
       "      <td>13</td>\n",
       "      <td>3</td>\n",
       "      <td>...</td>\n",
       "      <td>3</td>\n",
       "      <td>20</td>\n",
       "      <td>2</td>\n",
       "      <td>2</td>\n",
       "      <td>7</td>\n",
       "      <td>7</td>\n",
       "      <td>1</td>\n",
       "      <td>7</td>\n",
       "      <td>0</td>\n",
       "      <td>1</td>\n",
       "    </tr>\n",
       "    <tr>\n",
       "      <th>2</th>\n",
       "      <td>2</td>\n",
       "      <td>22</td>\n",
       "      <td>1</td>\n",
       "      <td>1</td>\n",
       "      <td>1</td>\n",
       "      <td>5</td>\n",
       "      <td>13</td>\n",
       "      <td>1</td>\n",
       "      <td>4</td>\n",
       "      <td>3</td>\n",
       "      <td>...</td>\n",
       "      <td>2</td>\n",
       "      <td>20</td>\n",
       "      <td>2</td>\n",
       "      <td>2</td>\n",
       "      <td>18</td>\n",
       "      <td>13</td>\n",
       "      <td>1</td>\n",
       "      <td>12</td>\n",
       "      <td>0</td>\n",
       "      <td>2</td>\n",
       "    </tr>\n",
       "    <tr>\n",
       "      <th>3</th>\n",
       "      <td>3</td>\n",
       "      <td>23</td>\n",
       "      <td>1</td>\n",
       "      <td>0</td>\n",
       "      <td>0</td>\n",
       "      <td>3</td>\n",
       "      <td>8</td>\n",
       "      <td>2</td>\n",
       "      <td>9</td>\n",
       "      <td>3</td>\n",
       "      <td>...</td>\n",
       "      <td>1</td>\n",
       "      <td>23</td>\n",
       "      <td>2</td>\n",
       "      <td>1</td>\n",
       "      <td>21</td>\n",
       "      <td>6</td>\n",
       "      <td>12</td>\n",
       "      <td>6</td>\n",
       "      <td>0</td>\n",
       "      <td>1</td>\n",
       "    </tr>\n",
       "    <tr>\n",
       "      <th>4</th>\n",
       "      <td>4</td>\n",
       "      <td>42</td>\n",
       "      <td>1</td>\n",
       "      <td>2</td>\n",
       "      <td>2</td>\n",
       "      <td>5</td>\n",
       "      <td>13</td>\n",
       "      <td>2</td>\n",
       "      <td>15</td>\n",
       "      <td>3</td>\n",
       "      <td>...</td>\n",
       "      <td>3</td>\n",
       "      <td>10</td>\n",
       "      <td>1</td>\n",
       "      <td>2</td>\n",
       "      <td>2</td>\n",
       "      <td>2</td>\n",
       "      <td>2</td>\n",
       "      <td>2</td>\n",
       "      <td>0</td>\n",
       "      <td>1</td>\n",
       "    </tr>\n",
       "  </tbody>\n",
       "</table>\n",
       "<p>5 rows × 28 columns</p>\n",
       "</div>"
      ],
      "text/plain": [
       "   EmpNumber  Age  Gender  EducationBackground  MaritalStatus  EmpDepartment  \\\n",
       "0          0   14       1                    2              2              5   \n",
       "1          1   29       1                    2              2              5   \n",
       "2          2   22       1                    1              1              5   \n",
       "3          3   23       1                    0              0              3   \n",
       "4          4   42       1                    2              2              5   \n",
       "\n",
       "   EmpJobRole  BusinessTravelFrequency  DistanceFromHome  EmpEducationLevel  \\\n",
       "0          13                        2                 9                  2   \n",
       "1          13                        2                13                  3   \n",
       "2          13                        1                 4                  3   \n",
       "3           8                        2                 9                  3   \n",
       "4          13                        2                15                  3   \n",
       "\n",
       "   ...  EmpRelationshipSatisfaction  TotalWorkExperienceInYears  \\\n",
       "0  ...                            3                          10   \n",
       "1  ...                            3                          20   \n",
       "2  ...                            2                          20   \n",
       "3  ...                            1                          23   \n",
       "4  ...                            3                          10   \n",
       "\n",
       "   TrainingTimesLastYear  EmpWorkLifeBalance  ExperienceYearsAtThisCompany  \\\n",
       "0                      2                   1                            10   \n",
       "1                      2                   2                             7   \n",
       "2                      2                   2                            18   \n",
       "3                      2                   1                            21   \n",
       "4                      1                   2                             2   \n",
       "\n",
       "   ExperienceYearsInCurrentRole  YearsSinceLastPromotion  \\\n",
       "0                             7                        0   \n",
       "1                             7                        1   \n",
       "2                            13                        1   \n",
       "3                             6                       12   \n",
       "4                             2                        2   \n",
       "\n",
       "   YearsWithCurrManager  Attrition  PerformanceRating  \n",
       "0                     8          0                  1  \n",
       "1                     7          0                  1  \n",
       "2                    12          0                  2  \n",
       "3                     6          0                  1  \n",
       "4                     2          0                  1  \n",
       "\n",
       "[5 rows x 28 columns]"
      ]
     },
     "execution_count": 58,
     "metadata": {},
     "output_type": "execute_result"
    }
   ],
   "source": [
    "newdf.head()"
   ]
  },
  {
   "cell_type": "code",
   "execution_count": 59,
   "metadata": {
    "id": "M0Bny72nfsIT"
   },
   "outputs": [],
   "source": [
    "target = newdf['PerformanceRating']\n",
    "train = newdf.drop(['PerformanceRating','EmpNumber'],axis=1).values"
   ]
  },
  {
   "cell_type": "code",
   "execution_count": 60,
   "metadata": {
    "id": "gkPG4LKIgO06"
   },
   "outputs": [],
   "source": [
    "x_train , x_test , y_train , y_test = train_test_split(train,target,test_size=0.2)"
   ]
  },
  {
   "cell_type": "code",
   "execution_count": 61,
   "metadata": {
    "id": "Pz58b3VJgYIh"
   },
   "outputs": [],
   "source": [
    "rfc = RandomForestClassifier()"
   ]
  },
  {
   "cell_type": "markdown",
   "metadata": {
    "id": "Y9fL1mfAp9yK"
   },
   "source": [
    "<h3>Fitting the data</h3>"
   ]
  },
  {
   "cell_type": "code",
   "execution_count": 62,
   "metadata": {
    "id": "udozp7SOgmUD"
   },
   "outputs": [],
   "source": [
    "rf_random = RandomizedSearchCV(estimator = rfc, param_distributions = random_grid, n_iter = 100, cv = 5, verbose=2, random_state=42, n_jobs = -1)"
   ]
  },
  {
   "cell_type": "code",
   "execution_count": 63,
   "metadata": {
    "colab": {
     "base_uri": "https://localhost:8080/",
     "height": 607
    },
    "id": "gN46-06cgsOb",
    "outputId": "1cd2a2de-e53b-4bb5-c073-29bbf70016e8"
   },
   "outputs": [
    {
     "name": "stdout",
     "output_type": "stream",
     "text": [
      "Fitting 5 folds for each of 100 candidates, totalling 500 fits\n"
     ]
    },
    {
     "name": "stderr",
     "output_type": "stream",
     "text": [
      "C:\\Users\\Anand\\.conda\\envs\\aimethodology\\lib\\site-packages\\sklearn\\ensemble\\_forest.py:427: FutureWarning: `max_features='auto'` has been deprecated in 1.1 and will be removed in 1.3. To keep the past behaviour, explicitly set `max_features='sqrt'` or remove this parameter as it is also the default value for RandomForestClassifiers and ExtraTreesClassifiers.\n",
      "  warn(\n"
     ]
    },
    {
     "data": {
      "text/html": [
       "<style>#sk-container-id-1 {color: black;background-color: white;}#sk-container-id-1 pre{padding: 0;}#sk-container-id-1 div.sk-toggleable {background-color: white;}#sk-container-id-1 label.sk-toggleable__label {cursor: pointer;display: block;width: 100%;margin-bottom: 0;padding: 0.3em;box-sizing: border-box;text-align: center;}#sk-container-id-1 label.sk-toggleable__label-arrow:before {content: \"▸\";float: left;margin-right: 0.25em;color: #696969;}#sk-container-id-1 label.sk-toggleable__label-arrow:hover:before {color: black;}#sk-container-id-1 div.sk-estimator:hover label.sk-toggleable__label-arrow:before {color: black;}#sk-container-id-1 div.sk-toggleable__content {max-height: 0;max-width: 0;overflow: hidden;text-align: left;background-color: #f0f8ff;}#sk-container-id-1 div.sk-toggleable__content pre {margin: 0.2em;color: black;border-radius: 0.25em;background-color: #f0f8ff;}#sk-container-id-1 input.sk-toggleable__control:checked~div.sk-toggleable__content {max-height: 200px;max-width: 100%;overflow: auto;}#sk-container-id-1 input.sk-toggleable__control:checked~label.sk-toggleable__label-arrow:before {content: \"▾\";}#sk-container-id-1 div.sk-estimator input.sk-toggleable__control:checked~label.sk-toggleable__label {background-color: #d4ebff;}#sk-container-id-1 div.sk-label input.sk-toggleable__control:checked~label.sk-toggleable__label {background-color: #d4ebff;}#sk-container-id-1 input.sk-hidden--visually {border: 0;clip: rect(1px 1px 1px 1px);clip: rect(1px, 1px, 1px, 1px);height: 1px;margin: -1px;overflow: hidden;padding: 0;position: absolute;width: 1px;}#sk-container-id-1 div.sk-estimator {font-family: monospace;background-color: #f0f8ff;border: 1px dotted black;border-radius: 0.25em;box-sizing: border-box;margin-bottom: 0.5em;}#sk-container-id-1 div.sk-estimator:hover {background-color: #d4ebff;}#sk-container-id-1 div.sk-parallel-item::after {content: \"\";width: 100%;border-bottom: 1px solid gray;flex-grow: 1;}#sk-container-id-1 div.sk-label:hover label.sk-toggleable__label {background-color: #d4ebff;}#sk-container-id-1 div.sk-serial::before {content: \"\";position: absolute;border-left: 1px solid gray;box-sizing: border-box;top: 0;bottom: 0;left: 50%;z-index: 0;}#sk-container-id-1 div.sk-serial {display: flex;flex-direction: column;align-items: center;background-color: white;padding-right: 0.2em;padding-left: 0.2em;position: relative;}#sk-container-id-1 div.sk-item {position: relative;z-index: 1;}#sk-container-id-1 div.sk-parallel {display: flex;align-items: stretch;justify-content: center;background-color: white;position: relative;}#sk-container-id-1 div.sk-item::before, #sk-container-id-1 div.sk-parallel-item::before {content: \"\";position: absolute;border-left: 1px solid gray;box-sizing: border-box;top: 0;bottom: 0;left: 50%;z-index: -1;}#sk-container-id-1 div.sk-parallel-item {display: flex;flex-direction: column;z-index: 1;position: relative;background-color: white;}#sk-container-id-1 div.sk-parallel-item:first-child::after {align-self: flex-end;width: 50%;}#sk-container-id-1 div.sk-parallel-item:last-child::after {align-self: flex-start;width: 50%;}#sk-container-id-1 div.sk-parallel-item:only-child::after {width: 0;}#sk-container-id-1 div.sk-dashed-wrapped {border: 1px dashed gray;margin: 0 0.4em 0.5em 0.4em;box-sizing: border-box;padding-bottom: 0.4em;background-color: white;}#sk-container-id-1 div.sk-label label {font-family: monospace;font-weight: bold;display: inline-block;line-height: 1.2em;}#sk-container-id-1 div.sk-label-container {text-align: center;}#sk-container-id-1 div.sk-container {/* jupyter's `normalize.less` sets `[hidden] { display: none; }` but bootstrap.min.css set `[hidden] { display: none !important; }` so we also need the `!important` here to be able to override the default hidden behavior on the sphinx rendered scikit-learn.org. See: https://github.com/scikit-learn/scikit-learn/issues/21755 */display: inline-block !important;position: relative;}#sk-container-id-1 div.sk-text-repr-fallback {display: none;}</style><div id=\"sk-container-id-1\" class=\"sk-top-container\"><div class=\"sk-text-repr-fallback\"><pre>RandomizedSearchCV(cv=5, estimator=RandomForestClassifier(), n_iter=100,\n",
       "                   n_jobs=-1,\n",
       "                   param_distributions={&#x27;bootstrap&#x27;: [True, False],\n",
       "                                        &#x27;max_depth&#x27;: [10, 20, 30, 40, 50, 60,\n",
       "                                                      70, 80, 90, 100, 110,\n",
       "                                                      None],\n",
       "                                        &#x27;max_features&#x27;: [&#x27;auto&#x27;, &#x27;sqrt&#x27;],\n",
       "                                        &#x27;min_samples_leaf&#x27;: [1, 2, 4],\n",
       "                                        &#x27;min_samples_split&#x27;: [2, 5, 10],\n",
       "                                        &#x27;n_estimators&#x27;: [200, 400, 600, 800,\n",
       "                                                         1000, 1200, 1400, 1600,\n",
       "                                                         1800, 2000]},\n",
       "                   random_state=42, verbose=2)</pre><b>In a Jupyter environment, please rerun this cell to show the HTML representation or trust the notebook. <br />On GitHub, the HTML representation is unable to render, please try loading this page with nbviewer.org.</b></div><div class=\"sk-container\" hidden><div class=\"sk-item sk-dashed-wrapped\"><div class=\"sk-label-container\"><div class=\"sk-label sk-toggleable\"><input class=\"sk-toggleable__control sk-hidden--visually\" id=\"sk-estimator-id-1\" type=\"checkbox\" ><label for=\"sk-estimator-id-1\" class=\"sk-toggleable__label sk-toggleable__label-arrow\">RandomizedSearchCV</label><div class=\"sk-toggleable__content\"><pre>RandomizedSearchCV(cv=5, estimator=RandomForestClassifier(), n_iter=100,\n",
       "                   n_jobs=-1,\n",
       "                   param_distributions={&#x27;bootstrap&#x27;: [True, False],\n",
       "                                        &#x27;max_depth&#x27;: [10, 20, 30, 40, 50, 60,\n",
       "                                                      70, 80, 90, 100, 110,\n",
       "                                                      None],\n",
       "                                        &#x27;max_features&#x27;: [&#x27;auto&#x27;, &#x27;sqrt&#x27;],\n",
       "                                        &#x27;min_samples_leaf&#x27;: [1, 2, 4],\n",
       "                                        &#x27;min_samples_split&#x27;: [2, 5, 10],\n",
       "                                        &#x27;n_estimators&#x27;: [200, 400, 600, 800,\n",
       "                                                         1000, 1200, 1400, 1600,\n",
       "                                                         1800, 2000]},\n",
       "                   random_state=42, verbose=2)</pre></div></div></div><div class=\"sk-parallel\"><div class=\"sk-parallel-item\"><div class=\"sk-item\"><div class=\"sk-label-container\"><div class=\"sk-label sk-toggleable\"><input class=\"sk-toggleable__control sk-hidden--visually\" id=\"sk-estimator-id-2\" type=\"checkbox\" ><label for=\"sk-estimator-id-2\" class=\"sk-toggleable__label sk-toggleable__label-arrow\">estimator: RandomForestClassifier</label><div class=\"sk-toggleable__content\"><pre>RandomForestClassifier()</pre></div></div></div><div class=\"sk-serial\"><div class=\"sk-item\"><div class=\"sk-estimator sk-toggleable\"><input class=\"sk-toggleable__control sk-hidden--visually\" id=\"sk-estimator-id-3\" type=\"checkbox\" ><label for=\"sk-estimator-id-3\" class=\"sk-toggleable__label sk-toggleable__label-arrow\">RandomForestClassifier</label><div class=\"sk-toggleable__content\"><pre>RandomForestClassifier()</pre></div></div></div></div></div></div></div></div></div></div>"
      ],
      "text/plain": [
       "RandomizedSearchCV(cv=5, estimator=RandomForestClassifier(), n_iter=100,\n",
       "                   n_jobs=-1,\n",
       "                   param_distributions={'bootstrap': [True, False],\n",
       "                                        'max_depth': [10, 20, 30, 40, 50, 60,\n",
       "                                                      70, 80, 90, 100, 110,\n",
       "                                                      None],\n",
       "                                        'max_features': ['auto', 'sqrt'],\n",
       "                                        'min_samples_leaf': [1, 2, 4],\n",
       "                                        'min_samples_split': [2, 5, 10],\n",
       "                                        'n_estimators': [200, 400, 600, 800,\n",
       "                                                         1000, 1200, 1400, 1600,\n",
       "                                                         1800, 2000]},\n",
       "                   random_state=42, verbose=2)"
      ]
     },
     "execution_count": 63,
     "metadata": {},
     "output_type": "execute_result"
    }
   ],
   "source": [
    "rf_random.fit(x_train,y_train)"
   ]
  },
  {
   "cell_type": "code",
   "execution_count": 64,
   "metadata": {
    "id": "hhzlk7hxgxRb"
   },
   "outputs": [],
   "source": [
    "predict = rf_random.predict(x_test)"
   ]
  },
  {
   "cell_type": "markdown",
   "metadata": {
    "id": "48tjKi0pupYl"
   },
   "source": [
    "<h2>Classification Report</h2>"
   ]
  },
  {
   "cell_type": "code",
   "execution_count": 65,
   "metadata": {
    "id": "aVD-iQT8yFgg"
   },
   "outputs": [],
   "source": [
    "from sklearn.metrics import accuracy_score"
   ]
  },
  {
   "cell_type": "code",
   "execution_count": 66,
   "metadata": {
    "colab": {
     "base_uri": "https://localhost:8080/",
     "height": 35
    },
    "id": "MPjtvcY7yHa-",
    "outputId": "def64abd-e8f9-4d46-ef82-c1c1c398a160"
   },
   "outputs": [
    {
     "name": "stdout",
     "output_type": "stream",
     "text": [
      "The accuracy score is : 95.0%\n"
     ]
    }
   ],
   "source": [
    "print (f\"The accuracy score is : {accuracy_score(y_test,predict)*100}%\")"
   ]
  },
  {
   "cell_type": "code",
   "execution_count": 67,
   "metadata": {
    "colab": {
     "base_uri": "https://localhost:8080/",
     "height": 191
    },
    "id": "4YFHuL5Qg4zH",
    "outputId": "a38e732d-00d4-40ff-8970-96daadb4ddb0"
   },
   "outputs": [
    {
     "name": "stdout",
     "output_type": "stream",
     "text": [
      "              precision    recall  f1-score   support\n",
      "\n",
      "           0       0.88      0.85      0.86        33\n",
      "           1       0.96      0.97      0.97       180\n",
      "           2       0.96      0.93      0.94        27\n",
      "\n",
      "    accuracy                           0.95       240\n",
      "   macro avg       0.93      0.92      0.92       240\n",
      "weighted avg       0.95      0.95      0.95       240\n",
      "\n"
     ]
    }
   ],
   "source": [
    "print (classification_report(y_test,predict))"
   ]
  },
  {
   "cell_type": "markdown",
   "metadata": {
    "id": "AFhvElEZt0zF"
   },
   "source": [
    "Our model has achieved a precision score of 90 & recall score of 90"
   ]
  },
  {
   "cell_type": "code",
   "execution_count": null,
   "metadata": {
    "id": "I0pJfnfG9ClT"
   },
   "outputs": [],
   "source": []
  },
  {
   "cell_type": "code",
   "execution_count": null,
   "metadata": {
    "colab": {
     "base_uri": "https://localhost:8080/",
     "height": 222
    },
    "id": "Pl2OFsNk9cG5",
    "outputId": "de347f9c-b557-483d-e5df-5d58bad81e14"
   },
   "outputs": [],
   "source": [
    "\n"
   ]
  },
  {
   "cell_type": "markdown",
   "metadata": {
    "id": "hilHgtsvt71Q"
   },
   "source": [
    "<h2>Recommendations</h2>"
   ]
  },
  {
   "cell_type": "markdown",
   "metadata": {
    "id": "-k_LcQUTt9uI"
   },
   "source": [
    "*   Improve the work environment for the employee's to get the feel of the work\n",
    "*   Ensuring that the employee's have work life balance.It's shown that employee's having a good balance have a good performance rating\n",
    "*   A Salary hike can motivate the employee's to have good performance rating.\n",
    "\n",
    "\n",
    "\n"
   ]
  },
  {
   "cell_type": "code",
   "execution_count": null,
   "metadata": {},
   "outputs": [],
   "source": []
  }
 ],
 "metadata": {
  "colab": {
   "collapsed_sections": [],
   "name": "Employee_perfomance_analysis_by_anand.ipynb",
   "provenance": []
  },
  "kernelspec": {
   "display_name": "Python 3 (ipykernel)",
   "language": "python",
   "name": "python3"
  },
  "language_info": {
   "codemirror_mode": {
    "name": "ipython",
    "version": 3
   },
   "file_extension": ".py",
   "mimetype": "text/x-python",
   "name": "python",
   "nbconvert_exporter": "python",
   "pygments_lexer": "ipython3",
   "version": "3.10.4"
  }
 },
 "nbformat": 4,
 "nbformat_minor": 1
}
