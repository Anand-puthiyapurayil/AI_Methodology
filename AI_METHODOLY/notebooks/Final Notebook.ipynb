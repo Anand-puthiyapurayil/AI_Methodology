{
 "cells": [
  {
   "cell_type": "code",
   "execution_count": 1,
   "id": "6250efb2",
   "metadata": {},
   "outputs": [],
   "source": [
    "from pathlib import Path\n",
    "\n",
    "\n",
    "import sys\n",
    "sys.path.append('..')"
   ]
  },
  {
   "cell_type": "code",
   "execution_count": null,
   "id": "9738fa0f",
   "metadata": {},
   "outputs": [],
   "source": [
    "\n"
   ]
  },
  {
   "cell_type": "code",
   "execution_count": 2,
   "id": "db0e810c",
   "metadata": {},
   "outputs": [],
   "source": [
    "import pandas as pd\n",
    "from sklearn.model_selection import train_test_split\n",
    "from joblib import dump,load\n",
    "from sklearn.ensemble import RandomForestClassifier\n",
    "from src.app.preprocess import preprocess\n",
    "from sklearn.metrics import classification_report\n",
    "from sklearn.metrics import accuracy_score\n",
    "from pathlib import Path\n",
    "DATA_DIR = Path(r'../../../AI_Methodology/AI_METHODOLY/data/external/')\n",
    "PREDICTION_DIR = Path(r'../../../AI_Methodology/AI_METHODOLY/data/Predictions/')\n",
    "MODEL_DIR=Path(r'../../../AI_Methodology/AI_METHODOLY/models/')\n",
    "df_master= pd.read_excel(DATA_DIR/\"Employee_Perfomance.xls\",index_col='EmpNumber')\n",
    "\n",
    "\n",
    "\n"
   ]
  },
  {
   "cell_type": "markdown",
   "id": "60b9545f",
   "metadata": {},
   "source": [
    "# Model evaluation and classification Report"
   ]
  },
  {
   "cell_type": "code",
   "execution_count": 3,
   "id": "38a87432",
   "metadata": {},
   "outputs": [],
   "source": [
    "def build_model(data: pd.DataFrame):\n",
    "    target = data['PerformanceRating']\n",
    "    train = data.drop(['PerformanceRating'], axis=1)\n",
    "    processedtrain= preprocess(train, MODEL_DIR)\n",
    "    x_train , x_test , y_train , y_test = train_test_split(processedtrain,target,test_size=0.2)\n",
    "    rfc = RandomForestClassifier(n_estimators=10000, random_state=0, n_jobs=-1)\n",
    "    rfc.fit(x_train, y_train)\n",
    "    dump(rfc,MODEL_DIR/'RFC.joblib')\n",
    "    predict = rfc.predict(x_test)\n",
    "    print(f\"The accuracy score is : {accuracy_score(y_test, predict) * 100}%\")\n",
    "    print (classification_report(y_test,predict))\n",
    "    return   "
   ]
  },
  {
   "cell_type": "code",
   "execution_count": 4,
   "id": "1fb1d7ba",
   "metadata": {},
   "outputs": [
    {
     "name": "stderr",
     "output_type": "stream",
     "text": [
      "C:\\Users\\Anand\\.conda\\envs\\aimethodology\\lib\\site-packages\\sklearn\\utils\\deprecation.py:87: FutureWarning: Function get_feature_names is deprecated; get_feature_names is deprecated in 1.0 and will be removed in 1.2. Please use get_feature_names_out instead.\n",
      "  warnings.warn(msg, category=FutureWarning)\n",
      "C:\\Users\\Anand\\.conda\\envs\\aimethodology\\lib\\site-packages\\sklearn\\utils\\validation.py:758: UserWarning: pandas.DataFrame with sparse columns found.It will be converted to a dense numpy array.\n",
      "  warnings.warn(\n",
      "C:\\Users\\Anand\\.conda\\envs\\aimethodology\\lib\\site-packages\\sklearn\\utils\\validation.py:758: UserWarning: pandas.DataFrame with sparse columns found.It will be converted to a dense numpy array.\n",
      "  warnings.warn(\n"
     ]
    },
    {
     "name": "stdout",
     "output_type": "stream",
     "text": [
      "The accuracy score is : 91.66666666666666%\n",
      "              precision    recall  f1-score   support\n",
      "\n",
      "           2       1.00      0.80      0.89        40\n",
      "           3       0.89      1.00      0.94       168\n",
      "           4       1.00      0.62      0.77        32\n",
      "\n",
      "    accuracy                           0.92       240\n",
      "   macro avg       0.96      0.81      0.87       240\n",
      "weighted avg       0.93      0.92      0.91       240\n",
      "\n"
     ]
    }
   ],
   "source": [
    "build_model(df_master)"
   ]
  },
  {
   "cell_type": "markdown",
   "id": "7972540f",
   "metadata": {},
   "source": [
    "# Predictions"
   ]
  },
  {
   "cell_type": "code",
   "execution_count": 5,
   "id": "5a72ab76",
   "metadata": {},
   "outputs": [],
   "source": [
    "def inference(data: pd.DataFrame):\n",
    "    target = data['PerformanceRating']\n",
    "    train = data.drop(['PerformanceRating'], axis=1)\n",
    "    processedtrain= preprocess(train, MODEL_DIR)\n",
    "    x_train , x_test , y_train , y_test = train_test_split(processedtrain,target,test_size=0.2)\n",
    "    \n",
    "    k=load(MODEL_DIR/'RFC.joblib')\n",
    "    predict = k.predict(x_test)\n",
    "    return predict"
   ]
  },
  {
   "cell_type": "code",
   "execution_count": 6,
   "id": "b8cf7391",
   "metadata": {},
   "outputs": [
    {
     "name": "stderr",
     "output_type": "stream",
     "text": [
      "C:\\Users\\Anand\\.conda\\envs\\aimethodology\\lib\\site-packages\\sklearn\\utils\\deprecation.py:87: FutureWarning: Function get_feature_names is deprecated; get_feature_names is deprecated in 1.0 and will be removed in 1.2. Please use get_feature_names_out instead.\n",
      "  warnings.warn(msg, category=FutureWarning)\n",
      "C:\\Users\\Anand\\.conda\\envs\\aimethodology\\lib\\site-packages\\sklearn\\utils\\validation.py:758: UserWarning: pandas.DataFrame with sparse columns found.It will be converted to a dense numpy array.\n",
      "  warnings.warn(\n"
     ]
    },
    {
     "data": {
      "text/plain": [
       "array([2, 2, 3, 3, 3, 3, 3, 4, 3, 3, 4, 4, 4, 4, 3, 3, 4, 3, 3, 3, 3, 3,\n",
       "       3, 3, 3, 3, 3, 3, 4, 3, 4, 3, 3, 3, 3, 3, 3, 3, 3, 3, 4, 3, 2, 3,\n",
       "       3, 3, 3, 3, 3, 4, 3, 4, 2, 3, 3, 3, 2, 3, 3, 3, 4, 3, 3, 3, 3, 3,\n",
       "       3, 3, 3, 3, 3, 2, 3, 3, 3, 3, 4, 3, 3, 3, 3, 2, 3, 3, 4, 3, 3, 3,\n",
       "       2, 3, 3, 3, 3, 2, 4, 3, 3, 3, 3, 3, 3, 2, 3, 2, 3, 3, 4, 3, 3, 2,\n",
       "       2, 3, 3, 4, 2, 3, 3, 3, 3, 2, 3, 3, 2, 3, 3, 3, 4, 3, 2, 3, 3, 3,\n",
       "       3, 3, 3, 3, 3, 4, 3, 3, 4, 4, 3, 3, 2, 3, 2, 3, 3, 3, 4, 3, 3, 3,\n",
       "       3, 3, 3, 3, 3, 3, 2, 2, 3, 3, 2, 3, 3, 3, 4, 3, 3, 3, 3, 3, 3, 3,\n",
       "       3, 3, 2, 3, 3, 3, 3, 3, 3, 3, 3, 3, 3, 2, 3, 3, 3, 3, 2, 2, 2, 2,\n",
       "       4, 3, 4, 3, 4, 4, 3, 3, 3, 3, 3, 3, 2, 3, 3, 2, 3, 3, 3, 3, 3, 3,\n",
       "       3, 3, 2, 3, 2, 3, 3, 2, 3, 3, 3, 4, 3, 3, 3, 3, 3, 3, 2, 3],\n",
       "      dtype=int64)"
      ]
     },
     "execution_count": 6,
     "metadata": {},
     "output_type": "execute_result"
    }
   ],
   "source": [
    "inference_pred=inference(df_master)\n",
    "inference_pred"
   ]
  },
  {
   "cell_type": "code",
   "execution_count": 7,
   "id": "c5aeaaed",
   "metadata": {},
   "outputs": [],
   "source": [
    "df = pd.DataFrame(inference_pred, columns = ['perfomance_rating'])\n",
    "submissiondf=df.rename_axis('Emp_ID').reset_index()"
   ]
  },
  {
   "cell_type": "code",
   "execution_count": 8,
   "id": "9323d2bf",
   "metadata": {},
   "outputs": [
    {
     "data": {
      "text/html": [
       "<div>\n",
       "<style scoped>\n",
       "    .dataframe tbody tr th:only-of-type {\n",
       "        vertical-align: middle;\n",
       "    }\n",
       "\n",
       "    .dataframe tbody tr th {\n",
       "        vertical-align: top;\n",
       "    }\n",
       "\n",
       "    .dataframe thead th {\n",
       "        text-align: right;\n",
       "    }\n",
       "</style>\n",
       "<table border=\"1\" class=\"dataframe\">\n",
       "  <thead>\n",
       "    <tr style=\"text-align: right;\">\n",
       "      <th></th>\n",
       "      <th>Emp_ID</th>\n",
       "      <th>perfomance_rating</th>\n",
       "    </tr>\n",
       "  </thead>\n",
       "  <tbody>\n",
       "    <tr>\n",
       "      <th>0</th>\n",
       "      <td>0</td>\n",
       "      <td>2</td>\n",
       "    </tr>\n",
       "    <tr>\n",
       "      <th>1</th>\n",
       "      <td>1</td>\n",
       "      <td>2</td>\n",
       "    </tr>\n",
       "    <tr>\n",
       "      <th>2</th>\n",
       "      <td>2</td>\n",
       "      <td>3</td>\n",
       "    </tr>\n",
       "    <tr>\n",
       "      <th>3</th>\n",
       "      <td>3</td>\n",
       "      <td>3</td>\n",
       "    </tr>\n",
       "    <tr>\n",
       "      <th>4</th>\n",
       "      <td>4</td>\n",
       "      <td>3</td>\n",
       "    </tr>\n",
       "    <tr>\n",
       "      <th>...</th>\n",
       "      <td>...</td>\n",
       "      <td>...</td>\n",
       "    </tr>\n",
       "    <tr>\n",
       "      <th>235</th>\n",
       "      <td>235</td>\n",
       "      <td>3</td>\n",
       "    </tr>\n",
       "    <tr>\n",
       "      <th>236</th>\n",
       "      <td>236</td>\n",
       "      <td>3</td>\n",
       "    </tr>\n",
       "    <tr>\n",
       "      <th>237</th>\n",
       "      <td>237</td>\n",
       "      <td>3</td>\n",
       "    </tr>\n",
       "    <tr>\n",
       "      <th>238</th>\n",
       "      <td>238</td>\n",
       "      <td>2</td>\n",
       "    </tr>\n",
       "    <tr>\n",
       "      <th>239</th>\n",
       "      <td>239</td>\n",
       "      <td>3</td>\n",
       "    </tr>\n",
       "  </tbody>\n",
       "</table>\n",
       "<p>240 rows × 2 columns</p>\n",
       "</div>"
      ],
      "text/plain": [
       "     Emp_ID  perfomance_rating\n",
       "0         0                  2\n",
       "1         1                  2\n",
       "2         2                  3\n",
       "3         3                  3\n",
       "4         4                  3\n",
       "..      ...                ...\n",
       "235     235                  3\n",
       "236     236                  3\n",
       "237     237                  3\n",
       "238     238                  2\n",
       "239     239                  3\n",
       "\n",
       "[240 rows x 2 columns]"
      ]
     },
     "execution_count": 8,
     "metadata": {},
     "output_type": "execute_result"
    }
   ],
   "source": [
    "submissiondf"
   ]
  },
  {
   "cell_type": "code",
   "execution_count": 9,
   "id": "e5422515",
   "metadata": {},
   "outputs": [],
   "source": [
    "submissiondf.to_csv(PREDICTION_DIR / 'submission.csv', index=False)"
   ]
  },
  {
   "cell_type": "code",
   "execution_count": null,
   "id": "fa996b2e",
   "metadata": {},
   "outputs": [],
   "source": []
  },
  {
   "cell_type": "code",
   "execution_count": null,
   "id": "fabec200",
   "metadata": {},
   "outputs": [],
   "source": []
  }
 ],
 "metadata": {
  "kernelspec": {
   "display_name": "Python 3 (ipykernel)",
   "language": "python",
   "name": "python3"
  },
  "language_info": {
   "codemirror_mode": {
    "name": "ipython",
    "version": 3
   },
   "file_extension": ".py",
   "mimetype": "text/x-python",
   "name": "python",
   "nbconvert_exporter": "python",
   "pygments_lexer": "ipython3",
   "version": "3.10.4"
  }
 },
 "nbformat": 4,
 "nbformat_minor": 5
}
